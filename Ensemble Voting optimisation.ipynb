{
 "cells": [
  {
   "cell_type": "markdown",
   "metadata": {},
   "source": [
    "Dans ce notebook ensemble voting sur lr, randomforest et lgbm optimisés précédament\n",
    "\n",
    "    * chargement du pipeline avec les 3 modèles et l'estimateur final\n",
    "\n",
    "    * optimisation des poids de l'estimateur final\n",
    "    \n",
    "    * évaluation de l'ensemble\n",
    "    \n",
    "    * enregistrement pour dashboard\n",
    "\n",
    "\n"
   ]
  },
  {
   "cell_type": "markdown",
   "metadata": {},
   "source": [
    "WORK IN PROGRESS\n",
    "\n",
    "finaliser le score sut test dans funstions.py\n",
    "\n",
    "changer lea affichages de scores par mean +- std\n",
    "\n",
    "recuperer les scores depuis run à la fin pour faire un tableau de scores identique à celui de voting mais dans les 3 autres notebooks"
   ]
  },
  {
   "cell_type": "markdown",
   "metadata": {},
   "source": [
    "# Imports"
   ]
  },
  {
   "cell_type": "code",
   "execution_count": 1,
   "metadata": {
    "ExecuteTime": {
     "end_time": "2021-06-15T17:30:46.292993Z",
     "start_time": "2021-06-15T17:30:40.864923Z"
    },
    "tags": []
   },
   "outputs": [],
   "source": [
    "# numpy and pandas for data manipulation\n",
    "import numpy as np\n",
    "import pandas as pd \n",
    "pd.set_option('display.max_row', 244)\n",
    "pd.set_option('display.max_column', 243)\n",
    "pd.set_option('display.max_colwidth', 50)\n",
    "\n",
    "# graphical libraries\n",
    "import matplotlib.pyplot as plt\n",
    "import seaborn as sns\n",
    "import plotly.express as px\n",
    "import plotly.offline as py\n",
    "import plotly.graph_objs as go\n",
    "\n",
    "\n",
    "# misc libaries\n",
    "import missingno as msno\n",
    "bleu = (70 / 255, 130 / 255, 180 / 255)\n",
    "# import dataprep.eda as eda\n",
    "import qgrid\n",
    "\n",
    "# File system manangement\n",
    "import os\n",
    "import joblib \n",
    "\n",
    "# Suppress warnings \n",
    "import warnings\n",
    "warnings.filterwarnings('ignore')"
   ]
  },
  {
   "cell_type": "code",
   "execution_count": 2,
   "metadata": {
    "ExecuteTime": {
     "end_time": "2021-06-15T17:30:46.481994Z",
     "start_time": "2021-06-15T17:30:46.294996Z"
    }
   },
   "outputs": [
    {
     "data": {
      "text/html": [
       "        <script type=\"text/javascript\">\n",
       "        window.PlotlyConfig = {MathJaxConfig: 'local'};\n",
       "        if (window.MathJax) {MathJax.Hub.Config({SVG: {font: \"STIX-Web\"}});}\n",
       "        if (typeof require !== 'undefined') {\n",
       "        require.undef(\"plotly\");\n",
       "        requirejs.config({\n",
       "            paths: {\n",
       "                'plotly': ['https://cdn.plot.ly/plotly-latest.min']\n",
       "            }\n",
       "        });\n",
       "        require(['plotly'], function(Plotly) {\n",
       "            window._Plotly = Plotly;\n",
       "        });\n",
       "        }\n",
       "        </script>\n",
       "        "
      ]
     },
     "metadata": {},
     "output_type": "display_data"
    },
    {
     "data": {
      "text/html": [
       "        <script type=\"text/javascript\">\n",
       "        window.PlotlyConfig = {MathJaxConfig: 'local'};\n",
       "        if (window.MathJax) {MathJax.Hub.Config({SVG: {font: \"STIX-Web\"}});}\n",
       "        if (typeof require !== 'undefined') {\n",
       "        require.undef(\"plotly\");\n",
       "        requirejs.config({\n",
       "            paths: {\n",
       "                'plotly': ['https://cdn.plot.ly/plotly-latest.min']\n",
       "            }\n",
       "        });\n",
       "        require(['plotly'], function(Plotly) {\n",
       "            window._Plotly = Plotly;\n",
       "        });\n",
       "        }\n",
       "        </script>\n",
       "        "
      ]
     },
     "metadata": {},
     "output_type": "display_data"
    },
    {
     "name": "stdout",
     "output_type": "stream",
     "text": [
      "Loading functions\n"
     ]
    },
    {
     "data": {
      "text/html": [
       "        <script type=\"text/javascript\">\n",
       "        window.PlotlyConfig = {MathJaxConfig: 'local'};\n",
       "        if (window.MathJax) {MathJax.Hub.Config({SVG: {font: \"STIX-Web\"}});}\n",
       "        if (typeof require !== 'undefined') {\n",
       "        require.undef(\"plotly\");\n",
       "        requirejs.config({\n",
       "            paths: {\n",
       "                'plotly': ['https://cdn.plot.ly/plotly-latest.min']\n",
       "            }\n",
       "        });\n",
       "        require(['plotly'], function(Plotly) {\n",
       "            window._Plotly = Plotly;\n",
       "        });\n",
       "        }\n",
       "        </script>\n",
       "        "
      ]
     },
     "metadata": {},
     "output_type": "display_data"
    },
    {
     "data": {
      "text/html": [
       "        <script type=\"text/javascript\">\n",
       "        window.PlotlyConfig = {MathJaxConfig: 'local'};\n",
       "        if (window.MathJax) {MathJax.Hub.Config({SVG: {font: \"STIX-Web\"}});}\n",
       "        if (typeof require !== 'undefined') {\n",
       "        require.undef(\"plotly\");\n",
       "        requirejs.config({\n",
       "            paths: {\n",
       "                'plotly': ['https://cdn.plot.ly/plotly-latest.min']\n",
       "            }\n",
       "        });\n",
       "        require(['plotly'], function(Plotly) {\n",
       "            window._Plotly = Plotly;\n",
       "        });\n",
       "        }\n",
       "        </script>\n",
       "        "
      ]
     },
     "metadata": {},
     "output_type": "display_data"
    }
   ],
   "source": [
    "%load_ext autoreload\n",
    "%autoreload 1\n",
    "%aimport Functions\n",
    "from Functions import *"
   ]
  },
  {
   "cell_type": "code",
   "execution_count": 3,
   "metadata": {
    "tags": []
   },
   "outputs": [],
   "source": [
    "# CONSTANTS\n",
    "\n",
    "ITERATIONS = 10\n",
    "\n",
    "JOBS = 1\n",
    "\n",
    "EDA = 'EDA 1-7 all features_aggregated'\n",
    "\n",
    "\n",
    "LOG = True\n",
    "\n",
    "RESUME = True\n",
    "ID_RUN = 'PROJ-30'"
   ]
  },
  {
   "cell_type": "markdown",
   "metadata": {},
   "source": [
    "# Log experiment to Neptune.ai"
   ]
  },
  {
   "cell_type": "code",
   "execution_count": 4,
   "metadata": {
    "tags": []
   },
   "outputs": [
    {
     "name": "stderr",
     "output_type": "stream",
     "text": [
      "Info (NVML): NVML Shared Library Not Found. GPU usage metrics may not be reported. For more information, see https://docs-legacy.neptune.ai/logging-and-managing-experiment-results/logging-experiment-data.html#hardware-consumption \n"
     ]
    },
    {
     "name": "stdout",
     "output_type": "stream",
     "text": [
      "https://app.neptune.ai/m.leroy975/Projet07/e/PROJ-30\n",
      "Remember to stop your run once you’ve finished logging your metadata (https://docs.neptune.ai/api-reference/run#stop). It will be stopped automatically only when the notebook kernel/interactive console is terminated.\n"
     ]
    }
   ],
   "source": [
    "import neptune.new as neptune\n",
    "# import neptunecontrib.monitoring.optuna as opt_utils\n",
    "import neptune.new.integrations.optuna as optuna_utils\n",
    "from neptune.new.types import File\n",
    "\n",
    "if LOG:\n",
    "    NEPTUNE_API_TOKEN=\"eyJhcGlfYWRkcmVzcyI6Imh0dHBzOi8vYXBwLm5lcHR1bmUuYWkiLCJhcGlfdXJsIjoiaHR0cHM6Ly9hcHAubmVwdHVuZS5haSIsImFwaV9rZXkiOiJkOTQ1YmNhNS1hZDYyLTRlYzQtYWU0Zi0xMjY0Yjg1MzBiMzEifQ==\"\n",
    "    # log to Neptune\n",
    "    if RESUME:\n",
    "        run = neptune.init(api_token=NEPTUNE_API_TOKEN,\n",
    "                           project='m.leroy975/Projet07',\n",
    "                           run=ID_RUN) # your credentials\n",
    "    else:\n",
    "        run = neptune.init(api_token=NEPTUNE_API_TOKEN,\n",
    "                           project='m.leroy975/Projet07') # your credentials\n",
    "        \n",
    "\n",
    "    neptune_callback = optuna_utils.NeptuneCallback(run,\n",
    "                                                    plots_update_freq=10,\n",
    "                                                    log_plot_param_importances=True)"
   ]
  },
  {
   "cell_type": "markdown",
   "metadata": {},
   "source": [
    "# Chargement des données\n",
    "\n",
    "\n"
   ]
  },
  {
   "cell_type": "code",
   "execution_count": 5,
   "metadata": {
    "ExecuteTime": {
     "end_time": "2021-06-15T17:30:46.578013Z",
     "start_time": "2021-06-15T17:30:46.499999Z"
    },
    "tags": []
   },
   "outputs": [],
   "source": [
    "# local run\n",
    "path='FEATURES/'\n",
    "features = joblib.load ( path+EDA+'.feat')\n",
    "\n",
    "# Kaggle run\n",
    "# path='../input/projet-07/' \n",
    "# features = joblib.load ( path+EDA+'.feat')\n",
    "\n",
    "if LOG:\n",
    "    # Name and hash of experiment features\n",
    "    run['Data/Version/Features'].log(EDA)\n",
    "    run['Data/Version/Features hash'].log(pd.util.hash_pandas_object(features))"
   ]
  },
  {
   "cell_type": "markdown",
   "metadata": {
    "ExecuteTime": {
     "end_time": "2021-05-25T14:39:39.317661Z",
     "start_time": "2021-05-25T14:39:39.296453Z"
    }
   },
   "source": [
    "Vérification du chargement"
   ]
  },
  {
   "cell_type": "code",
   "execution_count": 6,
   "metadata": {
    "ExecuteTime": {
     "end_time": "2021-06-15T17:30:49.520012Z",
     "start_time": "2021-06-15T17:30:46.580001Z"
    },
    "tags": []
   },
   "outputs": [
    {
     "data": {
      "text/plain": [
       "<AxesSubplot:>"
      ]
     },
     "execution_count": 6,
     "metadata": {},
     "output_type": "execute_result"
    },
    {
     "data": {
      "image/png": "[encoded data removed]",
      "text/plain": [
       "<Figure size 1800x720 with 2 Axes>"
      ]
     },
     "metadata": {
      "needs_background": "light"
     },
     "output_type": "display_data"
    }
   ],
   "source": [
    "msno.matrix(features)"
   ]
  },
  {
   "cell_type": "code",
   "execution_count": 7,
   "metadata": {
    "ExecuteTime": {
     "end_time": "2021-06-15T17:30:49.599017Z",
     "start_time": "2021-06-15T17:30:49.521996Z"
    },
    "tags": []
   },
   "outputs": [
    {
     "data": {
      "text/html": [
       "<div>\n",
       "<style scoped>\n",
       "    .dataframe tbody tr th:only-of-type {\n",
       "        vertical-align: middle;\n",
       "    }\n",
       "\n",
       "    .dataframe tbody tr th {\n",
       "        vertical-align: top;\n",
       "    }\n",
       "\n",
       "    .dataframe thead th {\n",
       "        text-align: right;\n",
       "    }\n",
       "</style>\n",
       "<table border=\"1\" class=\"dataframe\">\n",
       "  <thead>\n",
       "    <tr style=\"text-align: right;\">\n",
       "      <th></th>\n",
       "      <th>EXT_SOURCE_3</th>\n",
       "      <th>EXT_SOURCE_2</th>\n",
       "      <th>CREDIT_ACTIVE_Closed_MEAN</th>\n",
       "      <th>PREV_PREV_APP_XAP_MEAN</th>\n",
       "      <th>DAYS_WORKING_PER</th>\n",
       "      <th>GOODS_PRICE_EMP</th>\n",
       "      <th>FLAG_EMP_PHONE</th>\n",
       "      <th>PREV_DAYS_DECISION_MEAN</th>\n",
       "      <th>DAYS_CREDIT_ENDDATE_MEAN</th>\n",
       "      <th>AMT_CREDIT_DAYS_EMPLOYED_PERC</th>\n",
       "      <th>REG_CITY_NOT_WORK_CITY</th>\n",
       "      <th>DAYS_ID_PUBLISH</th>\n",
       "      <th>DAYS_ENDDATE_FACT_MEAN</th>\n",
       "      <th>PREV_CODE_REJECT_REASON_HC_MEAN</th>\n",
       "      <th>DAYS_LAST_PHONE_CHANGE</th>\n",
       "      <th>PREV_CODE_REJECT_REASON_SCOFR_MEAN</th>\n",
       "      <th>PREV_NAME_PRODUCT_TYPE_walk-in_MEAN</th>\n",
       "      <th>REGION_RATING_CLIENT</th>\n",
       "      <th>GOODS_PRICE_CREDIT_PER</th>\n",
       "      <th>MAX_DAYS_SOMETHING_CHANGED</th>\n",
       "      <th>CREDIT_ACTIVE_Active_MEAN</th>\n",
       "      <th>DAYS_BIRTH</th>\n",
       "      <th>TARGET</th>\n",
       "      <th>NAME_INCOME_TYPE_Working</th>\n",
       "      <th>NAME_EDUCATION_TYPE_Higher education</th>\n",
       "      <th>CODE_GENDER_M</th>\n",
       "      <th>CODE_GENDER_F</th>\n",
       "      <th>NAME_EDUCATION_TYPE_Secondary / secondary special</th>\n",
       "      <th>NAME_INCOME_TYPE_Pensioner</th>\n",
       "      <th>OCCUPATION_TYPE_Laborers</th>\n",
       "      <th>EMERGENCYSTATE_MODE_No</th>\n",
       "      <th>WALLSMATERIAL_MODE_Panel</th>\n",
       "      <th>NAME_CONTRACT_TYPE_Revolving loans</th>\n",
       "      <th>NAME_CONTRACT_TYPE_Cash loans</th>\n",
       "      <th>OCCUPATION_TYPE_Drivers</th>\n",
       "      <th>NAME_HOUSING_TYPE_With parents</th>\n",
       "      <th>ORGANIZATION_TYPE_Self-employed</th>\n",
       "      <th>NAME_HOUSING_TYPE_House / apartment</th>\n",
       "      <th>OCCUPATION_TYPE_Low-skill Laborers</th>\n",
       "      <th>NAME_FAMILY_STATUS_Single / not married</th>\n",
       "    </tr>\n",
       "    <tr>\n",
       "      <th>SK_ID_CURR</th>\n",
       "      <th></th>\n",
       "      <th></th>\n",
       "      <th></th>\n",
       "      <th></th>\n",
       "      <th></th>\n",
       "      <th></th>\n",
       "      <th></th>\n",
       "      <th></th>\n",
       "      <th></th>\n",
       "      <th></th>\n",
       "      <th></th>\n",
       "      <th></th>\n",
       "      <th></th>\n",
       "      <th></th>\n",
       "      <th></th>\n",
       "      <th></th>\n",
       "      <th></th>\n",
       "      <th></th>\n",
       "      <th></th>\n",
       "      <th></th>\n",
       "      <th></th>\n",
       "      <th></th>\n",
       "      <th></th>\n",
       "      <th></th>\n",
       "      <th></th>\n",
       "      <th></th>\n",
       "      <th></th>\n",
       "      <th></th>\n",
       "      <th></th>\n",
       "      <th></th>\n",
       "      <th></th>\n",
       "      <th></th>\n",
       "      <th></th>\n",
       "      <th></th>\n",
       "      <th></th>\n",
       "      <th></th>\n",
       "      <th></th>\n",
       "      <th></th>\n",
       "      <th></th>\n",
       "      <th></th>\n",
       "    </tr>\n",
       "  </thead>\n",
       "  <tbody>\n",
       "    <tr>\n",
       "      <th>100002</th>\n",
       "      <td>0.139376</td>\n",
       "      <td>0.262949</td>\n",
       "      <td>0.750000</td>\n",
       "      <td>1.00</td>\n",
       "      <td>0.067329</td>\n",
       "      <td>0.001815</td>\n",
       "      <td>1</td>\n",
       "      <td>-606.000000</td>\n",
       "      <td>-349.000000</td>\n",
       "      <td>-0.001567</td>\n",
       "      <td>0</td>\n",
       "      <td>-2120</td>\n",
       "      <td>-697.500000</td>\n",
       "      <td>0.00</td>\n",
       "      <td>-1134.0</td>\n",
       "      <td>0.0</td>\n",
       "      <td>0.00</td>\n",
       "      <td>2</td>\n",
       "      <td>1.158397</td>\n",
       "      <td>-637.0</td>\n",
       "      <td>0.250000</td>\n",
       "      <td>-9461</td>\n",
       "      <td>1</td>\n",
       "      <td>1</td>\n",
       "      <td>0</td>\n",
       "      <td>1</td>\n",
       "      <td>0</td>\n",
       "      <td>1</td>\n",
       "      <td>0</td>\n",
       "      <td>1</td>\n",
       "      <td>1</td>\n",
       "      <td>0</td>\n",
       "      <td>0</td>\n",
       "      <td>1</td>\n",
       "      <td>0</td>\n",
       "      <td>0</td>\n",
       "      <td>0</td>\n",
       "      <td>1</td>\n",
       "      <td>0</td>\n",
       "      <td>1</td>\n",
       "    </tr>\n",
       "    <tr>\n",
       "      <th>100004</th>\n",
       "      <td>0.729567</td>\n",
       "      <td>0.555912</td>\n",
       "      <td>1.000000</td>\n",
       "      <td>1.00</td>\n",
       "      <td>0.011814</td>\n",
       "      <td>0.001667</td>\n",
       "      <td>1</td>\n",
       "      <td>-815.000000</td>\n",
       "      <td>-488.500000</td>\n",
       "      <td>-0.001667</td>\n",
       "      <td>0</td>\n",
       "      <td>-2531</td>\n",
       "      <td>-532.500000</td>\n",
       "      <td>0.00</td>\n",
       "      <td>-815.0</td>\n",
       "      <td>0.0</td>\n",
       "      <td>0.00</td>\n",
       "      <td>2</td>\n",
       "      <td>1.000000</td>\n",
       "      <td>-225.0</td>\n",
       "      <td>0.000000</td>\n",
       "      <td>-19046</td>\n",
       "      <td>0</td>\n",
       "      <td>1</td>\n",
       "      <td>0</td>\n",
       "      <td>1</td>\n",
       "      <td>0</td>\n",
       "      <td>1</td>\n",
       "      <td>0</td>\n",
       "      <td>1</td>\n",
       "      <td>0</td>\n",
       "      <td>0</td>\n",
       "      <td>1</td>\n",
       "      <td>0</td>\n",
       "      <td>0</td>\n",
       "      <td>0</td>\n",
       "      <td>0</td>\n",
       "      <td>1</td>\n",
       "      <td>0</td>\n",
       "      <td>1</td>\n",
       "    </tr>\n",
       "    <tr>\n",
       "      <th>100008</th>\n",
       "      <td>0.621226</td>\n",
       "      <td>0.354225</td>\n",
       "      <td>0.666667</td>\n",
       "      <td>1.00</td>\n",
       "      <td>0.093737</td>\n",
       "      <td>0.003494</td>\n",
       "      <td>1</td>\n",
       "      <td>-1192.000000</td>\n",
       "      <td>-391.333333</td>\n",
       "      <td>-0.003238</td>\n",
       "      <td>0</td>\n",
       "      <td>-477</td>\n",
       "      <td>-909.000000</td>\n",
       "      <td>0.00</td>\n",
       "      <td>-2536.0</td>\n",
       "      <td>0.0</td>\n",
       "      <td>0.00</td>\n",
       "      <td>2</td>\n",
       "      <td>1.079198</td>\n",
       "      <td>-477.0</td>\n",
       "      <td>0.333333</td>\n",
       "      <td>-16941</td>\n",
       "      <td>0</td>\n",
       "      <td>0</td>\n",
       "      <td>0</td>\n",
       "      <td>1</td>\n",
       "      <td>0</td>\n",
       "      <td>1</td>\n",
       "      <td>0</td>\n",
       "      <td>1</td>\n",
       "      <td>0</td>\n",
       "      <td>0</td>\n",
       "      <td>0</td>\n",
       "      <td>1</td>\n",
       "      <td>0</td>\n",
       "      <td>0</td>\n",
       "      <td>0</td>\n",
       "      <td>1</td>\n",
       "      <td>0</td>\n",
       "      <td>0</td>\n",
       "    </tr>\n",
       "    <tr>\n",
       "      <th>100009</th>\n",
       "      <td>0.492060</td>\n",
       "      <td>0.724000</td>\n",
       "      <td>0.777778</td>\n",
       "      <td>1.00</td>\n",
       "      <td>0.227174</td>\n",
       "      <td>0.002244</td>\n",
       "      <td>1</td>\n",
       "      <td>-719.285714</td>\n",
       "      <td>-794.937500</td>\n",
       "      <td>-0.002005</td>\n",
       "      <td>0</td>\n",
       "      <td>-619</td>\n",
       "      <td>-1108.500000</td>\n",
       "      <td>0.00</td>\n",
       "      <td>-1562.0</td>\n",
       "      <td>0.0</td>\n",
       "      <td>0.00</td>\n",
       "      <td>2</td>\n",
       "      <td>1.118800</td>\n",
       "      <td>-619.0</td>\n",
       "      <td>0.222222</td>\n",
       "      <td>-13778</td>\n",
       "      <td>0</td>\n",
       "      <td>0</td>\n",
       "      <td>1</td>\n",
       "      <td>0</td>\n",
       "      <td>1</td>\n",
       "      <td>0</td>\n",
       "      <td>0</td>\n",
       "      <td>0</td>\n",
       "      <td>0</td>\n",
       "      <td>0</td>\n",
       "      <td>0</td>\n",
       "      <td>1</td>\n",
       "      <td>0</td>\n",
       "      <td>0</td>\n",
       "      <td>0</td>\n",
       "      <td>1</td>\n",
       "      <td>0</td>\n",
       "      <td>0</td>\n",
       "    </tr>\n",
       "    <tr>\n",
       "      <th>100010</th>\n",
       "      <td>0.540654</td>\n",
       "      <td>0.714279</td>\n",
       "      <td>0.500000</td>\n",
       "      <td>1.00</td>\n",
       "      <td>0.023820</td>\n",
       "      <td>0.000293</td>\n",
       "      <td>1</td>\n",
       "      <td>-1070.000000</td>\n",
       "      <td>-119.500000</td>\n",
       "      <td>-0.000293</td>\n",
       "      <td>1</td>\n",
       "      <td>-2379</td>\n",
       "      <td>-1138.000000</td>\n",
       "      <td>0.00</td>\n",
       "      <td>-1070.0</td>\n",
       "      <td>0.0</td>\n",
       "      <td>0.00</td>\n",
       "      <td>3</td>\n",
       "      <td>1.000000</td>\n",
       "      <td>-449.0</td>\n",
       "      <td>0.500000</td>\n",
       "      <td>-18850</td>\n",
       "      <td>0</td>\n",
       "      <td>0</td>\n",
       "      <td>1</td>\n",
       "      <td>1</td>\n",
       "      <td>0</td>\n",
       "      <td>0</td>\n",
       "      <td>0</td>\n",
       "      <td>0</td>\n",
       "      <td>0</td>\n",
       "      <td>0</td>\n",
       "      <td>0</td>\n",
       "      <td>1</td>\n",
       "      <td>0</td>\n",
       "      <td>0</td>\n",
       "      <td>0</td>\n",
       "      <td>1</td>\n",
       "      <td>0</td>\n",
       "      <td>0</td>\n",
       "    </tr>\n",
       "    <tr>\n",
       "      <th>...</th>\n",
       "      <td>...</td>\n",
       "      <td>...</td>\n",
       "      <td>...</td>\n",
       "      <td>...</td>\n",
       "      <td>...</td>\n",
       "      <td>...</td>\n",
       "      <td>...</td>\n",
       "      <td>...</td>\n",
       "      <td>...</td>\n",
       "      <td>...</td>\n",
       "      <td>...</td>\n",
       "      <td>...</td>\n",
       "      <td>...</td>\n",
       "      <td>...</td>\n",
       "      <td>...</td>\n",
       "      <td>...</td>\n",
       "      <td>...</td>\n",
       "      <td>...</td>\n",
       "      <td>...</td>\n",
       "      <td>...</td>\n",
       "      <td>...</td>\n",
       "      <td>...</td>\n",
       "      <td>...</td>\n",
       "      <td>...</td>\n",
       "      <td>...</td>\n",
       "      <td>...</td>\n",
       "      <td>...</td>\n",
       "      <td>...</td>\n",
       "      <td>...</td>\n",
       "      <td>...</td>\n",
       "      <td>...</td>\n",
       "      <td>...</td>\n",
       "      <td>...</td>\n",
       "      <td>...</td>\n",
       "      <td>...</td>\n",
       "      <td>...</td>\n",
       "      <td>...</td>\n",
       "      <td>...</td>\n",
       "      <td>...</td>\n",
       "      <td>...</td>\n",
       "    </tr>\n",
       "    <tr>\n",
       "      <th>456246</th>\n",
       "      <td>0.735221</td>\n",
       "      <td>0.313334</td>\n",
       "      <td>0.666667</td>\n",
       "      <td>1.00</td>\n",
       "      <td>0.543859</td>\n",
       "      <td>0.038827</td>\n",
       "      <td>1</td>\n",
       "      <td>-897.000000</td>\n",
       "      <td>-234.666667</td>\n",
       "      <td>-0.038827</td>\n",
       "      <td>1</td>\n",
       "      <td>-4531</td>\n",
       "      <td>-1331.000000</td>\n",
       "      <td>0.00</td>\n",
       "      <td>-1516.0</td>\n",
       "      <td>0.0</td>\n",
       "      <td>0.00</td>\n",
       "      <td>2</td>\n",
       "      <td>1.000000</td>\n",
       "      <td>-4531.0</td>\n",
       "      <td>0.333333</td>\n",
       "      <td>-16063</td>\n",
       "      <td>0</td>\n",
       "      <td>1</td>\n",
       "      <td>0</td>\n",
       "      <td>0</td>\n",
       "      <td>1</td>\n",
       "      <td>1</td>\n",
       "      <td>0</td>\n",
       "      <td>1</td>\n",
       "      <td>0</td>\n",
       "      <td>0</td>\n",
       "      <td>0</td>\n",
       "      <td>1</td>\n",
       "      <td>0</td>\n",
       "      <td>0</td>\n",
       "      <td>0</td>\n",
       "      <td>1</td>\n",
       "      <td>0</td>\n",
       "      <td>0</td>\n",
       "    </tr>\n",
       "    <tr>\n",
       "      <th>456247</th>\n",
       "      <td>0.609276</td>\n",
       "      <td>0.501221</td>\n",
       "      <td>0.727273</td>\n",
       "      <td>0.80</td>\n",
       "      <td>0.033614</td>\n",
       "      <td>0.001612</td>\n",
       "      <td>1</td>\n",
       "      <td>-1387.800000</td>\n",
       "      <td>1449.818182</td>\n",
       "      <td>-0.001155</td>\n",
       "      <td>0</td>\n",
       "      <td>-3936</td>\n",
       "      <td>-1085.000000</td>\n",
       "      <td>0.20</td>\n",
       "      <td>-2315.0</td>\n",
       "      <td>0.0</td>\n",
       "      <td>0.00</td>\n",
       "      <td>2</td>\n",
       "      <td>1.396000</td>\n",
       "      <td>-399.0</td>\n",
       "      <td>0.272727</td>\n",
       "      <td>-11870</td>\n",
       "      <td>0</td>\n",
       "      <td>0</td>\n",
       "      <td>1</td>\n",
       "      <td>0</td>\n",
       "      <td>1</td>\n",
       "      <td>0</td>\n",
       "      <td>0</td>\n",
       "      <td>0</td>\n",
       "      <td>0</td>\n",
       "      <td>0</td>\n",
       "      <td>0</td>\n",
       "      <td>1</td>\n",
       "      <td>0</td>\n",
       "      <td>0</td>\n",
       "      <td>0</td>\n",
       "      <td>1</td>\n",
       "      <td>0</td>\n",
       "      <td>1</td>\n",
       "    </tr>\n",
       "    <tr>\n",
       "      <th>456253</th>\n",
       "      <td>0.218859</td>\n",
       "      <td>0.535722</td>\n",
       "      <td>0.500000</td>\n",
       "      <td>1.00</td>\n",
       "      <td>0.529266</td>\n",
       "      <td>0.013540</td>\n",
       "      <td>1</td>\n",
       "      <td>-2380.000000</td>\n",
       "      <td>280.500000</td>\n",
       "      <td>-0.011689</td>\n",
       "      <td>1</td>\n",
       "      <td>-5150</td>\n",
       "      <td>-794.000000</td>\n",
       "      <td>0.00</td>\n",
       "      <td>-1909.0</td>\n",
       "      <td>0.0</td>\n",
       "      <td>0.00</td>\n",
       "      <td>3</td>\n",
       "      <td>1.158400</td>\n",
       "      <td>-5150.0</td>\n",
       "      <td>0.500000</td>\n",
       "      <td>-14966</td>\n",
       "      <td>0</td>\n",
       "      <td>1</td>\n",
       "      <td>1</td>\n",
       "      <td>0</td>\n",
       "      <td>1</td>\n",
       "      <td>0</td>\n",
       "      <td>0</td>\n",
       "      <td>0</td>\n",
       "      <td>1</td>\n",
       "      <td>1</td>\n",
       "      <td>0</td>\n",
       "      <td>1</td>\n",
       "      <td>0</td>\n",
       "      <td>0</td>\n",
       "      <td>0</td>\n",
       "      <td>1</td>\n",
       "      <td>0</td>\n",
       "      <td>0</td>\n",
       "    </tr>\n",
       "    <tr>\n",
       "      <th>456254</th>\n",
       "      <td>0.661024</td>\n",
       "      <td>0.514163</td>\n",
       "      <td>1.000000</td>\n",
       "      <td>1.00</td>\n",
       "      <td>0.400134</td>\n",
       "      <td>0.014980</td>\n",
       "      <td>1</td>\n",
       "      <td>-299.500000</td>\n",
       "      <td>-859.000000</td>\n",
       "      <td>-0.012931</td>\n",
       "      <td>1</td>\n",
       "      <td>-931</td>\n",
       "      <td>-859.000000</td>\n",
       "      <td>0.00</td>\n",
       "      <td>-322.0</td>\n",
       "      <td>0.0</td>\n",
       "      <td>0.00</td>\n",
       "      <td>2</td>\n",
       "      <td>1.158394</td>\n",
       "      <td>-931.0</td>\n",
       "      <td>0.000000</td>\n",
       "      <td>-11961</td>\n",
       "      <td>1</td>\n",
       "      <td>0</td>\n",
       "      <td>0</td>\n",
       "      <td>0</td>\n",
       "      <td>1</td>\n",
       "      <td>1</td>\n",
       "      <td>0</td>\n",
       "      <td>1</td>\n",
       "      <td>1</td>\n",
       "      <td>0</td>\n",
       "      <td>0</td>\n",
       "      <td>1</td>\n",
       "      <td>0</td>\n",
       "      <td>0</td>\n",
       "      <td>0</td>\n",
       "      <td>1</td>\n",
       "      <td>0</td>\n",
       "      <td>0</td>\n",
       "    </tr>\n",
       "    <tr>\n",
       "      <th>456255</th>\n",
       "      <td>0.113922</td>\n",
       "      <td>0.708569</td>\n",
       "      <td>0.545455</td>\n",
       "      <td>0.75</td>\n",
       "      <td>0.074869</td>\n",
       "      <td>0.001870</td>\n",
       "      <td>1</td>\n",
       "      <td>-587.625000</td>\n",
       "      <td>3231.272727</td>\n",
       "      <td>-0.001870</td>\n",
       "      <td>1</td>\n",
       "      <td>-410</td>\n",
       "      <td>-968.333333</td>\n",
       "      <td>0.25</td>\n",
       "      <td>-787.0</td>\n",
       "      <td>0.0</td>\n",
       "      <td>0.25</td>\n",
       "      <td>1</td>\n",
       "      <td>1.000000</td>\n",
       "      <td>-410.0</td>\n",
       "      <td>0.454545</td>\n",
       "      <td>-16856</td>\n",
       "      <td>0</td>\n",
       "      <td>0</td>\n",
       "      <td>1</td>\n",
       "      <td>0</td>\n",
       "      <td>1</td>\n",
       "      <td>0</td>\n",
       "      <td>0</td>\n",
       "      <td>1</td>\n",
       "      <td>1</td>\n",
       "      <td>1</td>\n",
       "      <td>0</td>\n",
       "      <td>1</td>\n",
       "      <td>0</td>\n",
       "      <td>0</td>\n",
       "      <td>0</td>\n",
       "      <td>1</td>\n",
       "      <td>0</td>\n",
       "      <td>0</td>\n",
       "    </tr>\n",
       "  </tbody>\n",
       "</table>\n",
       "<p>166163 rows × 40 columns</p>\n",
       "</div>"
      ],
      "text/plain": [
       "            EXT_SOURCE_3  EXT_SOURCE_2  CREDIT_ACTIVE_Closed_MEAN  \\\n",
       "SK_ID_CURR                                                          \n",
       "100002          0.139376      0.262949                   0.750000   \n",
       "100004          0.729567      0.555912                   1.000000   \n",
       "100008          0.621226      0.354225                   0.666667   \n",
       "100009          0.492060      0.724000                   0.777778   \n",
       "100010          0.540654      0.714279                   0.500000   \n",
       "...                  ...           ...                        ...   \n",
       "456246          0.735221      0.313334                   0.666667   \n",
       "456247          0.609276      0.501221                   0.727273   \n",
       "456253          0.218859      0.535722                   0.500000   \n",
       "456254          0.661024      0.514163                   1.000000   \n",
       "456255          0.113922      0.708569                   0.545455   \n",
       "\n",
       "            PREV_PREV_APP_XAP_MEAN  DAYS_WORKING_PER  GOODS_PRICE_EMP  \\\n",
       "SK_ID_CURR                                                              \n",
       "100002                        1.00          0.067329         0.001815   \n",
       "100004                        1.00          0.011814         0.001667   \n",
       "100008                        1.00          0.093737         0.003494   \n",
       "100009                        1.00          0.227174         0.002244   \n",
       "100010                        1.00          0.023820         0.000293   \n",
       "...                            ...               ...              ...   \n",
       "456246                        1.00          0.543859         0.038827   \n",
       "456247                        0.80          0.033614         0.001612   \n",
       "456253                        1.00          0.529266         0.013540   \n",
       "456254                        1.00          0.400134         0.014980   \n",
       "456255                        0.75          0.074869         0.001870   \n",
       "\n",
       "            FLAG_EMP_PHONE  PREV_DAYS_DECISION_MEAN  DAYS_CREDIT_ENDDATE_MEAN  \\\n",
       "SK_ID_CURR                                                                      \n",
       "100002                   1              -606.000000               -349.000000   \n",
       "100004                   1              -815.000000               -488.500000   \n",
       "100008                   1             -1192.000000               -391.333333   \n",
       "100009                   1              -719.285714               -794.937500   \n",
       "100010                   1             -1070.000000               -119.500000   \n",
       "...                    ...                      ...                       ...   \n",
       "456246                   1              -897.000000               -234.666667   \n",
       "456247                   1             -1387.800000               1449.818182   \n",
       "456253                   1             -2380.000000                280.500000   \n",
       "456254                   1              -299.500000               -859.000000   \n",
       "456255                   1              -587.625000               3231.272727   \n",
       "\n",
       "            AMT_CREDIT_DAYS_EMPLOYED_PERC  REG_CITY_NOT_WORK_CITY  \\\n",
       "SK_ID_CURR                                                          \n",
       "100002                          -0.001567                       0   \n",
       "100004                          -0.001667                       0   \n",
       "100008                          -0.003238                       0   \n",
       "100009                          -0.002005                       0   \n",
       "100010                          -0.000293                       1   \n",
       "...                                   ...                     ...   \n",
       "456246                          -0.038827                       1   \n",
       "456247                          -0.001155                       0   \n",
       "456253                          -0.011689                       1   \n",
       "456254                          -0.012931                       1   \n",
       "456255                          -0.001870                       1   \n",
       "\n",
       "            DAYS_ID_PUBLISH  DAYS_ENDDATE_FACT_MEAN  \\\n",
       "SK_ID_CURR                                            \n",
       "100002                -2120             -697.500000   \n",
       "100004                -2531             -532.500000   \n",
       "100008                 -477             -909.000000   \n",
       "100009                 -619            -1108.500000   \n",
       "100010                -2379            -1138.000000   \n",
       "...                     ...                     ...   \n",
       "456246                -4531            -1331.000000   \n",
       "456247                -3936            -1085.000000   \n",
       "456253                -5150             -794.000000   \n",
       "456254                 -931             -859.000000   \n",
       "456255                 -410             -968.333333   \n",
       "\n",
       "            PREV_CODE_REJECT_REASON_HC_MEAN  DAYS_LAST_PHONE_CHANGE  \\\n",
       "SK_ID_CURR                                                            \n",
       "100002                                 0.00                 -1134.0   \n",
       "100004                                 0.00                  -815.0   \n",
       "100008                                 0.00                 -2536.0   \n",
       "100009                                 0.00                 -1562.0   \n",
       "100010                                 0.00                 -1070.0   \n",
       "...                                     ...                     ...   \n",
       "456246                                 0.00                 -1516.0   \n",
       "456247                                 0.20                 -2315.0   \n",
       "456253                                 0.00                 -1909.0   \n",
       "456254                                 0.00                  -322.0   \n",
       "456255                                 0.25                  -787.0   \n",
       "\n",
       "            PREV_CODE_REJECT_REASON_SCOFR_MEAN  \\\n",
       "SK_ID_CURR                                       \n",
       "100002                                     0.0   \n",
       "100004                                     0.0   \n",
       "100008                                     0.0   \n",
       "100009                                     0.0   \n",
       "100010                                     0.0   \n",
       "...                                        ...   \n",
       "456246                                     0.0   \n",
       "456247                                     0.0   \n",
       "456253                                     0.0   \n",
       "456254                                     0.0   \n",
       "456255                                     0.0   \n",
       "\n",
       "            PREV_NAME_PRODUCT_TYPE_walk-in_MEAN  REGION_RATING_CLIENT  \\\n",
       "SK_ID_CURR                                                              \n",
       "100002                                     0.00                     2   \n",
       "100004                                     0.00                     2   \n",
       "100008                                     0.00                     2   \n",
       "100009                                     0.00                     2   \n",
       "100010                                     0.00                     3   \n",
       "...                                         ...                   ...   \n",
       "456246                                     0.00                     2   \n",
       "456247                                     0.00                     2   \n",
       "456253                                     0.00                     3   \n",
       "456254                                     0.00                     2   \n",
       "456255                                     0.25                     1   \n",
       "\n",
       "            GOODS_PRICE_CREDIT_PER  MAX_DAYS_SOMETHING_CHANGED  \\\n",
       "SK_ID_CURR                                                       \n",
       "100002                    1.158397                      -637.0   \n",
       "100004                    1.000000                      -225.0   \n",
       "100008                    1.079198                      -477.0   \n",
       "100009                    1.118800                      -619.0   \n",
       "100010                    1.000000                      -449.0   \n",
       "...                            ...                         ...   \n",
       "456246                    1.000000                     -4531.0   \n",
       "456247                    1.396000                      -399.0   \n",
       "456253                    1.158400                     -5150.0   \n",
       "456254                    1.158394                      -931.0   \n",
       "456255                    1.000000                      -410.0   \n",
       "\n",
       "            CREDIT_ACTIVE_Active_MEAN  DAYS_BIRTH  TARGET  \\\n",
       "SK_ID_CURR                                                  \n",
       "100002                       0.250000       -9461       1   \n",
       "100004                       0.000000      -19046       0   \n",
       "100008                       0.333333      -16941       0   \n",
       "100009                       0.222222      -13778       0   \n",
       "100010                       0.500000      -18850       0   \n",
       "...                               ...         ...     ...   \n",
       "456246                       0.333333      -16063       0   \n",
       "456247                       0.272727      -11870       0   \n",
       "456253                       0.500000      -14966       0   \n",
       "456254                       0.000000      -11961       1   \n",
       "456255                       0.454545      -16856       0   \n",
       "\n",
       "            NAME_INCOME_TYPE_Working  NAME_EDUCATION_TYPE_Higher education  \\\n",
       "SK_ID_CURR                                                                   \n",
       "100002                             1                                     0   \n",
       "100004                             1                                     0   \n",
       "100008                             0                                     0   \n",
       "100009                             0                                     1   \n",
       "100010                             0                                     1   \n",
       "...                              ...                                   ...   \n",
       "456246                             1                                     0   \n",
       "456247                             0                                     1   \n",
       "456253                             1                                     1   \n",
       "456254                             0                                     0   \n",
       "456255                             0                                     1   \n",
       "\n",
       "            CODE_GENDER_M  CODE_GENDER_F  \\\n",
       "SK_ID_CURR                                 \n",
       "100002                  1              0   \n",
       "100004                  1              0   \n",
       "100008                  1              0   \n",
       "100009                  0              1   \n",
       "100010                  1              0   \n",
       "...                   ...            ...   \n",
       "456246                  0              1   \n",
       "456247                  0              1   \n",
       "456253                  0              1   \n",
       "456254                  0              1   \n",
       "456255                  0              1   \n",
       "\n",
       "            NAME_EDUCATION_TYPE_Secondary / secondary special  \\\n",
       "SK_ID_CURR                                                      \n",
       "100002                                                      1   \n",
       "100004                                                      1   \n",
       "100008                                                      1   \n",
       "100009                                                      0   \n",
       "100010                                                      0   \n",
       "...                                                       ...   \n",
       "456246                                                      1   \n",
       "456247                                                      0   \n",
       "456253                                                      0   \n",
       "456254                                                      1   \n",
       "456255                                                      0   \n",
       "\n",
       "            NAME_INCOME_TYPE_Pensioner  OCCUPATION_TYPE_Laborers  \\\n",
       "SK_ID_CURR                                                         \n",
       "100002                               0                         1   \n",
       "100004                               0                         1   \n",
       "100008                               0                         1   \n",
       "100009                               0                         0   \n",
       "100010                               0                         0   \n",
       "...                                ...                       ...   \n",
       "456246                               0                         1   \n",
       "456247                               0                         0   \n",
       "456253                               0                         0   \n",
       "456254                               0                         1   \n",
       "456255                               0                         1   \n",
       "\n",
       "            EMERGENCYSTATE_MODE_No  WALLSMATERIAL_MODE_Panel  \\\n",
       "SK_ID_CURR                                                     \n",
       "100002                           1                         0   \n",
       "100004                           0                         0   \n",
       "100008                           0                         0   \n",
       "100009                           0                         0   \n",
       "100010                           0                         0   \n",
       "...                            ...                       ...   \n",
       "456246                           0                         0   \n",
       "456247                           0                         0   \n",
       "456253                           1                         1   \n",
       "456254                           1                         0   \n",
       "456255                           1                         1   \n",
       "\n",
       "            NAME_CONTRACT_TYPE_Revolving loans  NAME_CONTRACT_TYPE_Cash loans  \\\n",
       "SK_ID_CURR                                                                      \n",
       "100002                                       0                              1   \n",
       "100004                                       1                              0   \n",
       "100008                                       0                              1   \n",
       "100009                                       0                              1   \n",
       "100010                                       0                              1   \n",
       "...                                        ...                            ...   \n",
       "456246                                       0                              1   \n",
       "456247                                       0                              1   \n",
       "456253                                       0                              1   \n",
       "456254                                       0                              1   \n",
       "456255                                       0                              1   \n",
       "\n",
       "            OCCUPATION_TYPE_Drivers  NAME_HOUSING_TYPE_With parents  \\\n",
       "SK_ID_CURR                                                            \n",
       "100002                            0                               0   \n",
       "100004                            0                               0   \n",
       "100008                            0                               0   \n",
       "100009                            0                               0   \n",
       "100010                            0                               0   \n",
       "...                             ...                             ...   \n",
       "456246                            0                               0   \n",
       "456247                            0                               0   \n",
       "456253                            0                               0   \n",
       "456254                            0                               0   \n",
       "456255                            0                               0   \n",
       "\n",
       "            ORGANIZATION_TYPE_Self-employed  \\\n",
       "SK_ID_CURR                                    \n",
       "100002                                    0   \n",
       "100004                                    0   \n",
       "100008                                    0   \n",
       "100009                                    0   \n",
       "100010                                    0   \n",
       "...                                     ...   \n",
       "456246                                    0   \n",
       "456247                                    0   \n",
       "456253                                    0   \n",
       "456254                                    0   \n",
       "456255                                    0   \n",
       "\n",
       "            NAME_HOUSING_TYPE_House / apartment  \\\n",
       "SK_ID_CURR                                        \n",
       "100002                                        1   \n",
       "100004                                        1   \n",
       "100008                                        1   \n",
       "100009                                        1   \n",
       "100010                                        1   \n",
       "...                                         ...   \n",
       "456246                                        1   \n",
       "456247                                        1   \n",
       "456253                                        1   \n",
       "456254                                        1   \n",
       "456255                                        1   \n",
       "\n",
       "            OCCUPATION_TYPE_Low-skill Laborers  \\\n",
       "SK_ID_CURR                                       \n",
       "100002                                       0   \n",
       "100004                                       0   \n",
       "100008                                       0   \n",
       "100009                                       0   \n",
       "100010                                       0   \n",
       "...                                        ...   \n",
       "456246                                       0   \n",
       "456247                                       0   \n",
       "456253                                       0   \n",
       "456254                                       0   \n",
       "456255                                       0   \n",
       "\n",
       "            NAME_FAMILY_STATUS_Single / not married  \n",
       "SK_ID_CURR                                           \n",
       "100002                                            1  \n",
       "100004                                            1  \n",
       "100008                                            0  \n",
       "100009                                            0  \n",
       "100010                                            0  \n",
       "...                                             ...  \n",
       "456246                                            0  \n",
       "456247                                            1  \n",
       "456253                                            0  \n",
       "456254                                            0  \n",
       "456255                                            0  \n",
       "\n",
       "[166163 rows x 40 columns]"
      ]
     },
     "metadata": {},
     "output_type": "display_data"
    },
    {
     "name": "stdout",
     "output_type": "stream",
     "text": [
      "Features shape 166163 x 40\n",
      "TARGET ratio 8.55218459%\n",
      "Counter({0: 153072, 1: 13091})\n"
     ]
    }
   ],
   "source": [
    "# Features overwiew\n",
    "from collections import Counter\n",
    "\n",
    "display(features)\n",
    "print('Features shape {} x {}'.format(features.shape[0],features.shape[1]))\n",
    "# TARGET ration on whole dataset\n",
    "print('TARGET ratio {:.8%}'.format(features.TARGET.value_counts()[1]/features.TARGET.value_counts()[0]) )\n",
    "print(Counter(features.TARGET))"
   ]
  },
  {
   "cell_type": "code",
   "execution_count": 8,
   "metadata": {
    "ExecuteTime": {
     "end_time": "2021-06-15T17:30:50.142995Z",
     "start_time": "2021-06-15T17:30:49.600996Z"
    },
    "tags": []
   },
   "outputs": [
    {
     "data": {
      "text/html": [
       "<div>\n",
       "<style scoped>\n",
       "    .dataframe tbody tr th:only-of-type {\n",
       "        vertical-align: middle;\n",
       "    }\n",
       "\n",
       "    .dataframe tbody tr th {\n",
       "        vertical-align: top;\n",
       "    }\n",
       "\n",
       "    .dataframe thead th {\n",
       "        text-align: right;\n",
       "    }\n",
       "</style>\n",
       "<table border=\"1\" class=\"dataframe\">\n",
       "  <thead>\n",
       "    <tr style=\"text-align: right;\">\n",
       "      <th></th>\n",
       "      <th>EXT_SOURCE_3</th>\n",
       "      <th>EXT_SOURCE_2</th>\n",
       "      <th>CREDIT_ACTIVE_Closed_MEAN</th>\n",
       "      <th>PREV_PREV_APP_XAP_MEAN</th>\n",
       "      <th>DAYS_WORKING_PER</th>\n",
       "      <th>GOODS_PRICE_EMP</th>\n",
       "      <th>FLAG_EMP_PHONE</th>\n",
       "      <th>PREV_DAYS_DECISION_MEAN</th>\n",
       "      <th>DAYS_CREDIT_ENDDATE_MEAN</th>\n",
       "      <th>AMT_CREDIT_DAYS_EMPLOYED_PERC</th>\n",
       "      <th>REG_CITY_NOT_WORK_CITY</th>\n",
       "      <th>DAYS_ID_PUBLISH</th>\n",
       "      <th>DAYS_ENDDATE_FACT_MEAN</th>\n",
       "      <th>PREV_CODE_REJECT_REASON_HC_MEAN</th>\n",
       "      <th>DAYS_LAST_PHONE_CHANGE</th>\n",
       "      <th>PREV_CODE_REJECT_REASON_SCOFR_MEAN</th>\n",
       "      <th>PREV_NAME_PRODUCT_TYPE_walk-in_MEAN</th>\n",
       "      <th>REGION_RATING_CLIENT</th>\n",
       "      <th>GOODS_PRICE_CREDIT_PER</th>\n",
       "      <th>MAX_DAYS_SOMETHING_CHANGED</th>\n",
       "      <th>CREDIT_ACTIVE_Active_MEAN</th>\n",
       "      <th>DAYS_BIRTH</th>\n",
       "      <th>TARGET</th>\n",
       "      <th>NAME_INCOME_TYPE_Working</th>\n",
       "      <th>NAME_EDUCATION_TYPE_Higher education</th>\n",
       "      <th>CODE_GENDER_M</th>\n",
       "      <th>CODE_GENDER_F</th>\n",
       "      <th>NAME_EDUCATION_TYPE_Secondary / secondary special</th>\n",
       "      <th>NAME_INCOME_TYPE_Pensioner</th>\n",
       "      <th>OCCUPATION_TYPE_Laborers</th>\n",
       "      <th>EMERGENCYSTATE_MODE_No</th>\n",
       "      <th>WALLSMATERIAL_MODE_Panel</th>\n",
       "      <th>NAME_CONTRACT_TYPE_Revolving loans</th>\n",
       "      <th>NAME_CONTRACT_TYPE_Cash loans</th>\n",
       "      <th>OCCUPATION_TYPE_Drivers</th>\n",
       "      <th>NAME_HOUSING_TYPE_With parents</th>\n",
       "      <th>ORGANIZATION_TYPE_Self-employed</th>\n",
       "      <th>NAME_HOUSING_TYPE_House / apartment</th>\n",
       "      <th>OCCUPATION_TYPE_Low-skill Laborers</th>\n",
       "      <th>NAME_FAMILY_STATUS_Single / not married</th>\n",
       "    </tr>\n",
       "  </thead>\n",
       "  <tbody>\n",
       "    <tr>\n",
       "      <th>count</th>\n",
       "      <td>166163.000000</td>\n",
       "      <td>166163.000000</td>\n",
       "      <td>166163.000000</td>\n",
       "      <td>166163.000000</td>\n",
       "      <td>166163.000000</td>\n",
       "      <td>166163.000000</td>\n",
       "      <td>166163.000000</td>\n",
       "      <td>166163.000000</td>\n",
       "      <td>166163.000000</td>\n",
       "      <td>166163.000000</td>\n",
       "      <td>166163.000000</td>\n",
       "      <td>166163.000000</td>\n",
       "      <td>166163.000000</td>\n",
       "      <td>166163.000000</td>\n",
       "      <td>166163.000000</td>\n",
       "      <td>166163.000000</td>\n",
       "      <td>166163.000000</td>\n",
       "      <td>166163.000000</td>\n",
       "      <td>166163.000000</td>\n",
       "      <td>166163.000000</td>\n",
       "      <td>166163.000000</td>\n",
       "      <td>166163.000000</td>\n",
       "      <td>166163.000000</td>\n",
       "      <td>166163.000000</td>\n",
       "      <td>166163.000000</td>\n",
       "      <td>166163.000000</td>\n",
       "      <td>166163.000000</td>\n",
       "      <td>166163.000000</td>\n",
       "      <td>166163.000000</td>\n",
       "      <td>166163.000000</td>\n",
       "      <td>166163.000000</td>\n",
       "      <td>166163.00000</td>\n",
       "      <td>166163.000000</td>\n",
       "      <td>166163.000000</td>\n",
       "      <td>166163.000000</td>\n",
       "      <td>166163.000000</td>\n",
       "      <td>166163.000000</td>\n",
       "      <td>166163.000000</td>\n",
       "      <td>166163.000000</td>\n",
       "      <td>166163.000000</td>\n",
       "    </tr>\n",
       "    <tr>\n",
       "      <th>mean</th>\n",
       "      <td>0.510259</td>\n",
       "      <td>0.522641</td>\n",
       "      <td>0.653382</td>\n",
       "      <td>0.862464</td>\n",
       "      <td>0.167314</td>\n",
       "      <td>0.007263</td>\n",
       "      <td>0.999958</td>\n",
       "      <td>-960.526239</td>\n",
       "      <td>530.347564</td>\n",
       "      <td>-0.006515</td>\n",
       "      <td>0.269284</td>\n",
       "      <td>-2930.141831</td>\n",
       "      <td>-948.384656</td>\n",
       "      <td>0.061699</td>\n",
       "      <td>-1068.938759</td>\n",
       "      <td>0.005888</td>\n",
       "      <td>0.081658</td>\n",
       "      <td>2.055151</td>\n",
       "      <td>1.121981</td>\n",
       "      <td>-1432.243454</td>\n",
       "      <td>0.342889</td>\n",
       "      <td>-15032.930021</td>\n",
       "      <td>0.078784</td>\n",
       "      <td>0.634377</td>\n",
       "      <td>0.268225</td>\n",
       "      <td>0.363884</td>\n",
       "      <td>0.636116</td>\n",
       "      <td>0.687837</td>\n",
       "      <td>0.000048</td>\n",
       "      <td>0.217287</td>\n",
       "      <td>0.525767</td>\n",
       "      <td>0.21784</td>\n",
       "      <td>0.093137</td>\n",
       "      <td>0.906863</td>\n",
       "      <td>0.072525</td>\n",
       "      <td>0.052081</td>\n",
       "      <td>0.142926</td>\n",
       "      <td>0.883241</td>\n",
       "      <td>0.006927</td>\n",
       "      <td>0.136553</td>\n",
       "    </tr>\n",
       "    <tr>\n",
       "      <th>std</th>\n",
       "      <td>0.194887</td>\n",
       "      <td>0.186316</td>\n",
       "      <td>0.224895</td>\n",
       "      <td>0.197720</td>\n",
       "      <td>0.138020</td>\n",
       "      <td>0.011067</td>\n",
       "      <td>0.006490</td>\n",
       "      <td>568.589438</td>\n",
       "      <td>2591.832795</td>\n",
       "      <td>0.009935</td>\n",
       "      <td>0.443589</td>\n",
       "      <td>1485.695073</td>\n",
       "      <td>512.261883</td>\n",
       "      <td>0.133157</td>\n",
       "      <td>825.088565</td>\n",
       "      <td>0.043194</td>\n",
       "      <td>0.177448</td>\n",
       "      <td>0.499676</td>\n",
       "      <td>0.124815</td>\n",
       "      <td>1181.057628</td>\n",
       "      <td>0.223962</td>\n",
       "      <td>3555.417425</td>\n",
       "      <td>0.269402</td>\n",
       "      <td>0.481606</td>\n",
       "      <td>0.443036</td>\n",
       "      <td>0.481117</td>\n",
       "      <td>0.481117</td>\n",
       "      <td>0.463377</td>\n",
       "      <td>0.006939</td>\n",
       "      <td>0.412401</td>\n",
       "      <td>0.499337</td>\n",
       "      <td>0.41278</td>\n",
       "      <td>0.290626</td>\n",
       "      <td>0.290626</td>\n",
       "      <td>0.259356</td>\n",
       "      <td>0.222192</td>\n",
       "      <td>0.349998</td>\n",
       "      <td>0.321134</td>\n",
       "      <td>0.082940</td>\n",
       "      <td>0.343376</td>\n",
       "    </tr>\n",
       "    <tr>\n",
       "      <th>min</th>\n",
       "      <td>0.000527</td>\n",
       "      <td>0.000010</td>\n",
       "      <td>0.000000</td>\n",
       "      <td>0.000000</td>\n",
       "      <td>0.000042</td>\n",
       "      <td>0.000002</td>\n",
       "      <td>0.000000</td>\n",
       "      <td>-2922.000000</td>\n",
       "      <td>-28039.000000</td>\n",
       "      <td>-0.256178</td>\n",
       "      <td>0.000000</td>\n",
       "      <td>-7197.000000</td>\n",
       "      <td>-2884.000000</td>\n",
       "      <td>0.000000</td>\n",
       "      <td>-4173.000000</td>\n",
       "      <td>0.000000</td>\n",
       "      <td>0.000000</td>\n",
       "      <td>1.000000</td>\n",
       "      <td>0.150000</td>\n",
       "      <td>-6226.000000</td>\n",
       "      <td>0.000000</td>\n",
       "      <td>-25200.000000</td>\n",
       "      <td>0.000000</td>\n",
       "      <td>0.000000</td>\n",
       "      <td>0.000000</td>\n",
       "      <td>0.000000</td>\n",
       "      <td>0.000000</td>\n",
       "      <td>0.000000</td>\n",
       "      <td>0.000000</td>\n",
       "      <td>0.000000</td>\n",
       "      <td>0.000000</td>\n",
       "      <td>0.00000</td>\n",
       "      <td>0.000000</td>\n",
       "      <td>0.000000</td>\n",
       "      <td>0.000000</td>\n",
       "      <td>0.000000</td>\n",
       "      <td>0.000000</td>\n",
       "      <td>0.000000</td>\n",
       "      <td>0.000000</td>\n",
       "      <td>0.000000</td>\n",
       "    </tr>\n",
       "    <tr>\n",
       "      <th>25%</th>\n",
       "      <td>0.370650</td>\n",
       "      <td>0.411550</td>\n",
       "      <td>0.500000</td>\n",
       "      <td>0.750000</td>\n",
       "      <td>0.061776</td>\n",
       "      <td>0.001720</td>\n",
       "      <td>1.000000</td>\n",
       "      <td>-1297.000000</td>\n",
       "      <td>-711.000000</td>\n",
       "      <td>-0.007465</td>\n",
       "      <td>0.000000</td>\n",
       "      <td>-4239.000000</td>\n",
       "      <td>-1269.500000</td>\n",
       "      <td>0.000000</td>\n",
       "      <td>-1684.000000</td>\n",
       "      <td>0.000000</td>\n",
       "      <td>0.000000</td>\n",
       "      <td>2.000000</td>\n",
       "      <td>1.000000</td>\n",
       "      <td>-2094.000000</td>\n",
       "      <td>0.187500</td>\n",
       "      <td>-17721.000000</td>\n",
       "      <td>0.000000</td>\n",
       "      <td>0.000000</td>\n",
       "      <td>0.000000</td>\n",
       "      <td>0.000000</td>\n",
       "      <td>0.000000</td>\n",
       "      <td>0.000000</td>\n",
       "      <td>0.000000</td>\n",
       "      <td>0.000000</td>\n",
       "      <td>0.000000</td>\n",
       "      <td>0.00000</td>\n",
       "      <td>0.000000</td>\n",
       "      <td>1.000000</td>\n",
       "      <td>0.000000</td>\n",
       "      <td>0.000000</td>\n",
       "      <td>0.000000</td>\n",
       "      <td>1.000000</td>\n",
       "      <td>0.000000</td>\n",
       "      <td>0.000000</td>\n",
       "    </tr>\n",
       "    <tr>\n",
       "      <th>50%</th>\n",
       "      <td>0.537070</td>\n",
       "      <td>0.573477</td>\n",
       "      <td>0.666667</td>\n",
       "      <td>1.000000</td>\n",
       "      <td>0.130265</td>\n",
       "      <td>0.003899</td>\n",
       "      <td>1.000000</td>\n",
       "      <td>-845.375000</td>\n",
       "      <td>-197.000000</td>\n",
       "      <td>-0.003506</td>\n",
       "      <td>0.000000</td>\n",
       "      <td>-3076.000000</td>\n",
       "      <td>-916.000000</td>\n",
       "      <td>0.000000</td>\n",
       "      <td>-929.000000</td>\n",
       "      <td>0.000000</td>\n",
       "      <td>0.000000</td>\n",
       "      <td>2.000000</td>\n",
       "      <td>1.118800</td>\n",
       "      <td>-1094.000000</td>\n",
       "      <td>0.333333</td>\n",
       "      <td>-14834.000000</td>\n",
       "      <td>0.000000</td>\n",
       "      <td>1.000000</td>\n",
       "      <td>0.000000</td>\n",
       "      <td>0.000000</td>\n",
       "      <td>1.000000</td>\n",
       "      <td>1.000000</td>\n",
       "      <td>0.000000</td>\n",
       "      <td>0.000000</td>\n",
       "      <td>1.000000</td>\n",
       "      <td>0.00000</td>\n",
       "      <td>0.000000</td>\n",
       "      <td>1.000000</td>\n",
       "      <td>0.000000</td>\n",
       "      <td>0.000000</td>\n",
       "      <td>0.000000</td>\n",
       "      <td>1.000000</td>\n",
       "      <td>0.000000</td>\n",
       "      <td>0.000000</td>\n",
       "    </tr>\n",
       "    <tr>\n",
       "      <th>75%</th>\n",
       "      <td>0.667458</td>\n",
       "      <td>0.666053</td>\n",
       "      <td>0.800000</td>\n",
       "      <td>1.000000</td>\n",
       "      <td>0.234367</td>\n",
       "      <td>0.008310</td>\n",
       "      <td>1.000000</td>\n",
       "      <td>-512.422619</td>\n",
       "      <td>505.950000</td>\n",
       "      <td>-0.001541</td>\n",
       "      <td>1.000000</td>\n",
       "      <td>-1696.000000</td>\n",
       "      <td>-565.633333</td>\n",
       "      <td>0.000000</td>\n",
       "      <td>-376.000000</td>\n",
       "      <td>0.000000</td>\n",
       "      <td>0.083333</td>\n",
       "      <td>2.000000</td>\n",
       "      <td>1.198000</td>\n",
       "      <td>-495.000000</td>\n",
       "      <td>0.500000</td>\n",
       "      <td>-12168.500000</td>\n",
       "      <td>0.000000</td>\n",
       "      <td>1.000000</td>\n",
       "      <td>1.000000</td>\n",
       "      <td>1.000000</td>\n",
       "      <td>1.000000</td>\n",
       "      <td>1.000000</td>\n",
       "      <td>0.000000</td>\n",
       "      <td>0.000000</td>\n",
       "      <td>1.000000</td>\n",
       "      <td>0.00000</td>\n",
       "      <td>0.000000</td>\n",
       "      <td>1.000000</td>\n",
       "      <td>0.000000</td>\n",
       "      <td>0.000000</td>\n",
       "      <td>0.000000</td>\n",
       "      <td>1.000000</td>\n",
       "      <td>0.000000</td>\n",
       "      <td>0.000000</td>\n",
       "    </tr>\n",
       "    <tr>\n",
       "      <th>max</th>\n",
       "      <td>0.885488</td>\n",
       "      <td>0.855000</td>\n",
       "      <td>1.000000</td>\n",
       "      <td>1.000000</td>\n",
       "      <td>0.728811</td>\n",
       "      <td>0.256178</td>\n",
       "      <td>1.000000</td>\n",
       "      <td>-2.000000</td>\n",
       "      <td>31186.000000</td>\n",
       "      <td>-0.000001</td>\n",
       "      <td>1.000000</td>\n",
       "      <td>0.000000</td>\n",
       "      <td>-1.000000</td>\n",
       "      <td>1.000000</td>\n",
       "      <td>0.000000</td>\n",
       "      <td>0.833333</td>\n",
       "      <td>1.000000</td>\n",
       "      <td>3.000000</td>\n",
       "      <td>6.000000</td>\n",
       "      <td>0.000000</td>\n",
       "      <td>1.000000</td>\n",
       "      <td>-7680.000000</td>\n",
       "      <td>1.000000</td>\n",
       "      <td>1.000000</td>\n",
       "      <td>1.000000</td>\n",
       "      <td>1.000000</td>\n",
       "      <td>1.000000</td>\n",
       "      <td>1.000000</td>\n",
       "      <td>1.000000</td>\n",
       "      <td>1.000000</td>\n",
       "      <td>1.000000</td>\n",
       "      <td>1.00000</td>\n",
       "      <td>1.000000</td>\n",
       "      <td>1.000000</td>\n",
       "      <td>1.000000</td>\n",
       "      <td>1.000000</td>\n",
       "      <td>1.000000</td>\n",
       "      <td>1.000000</td>\n",
       "      <td>1.000000</td>\n",
       "      <td>1.000000</td>\n",
       "    </tr>\n",
       "  </tbody>\n",
       "</table>\n",
       "</div>"
      ],
      "text/plain": [
       "        EXT_SOURCE_3   EXT_SOURCE_2  CREDIT_ACTIVE_Closed_MEAN  \\\n",
       "count  166163.000000  166163.000000              166163.000000   \n",
       "mean        0.510259       0.522641                   0.653382   \n",
       "std         0.194887       0.186316                   0.224895   \n",
       "min         0.000527       0.000010                   0.000000   \n",
       "25%         0.370650       0.411550                   0.500000   \n",
       "50%         0.537070       0.573477                   0.666667   \n",
       "75%         0.667458       0.666053                   0.800000   \n",
       "max         0.885488       0.855000                   1.000000   \n",
       "\n",
       "       PREV_PREV_APP_XAP_MEAN  DAYS_WORKING_PER  GOODS_PRICE_EMP  \\\n",
       "count           166163.000000     166163.000000    166163.000000   \n",
       "mean                 0.862464          0.167314         0.007263   \n",
       "std                  0.197720          0.138020         0.011067   \n",
       "min                  0.000000          0.000042         0.000002   \n",
       "25%                  0.750000          0.061776         0.001720   \n",
       "50%                  1.000000          0.130265         0.003899   \n",
       "75%                  1.000000          0.234367         0.008310   \n",
       "max                  1.000000          0.728811         0.256178   \n",
       "\n",
       "       FLAG_EMP_PHONE  PREV_DAYS_DECISION_MEAN  DAYS_CREDIT_ENDDATE_MEAN  \\\n",
       "count   166163.000000            166163.000000             166163.000000   \n",
       "mean         0.999958              -960.526239                530.347564   \n",
       "std          0.006490               568.589438               2591.832795   \n",
       "min          0.000000             -2922.000000             -28039.000000   \n",
       "25%          1.000000             -1297.000000               -711.000000   \n",
       "50%          1.000000              -845.375000               -197.000000   \n",
       "75%          1.000000              -512.422619                505.950000   \n",
       "max          1.000000                -2.000000              31186.000000   \n",
       "\n",
       "       AMT_CREDIT_DAYS_EMPLOYED_PERC  REG_CITY_NOT_WORK_CITY  DAYS_ID_PUBLISH  \\\n",
       "count                  166163.000000           166163.000000    166163.000000   \n",
       "mean                       -0.006515                0.269284     -2930.141831   \n",
       "std                         0.009935                0.443589      1485.695073   \n",
       "min                        -0.256178                0.000000     -7197.000000   \n",
       "25%                        -0.007465                0.000000     -4239.000000   \n",
       "50%                        -0.003506                0.000000     -3076.000000   \n",
       "75%                        -0.001541                1.000000     -1696.000000   \n",
       "max                        -0.000001                1.000000         0.000000   \n",
       "\n",
       "       DAYS_ENDDATE_FACT_MEAN  PREV_CODE_REJECT_REASON_HC_MEAN  \\\n",
       "count           166163.000000                    166163.000000   \n",
       "mean              -948.384656                         0.061699   \n",
       "std                512.261883                         0.133157   \n",
       "min              -2884.000000                         0.000000   \n",
       "25%              -1269.500000                         0.000000   \n",
       "50%               -916.000000                         0.000000   \n",
       "75%               -565.633333                         0.000000   \n",
       "max                 -1.000000                         1.000000   \n",
       "\n",
       "       DAYS_LAST_PHONE_CHANGE  PREV_CODE_REJECT_REASON_SCOFR_MEAN  \\\n",
       "count           166163.000000                       166163.000000   \n",
       "mean             -1068.938759                            0.005888   \n",
       "std                825.088565                            0.043194   \n",
       "min              -4173.000000                            0.000000   \n",
       "25%              -1684.000000                            0.000000   \n",
       "50%               -929.000000                            0.000000   \n",
       "75%               -376.000000                            0.000000   \n",
       "max                  0.000000                            0.833333   \n",
       "\n",
       "       PREV_NAME_PRODUCT_TYPE_walk-in_MEAN  REGION_RATING_CLIENT  \\\n",
       "count                        166163.000000         166163.000000   \n",
       "mean                              0.081658              2.055151   \n",
       "std                               0.177448              0.499676   \n",
       "min                               0.000000              1.000000   \n",
       "25%                               0.000000              2.000000   \n",
       "50%                               0.000000              2.000000   \n",
       "75%                               0.083333              2.000000   \n",
       "max                               1.000000              3.000000   \n",
       "\n",
       "       GOODS_PRICE_CREDIT_PER  MAX_DAYS_SOMETHING_CHANGED  \\\n",
       "count           166163.000000               166163.000000   \n",
       "mean                 1.121981                -1432.243454   \n",
       "std                  0.124815                 1181.057628   \n",
       "min                  0.150000                -6226.000000   \n",
       "25%                  1.000000                -2094.000000   \n",
       "50%                  1.118800                -1094.000000   \n",
       "75%                  1.198000                 -495.000000   \n",
       "max                  6.000000                    0.000000   \n",
       "\n",
       "       CREDIT_ACTIVE_Active_MEAN     DAYS_BIRTH         TARGET  \\\n",
       "count              166163.000000  166163.000000  166163.000000   \n",
       "mean                    0.342889  -15032.930021       0.078784   \n",
       "std                     0.223962    3555.417425       0.269402   \n",
       "min                     0.000000  -25200.000000       0.000000   \n",
       "25%                     0.187500  -17721.000000       0.000000   \n",
       "50%                     0.333333  -14834.000000       0.000000   \n",
       "75%                     0.500000  -12168.500000       0.000000   \n",
       "max                     1.000000   -7680.000000       1.000000   \n",
       "\n",
       "       NAME_INCOME_TYPE_Working  NAME_EDUCATION_TYPE_Higher education  \\\n",
       "count             166163.000000                         166163.000000   \n",
       "mean                   0.634377                              0.268225   \n",
       "std                    0.481606                              0.443036   \n",
       "min                    0.000000                              0.000000   \n",
       "25%                    0.000000                              0.000000   \n",
       "50%                    1.000000                              0.000000   \n",
       "75%                    1.000000                              1.000000   \n",
       "max                    1.000000                              1.000000   \n",
       "\n",
       "       CODE_GENDER_M  CODE_GENDER_F  \\\n",
       "count  166163.000000  166163.000000   \n",
       "mean        0.363884       0.636116   \n",
       "std         0.481117       0.481117   \n",
       "min         0.000000       0.000000   \n",
       "25%         0.000000       0.000000   \n",
       "50%         0.000000       1.000000   \n",
       "75%         1.000000       1.000000   \n",
       "max         1.000000       1.000000   \n",
       "\n",
       "       NAME_EDUCATION_TYPE_Secondary / secondary special  \\\n",
       "count                                      166163.000000   \n",
       "mean                                            0.687837   \n",
       "std                                             0.463377   \n",
       "min                                             0.000000   \n",
       "25%                                             0.000000   \n",
       "50%                                             1.000000   \n",
       "75%                                             1.000000   \n",
       "max                                             1.000000   \n",
       "\n",
       "       NAME_INCOME_TYPE_Pensioner  OCCUPATION_TYPE_Laborers  \\\n",
       "count               166163.000000             166163.000000   \n",
       "mean                     0.000048                  0.217287   \n",
       "std                      0.006939                  0.412401   \n",
       "min                      0.000000                  0.000000   \n",
       "25%                      0.000000                  0.000000   \n",
       "50%                      0.000000                  0.000000   \n",
       "75%                      0.000000                  0.000000   \n",
       "max                      1.000000                  1.000000   \n",
       "\n",
       "       EMERGENCYSTATE_MODE_No  WALLSMATERIAL_MODE_Panel  \\\n",
       "count           166163.000000              166163.00000   \n",
       "mean                 0.525767                   0.21784   \n",
       "std                  0.499337                   0.41278   \n",
       "min                  0.000000                   0.00000   \n",
       "25%                  0.000000                   0.00000   \n",
       "50%                  1.000000                   0.00000   \n",
       "75%                  1.000000                   0.00000   \n",
       "max                  1.000000                   1.00000   \n",
       "\n",
       "       NAME_CONTRACT_TYPE_Revolving loans  NAME_CONTRACT_TYPE_Cash loans  \\\n",
       "count                       166163.000000                  166163.000000   \n",
       "mean                             0.093137                       0.906863   \n",
       "std                              0.290626                       0.290626   \n",
       "min                              0.000000                       0.000000   \n",
       "25%                              0.000000                       1.000000   \n",
       "50%                              0.000000                       1.000000   \n",
       "75%                              0.000000                       1.000000   \n",
       "max                              1.000000                       1.000000   \n",
       "\n",
       "       OCCUPATION_TYPE_Drivers  NAME_HOUSING_TYPE_With parents  \\\n",
       "count            166163.000000                   166163.000000   \n",
       "mean                  0.072525                        0.052081   \n",
       "std                   0.259356                        0.222192   \n",
       "min                   0.000000                        0.000000   \n",
       "25%                   0.000000                        0.000000   \n",
       "50%                   0.000000                        0.000000   \n",
       "75%                   0.000000                        0.000000   \n",
       "max                   1.000000                        1.000000   \n",
       "\n",
       "       ORGANIZATION_TYPE_Self-employed  NAME_HOUSING_TYPE_House / apartment  \\\n",
       "count                    166163.000000                        166163.000000   \n",
       "mean                          0.142926                             0.883241   \n",
       "std                           0.349998                             0.321134   \n",
       "min                           0.000000                             0.000000   \n",
       "25%                           0.000000                             1.000000   \n",
       "50%                           0.000000                             1.000000   \n",
       "75%                           0.000000                             1.000000   \n",
       "max                           1.000000                             1.000000   \n",
       "\n",
       "       OCCUPATION_TYPE_Low-skill Laborers  \\\n",
       "count                       166163.000000   \n",
       "mean                             0.006927   \n",
       "std                              0.082940   \n",
       "min                              0.000000   \n",
       "25%                              0.000000   \n",
       "50%                              0.000000   \n",
       "75%                              0.000000   \n",
       "max                              1.000000   \n",
       "\n",
       "       NAME_FAMILY_STATUS_Single / not married  \n",
       "count                            166163.000000  \n",
       "mean                                  0.136553  \n",
       "std                                   0.343376  \n",
       "min                                   0.000000  \n",
       "25%                                   0.000000  \n",
       "50%                                   0.000000  \n",
       "75%                                   0.000000  \n",
       "max                                   1.000000  "
      ]
     },
     "execution_count": 8,
     "metadata": {},
     "output_type": "execute_result"
    }
   ],
   "source": [
    "# Descriptive Statistics of features\n",
    "features.describe()"
   ]
  },
  {
   "cell_type": "markdown",
   "metadata": {},
   "source": [
    "# SPLITTING"
   ]
  },
  {
   "cell_type": "code",
   "execution_count": 9,
   "metadata": {
    "ExecuteTime": {
     "end_time": "2021-06-15T17:30:50.399016Z",
     "start_time": "2021-06-15T17:30:50.144996Z"
    },
    "tags": []
   },
   "outputs": [
    {
     "name": "stdout",
     "output_type": "stream",
     "text": [
      "train (132930, 39)\n",
      "TARGET=1 ratio on train 8.55238982%\n",
      "test (33233, 39)\n",
      "TARGET=1 ratio on test 8.55136371%\n"
     ]
    }
   ],
   "source": [
    "from sklearn.model_selection import train_test_split\n",
    "\n",
    "train, test = train_test_split(features,\n",
    "                               test_size=.20,\n",
    "                               random_state=42,\n",
    "                               shuffle=True,\n",
    "                               stratify=features.TARGET)\n",
    "\n",
    "train_true = train.pop('TARGET')\n",
    "print('train',train.shape)\n",
    "print('TARGET=1 ratio on train {:.8%}'.format(train_true.value_counts()[1]/train_true.value_counts()[0]) )\n",
    "test_true = test.pop('TARGET')\n",
    "print('test',test.shape)\n",
    "print('TARGET=1 ratio on test {:.8%}'.format(test_true.value_counts()[1]/test_true.value_counts()[0]))"
   ]
  },
  {
   "cell_type": "raw",
   "metadata": {},
   "source": [
    "# Train and Test used for models hyperparameters optimisation\n",
    "# just trying to have similar target ratios on voting optimization sets\n",
    "\n",
    "train (132930, 39)\n",
    "TARGET=1 ratio on train 8.55238982%\n",
    "test (33233, 39)\n",
    "TARGET=1 ratio on test 8.55136371%"
   ]
  },
  {
   "cell_type": "code",
   "execution_count": 10,
   "metadata": {
    "tags": []
   },
   "outputs": [],
   "source": [
    "if LOG:\n",
    "    run['Data/Version/Train shape'].log(str(train.shape))\n",
    "    run['Data/Version/Train target ratio'].log(train_true.value_counts()[1]/train_true.value_counts()[0])\n",
    "    run['Data/Version/Test shape'].log(str(test.shape))\n",
    "    run['Data/Version/Test target ratio'].log(test_true.value_counts()[1]/test_true.value_counts()[0])"
   ]
  },
  {
   "cell_type": "markdown",
   "metadata": {},
   "source": [
    "# Chargement du modèle voting"
   ]
  },
  {
   "cell_type": "code",
   "execution_count": 11,
   "metadata": {
    "ExecuteTime": {
     "end_time": "2021-06-15T17:30:50.415011Z",
     "start_time": "2021-06-15T17:30:50.400017Z"
    },
    "tags": []
   },
   "outputs": [
    {
     "data": {
      "text/plain": [
       "{'estimators': [('lr',\n",
       "   Pipeline(steps=[('over',\n",
       "                    RandomOverSampler(random_state=42,\n",
       "                                      sampling_strategy=0.12496392540669532)),\n",
       "                   ('under',\n",
       "                    RandomUnderSampler(random_state=42,\n",
       "                                       sampling_strategy=0.24875704537691895)),\n",
       "                   ('scaler', RobustScaler(unit_variance=True)),\n",
       "                   ('model',\n",
       "                    LogisticRegression(C=387.7896540335958,\n",
       "                                       class_weight='balanced', max_iter=5000,\n",
       "                                       n_jobs=-1, random_state=42,\n",
       "                                       tol=2.4770441141413036e-05))])),\n",
       "  ('rf',\n",
       "   Pipeline(steps=[('over',\n",
       "                    RandomOverSampler(random_state=42,\n",
       "                                      sampling_strategy=0.12356267384192812)),\n",
       "                   ('under',\n",
       "                    RandomUnderSampler(random_state=42,\n",
       "                                       sampling_strategy=0.21626040815249795)),\n",
       "                   ('scaler',\n",
       "                    QuantileTransformer(n_quantiles=10000,\n",
       "                                        output_distribution='normal',\n",
       "                                        random_state=42)),\n",
       "                   ('model',\n",
       "                    RandomForestClassifier(class_weight='balanced', max_depth=7,\n",
       "                                           max_features='log2', n_estimators=180,\n",
       "                                           n_jobs=-1, oob_score=True,\n",
       "                                           random_state=42))])),\n",
       "  ('lgbm',\n",
       "   Pipeline(steps=[('over',\n",
       "                    RandomOverSampler(random_state=42,\n",
       "                                      sampling_strategy=0.0924650767958674)),\n",
       "                   ('under',\n",
       "                    RandomUnderSampler(random_state=42,\n",
       "                                       sampling_strategy=0.10247232272916434)),\n",
       "                   ('scaler',\n",
       "                    QuantileTransformer(n_quantiles=10000,\n",
       "                                        output_distribution='normal',\n",
       "                                        random_state=42)),\n",
       "                   ('model',\n",
       "                    LGBMClassifier(boosting_type='dart', class_weight='balanced',\n",
       "                                   importance_type='gain',\n",
       "                                   learning_rate=0.7132707614188026, max_depth=8,\n",
       "                                   metric='binary_logloss',\n",
       "                                   min_split_gain=0.5460401638083019,\n",
       "                                   n_estimators=185, objective='binary',\n",
       "                                   random_state=42, reg_alpha=63.53249436638803,\n",
       "                                   reg_lambda=11.075030110904528,\n",
       "                                   subsample=0.08269078501941346,\n",
       "                                   subsample_for_bin=10000))]))],\n",
       " 'flatten_transform': True,\n",
       " 'n_jobs': 4,\n",
       " 'verbose': False,\n",
       " 'voting': 'soft',\n",
       " 'weights': None}"
      ]
     },
     "metadata": {},
     "output_type": "display_data"
    }
   ],
   "source": [
    "voting = joblib.load ('Models/voting_classifier.mod')\n",
    "display(voting.get_params(deep=False))\n",
    "if LOG:\n",
    "    # Name and hash of experiment features\n",
    "    run['Modele/Name'] = 'Voting Classifier'"
   ]
  },
  {
   "cell_type": "markdown",
   "metadata": {},
   "source": [
    "###  Metrics¶"
   ]
  },
  {
   "cell_type": "code",
   "execution_count": 12,
   "metadata": {
    "ExecuteTime": {
     "end_time": "2021-06-17T18:05:07.427655Z",
     "start_time": "2021-06-17T18:05:07.414655Z"
    },
    "tags": []
   },
   "outputs": [],
   "source": [
    "from sklearn.metrics import  confusion_matrix, make_scorer, roc_auc_score\n",
    " #accuracy_score,f1_score,fbeta_score,hamming_loss,log_loss,zero_one_loss\n",
    "# TN_value = 2  ; FN_value = -5\n",
    "# FP_value = -60  ; TP_value = 24\n",
    "\n",
    "\n",
    "# Cost weight\n",
    "tn_cost = 2  ; fn_cost = -5\n",
    "fp_cost = -6  ; tp_cost = 1\n",
    "\n",
    "penalty = np.array([tn_cost,fn_cost,fp_cost,tp_cost])\n",
    "\n",
    "# cost function\n",
    "def cost(y,y_pred):\n",
    "    cm = confusion_matrix(y,y_pred,normalize='true')\n",
    "#     print(cm)\n",
    "\n",
    "#     return  sum( cm.reshape(-1)*penalty)\n",
    "    return  (sum( cm.reshape(-1)*penalty)+11)/14\n",
    "\n",
    "SCORER = {'AUC' : 'roc_auc', 'COST' : make_scorer(cost)}"
   ]
  },
  {
   "cell_type": "markdown",
   "metadata": {},
   "source": [
    "## Optimisation des poids"
   ]
  },
  {
   "cell_type": "code",
   "execution_count": 13,
   "metadata": {
    "ExecuteTime": {
     "end_time": "2021-06-15T17:30:50.430997Z",
     "start_time": "2021-06-15T17:30:50.416996Z"
    },
    "tags": []
   },
   "outputs": [],
   "source": [
    "from sklearn.model_selection import StratifiedKFold, cross_validate, cross_val_score\n",
    "cv = StratifiedKFold(n_splits=5, random_state=42, shuffle=True)"
   ]
  },
  {
   "cell_type": "markdown",
   "metadata": {},
   "source": [
    "## Recherche de la combinaison optimale"
   ]
  },
  {
   "cell_type": "code",
   "execution_count": 14,
   "metadata": {
    "ExecuteTime": {
     "end_time": "2021-06-15T18:45:56.493637Z",
     "start_time": "2021-06-15T18:45:56.476612Z"
    },
    "tags": []
   },
   "outputs": [],
   "source": [
    "### fonction to maximize\n",
    "from sklearn.model_selection import cross_validate\n",
    "from sklearn.base import clone\n",
    "\n",
    "def Opt_search(trial):\n",
    "    # the function gets a set of variable parameters in \"param\"\n",
    "    # we use theses params to set pipeline params\n",
    "    \n",
    "    # Initialize params\n",
    "    params = {}\n",
    "    trial_voting = clone(voting)\n",
    "    \n",
    "    # Logistic regression weight\n",
    "    lr_weight = trial.suggest_float('lr_weight', 0, 1)  # MODIFIE\n",
    "    \n",
    "    # Random Forest weight\n",
    "    rf_weight = trial.suggest_float('rf_weight', 0, 1)  # MODIFIE\n",
    "    \n",
    "    # LGBM weight\n",
    "    lgbm_weight = trial.suggest_float('lgbm_weight', 0, 1)  # MODIFIE\n",
    "    \n",
    "    params['weights'] = [lr_weight, rf_weight, lgbm_weight]\n",
    "#     print('> params >>',params)\n",
    "    \n",
    "    # we use theses params to set pipeline params\n",
    "    trial_voting.set_params(**params)\n",
    "    \n",
    "#     print('> get params>>',trial_voting.get_params(deep=False))\n",
    "               \n",
    "    # score\n",
    "    score = cross_validate(trial_voting,\n",
    "                           train,\n",
    "                           train_true,\n",
    "                           scoring=SCORER,\n",
    "                           n_jobs=1,\n",
    "                           cv=cv)\n",
    "    \n",
    "    print('> cv cost score mean: %.4f (\\u00B1 %.4f) <> roc auc score mean: %.4f (\\u00B1 %.4f) < ' % (\n",
    "                                                                                        score['test_COST'].mean(),\n",
    "                                                                                        score['test_COST'].std(),\n",
    "                                                                                        score['test_AUC'].mean(),\n",
    "                                                                                        score['test_AUC'].std()\n",
    "                                                                                       )\n",
    "         )\n",
    "    \n",
    "    if LOG:\n",
    "        run['AUC'].log(score['test_AUC'].mean())\n",
    "        run['COST'].log(score['test_COST'].mean())\n",
    "        \n",
    "    return score['test_COST'].mean()"
   ]
  },
  {
   "cell_type": "code",
   "execution_count": 15,
   "metadata": {
    "ExecuteTime": {
     "end_time": "2021-06-15T18:46:22.814401Z",
     "start_time": "2021-06-15T18:46:00.260959Z"
    },
    "scrolled": true,
    "tags": []
   },
   "outputs": [
    {
     "name": "stderr",
     "output_type": "stream",
     "text": [
      "\u001b[32m[I 2021-07-15 08:21:34,868]\u001b[0m Trial 176 finished with value: 0.6836702111086626 and parameters: {'lr_weight': 0.8334167323327542, 'rf_weight': 0.15250193244844942, 'lgbm_weight': 0.2193487742513647}. Best is trial 159 with value: 0.6840361008232898.\u001b[0m\n"
     ]
    },
    {
     "name": "stdout",
     "output_type": "stream",
     "text": [
      "> cv cost score mean: 0.6837 (± 0.0054) <> roc auc score mean: 0.7459 (± 0.0047) < \n"
     ]
    },
    {
     "name": "stderr",
     "output_type": "stream",
     "text": [
      "\u001b[32m[I 2021-07-15 08:22:34,998]\u001b[0m Trial 177 finished with value: 0.6837653414617954 and parameters: {'lr_weight': 0.8001449753946068, 'rf_weight': 0.08991434494885804, 'lgbm_weight': 0.2570073825413419}. Best is trial 159 with value: 0.6840361008232898.\u001b[0m\n"
     ]
    },
    {
     "name": "stdout",
     "output_type": "stream",
     "text": [
      "> cv cost score mean: 0.6838 (± 0.0050) <> roc auc score mean: 0.7461 (± 0.0046) < \n"
     ]
    },
    {
     "name": "stderr",
     "output_type": "stream",
     "text": [
      "\u001b[32m[I 2021-07-15 08:23:38,771]\u001b[0m Trial 178 finished with value: 0.6835354347206621 and parameters: {'lr_weight': 0.8000827065782793, 'rf_weight': 0.12746534832195094, 'lgbm_weight': 0.27400827477021106}. Best is trial 159 with value: 0.6840361008232898.\u001b[0m\n"
     ]
    },
    {
     "name": "stdout",
     "output_type": "stream",
     "text": [
      "> cv cost score mean: 0.6835 (± 0.0051) <> roc auc score mean: 0.7462 (± 0.0046) < \n"
     ]
    },
    {
     "name": "stderr",
     "output_type": "stream",
     "text": [
      "\u001b[32m[I 2021-07-15 08:24:38,635]\u001b[0m Trial 179 finished with value: 0.683527582868449 and parameters: {'lr_weight': 0.7555931640009989, 'rf_weight': 0.0920778897415337, 'lgbm_weight': 0.2570828457467351}. Best is trial 159 with value: 0.6840361008232898.\u001b[0m\n"
     ]
    },
    {
     "name": "stdout",
     "output_type": "stream",
     "text": [
      "> cv cost score mean: 0.6835 (± 0.0050) <> roc auc score mean: 0.7461 (± 0.0046) < \n"
     ]
    },
    {
     "name": "stderr",
     "output_type": "stream",
     "text": [
      "\u001b[32m[I 2021-07-15 08:25:39,332]\u001b[0m Trial 180 finished with value: 0.6835341934551563 and parameters: {'lr_weight': 0.848583690863219, 'rf_weight': 0.11631834391889985, 'lgbm_weight': 0.29706534040357513}. Best is trial 159 with value: 0.6840361008232898.\u001b[0m\n"
     ]
    },
    {
     "name": "stdout",
     "output_type": "stream",
     "text": [
      "> cv cost score mean: 0.6835 (± 0.0049) <> roc auc score mean: 0.7462 (± 0.0046) < \n"
     ]
    },
    {
     "name": "stderr",
     "output_type": "stream",
     "text": [
      "\u001b[32m[I 2021-07-15 08:26:51,733]\u001b[0m Trial 181 finished with value: 0.6839503796679505 and parameters: {'lr_weight': 0.798008050845772, 'rf_weight': 0.06701582286298446, 'lgbm_weight': 0.238635195355417}. Best is trial 159 with value: 0.6840361008232898.\u001b[0m\n"
     ]
    },
    {
     "name": "stdout",
     "output_type": "stream",
     "text": [
      "> cv cost score mean: 0.6840 (± 0.0052) <> roc auc score mean: 0.7460 (± 0.0047) < \n"
     ]
    },
    {
     "name": "stderr",
     "output_type": "stream",
     "text": [
      "\u001b[32m[I 2021-07-15 08:27:52,663]\u001b[0m Trial 182 finished with value: 0.6840822337521837 and parameters: {'lr_weight': 0.7886277759590068, 'rf_weight': 0.0806654784002276, 'lgbm_weight': 0.24218477351422812}. Best is trial 182 with value: 0.6840822337521837.\u001b[0m\n"
     ]
    },
    {
     "name": "stdout",
     "output_type": "stream",
     "text": [
      "> cv cost score mean: 0.6841 (± 0.0051) <> roc auc score mean: 0.7460 (± 0.0046) < \n"
     ]
    },
    {
     "name": "stderr",
     "output_type": "stream",
     "text": [
      "\u001b[32m[I 2021-07-15 08:28:53,974]\u001b[0m Trial 183 finished with value: 0.6834908350086609 and parameters: {'lr_weight': 0.7133497924423813, 'rf_weight': 0.08764024889479992, 'lgbm_weight': 0.23998259003957378}. Best is trial 182 with value: 0.6840822337521837.\u001b[0m\n"
     ]
    },
    {
     "name": "stdout",
     "output_type": "stream",
     "text": [
      "> cv cost score mean: 0.6835 (± 0.0050) <> roc auc score mean: 0.7461 (± 0.0046) < \n"
     ]
    },
    {
     "name": "stderr",
     "output_type": "stream",
     "text": [
      "\u001b[32m[I 2021-07-15 08:29:54,619]\u001b[0m Trial 184 finished with value: 0.6835640954182818 and parameters: {'lr_weight': 0.7842501473347293, 'rf_weight': 0.018852227260612447, 'lgbm_weight': 0.28169641948101043}. Best is trial 182 with value: 0.6840822337521837.\u001b[0m\n"
     ]
    },
    {
     "name": "stdout",
     "output_type": "stream",
     "text": [
      "> cv cost score mean: 0.6836 (± 0.0051) <> roc auc score mean: 0.7461 (± 0.0046) < \n"
     ]
    },
    {
     "name": "stderr",
     "output_type": "stream",
     "text": [
      "\u001b[32m[I 2021-07-15 08:30:56,224]\u001b[0m Trial 185 finished with value: 0.6823342116886529 and parameters: {'lr_weight': 0.8001681429387933, 'rf_weight': 0.7544832462008779, 'lgbm_weight': 0.25334155868846603}. Best is trial 182 with value: 0.6840822337521837.\u001b[0m\n"
     ]
    },
    {
     "name": "stdout",
     "output_type": "stream",
     "text": [
      "> cv cost score mean: 0.6823 (± 0.0038) <> roc auc score mean: 0.7457 (± 0.0046) < \n",
      "Best custom_score = 0.6840822337521837 for :\n",
      "\n",
      "    lr_weight: 0.7886277759590068\n",
      "    rf_weight: 0.0806654784002276\n",
      "    lgbm_weight: 0.24218477351422812\n"
     ]
    }
   ],
   "source": [
    "# Create study the first time or append existing\n",
    "import os.path\n",
    "from os import path\n",
    "import optuna\n",
    "from optuna.samplers import TPESampler\n",
    "\n",
    "\n",
    "# Studiing n_iter times\n",
    "n_iter = ITERATIONS\n",
    "\n",
    "# Optimize\n",
    "if LOG and RESUME:\n",
    "    # Load Optuna Study from the Neptune Run\n",
    "    study = optuna_utils.load_study_from_run(run)  \n",
    "    study.optimize(Opt_search, n_trials=n_iter, n_jobs=JOBS, callbacks=[neptune_callback])\n",
    "elif LOG and not RESUME:\n",
    "    name = 'Voting classifier '+EDA\n",
    "    study = optuna.create_study(study_name=name,\n",
    "                                    direction='maximize',\n",
    "\n",
    "                                    sampler=TPESampler(n_startup_trials= 50)\n",
    "                                   )\n",
    "    study.optimize(Opt_search, n_trials=n_iter, n_jobs=JOBS, callbacks=[neptune_callback])\n",
    "    \n",
    "else:\n",
    "    # Local run\n",
    "    save_path = 'Studies/'\n",
    "    name =save_path+'voting_'+EDA\n",
    "    file_name = name+'.study'\n",
    "\n",
    "    if path.exists(file_name):\n",
    "        # load study\n",
    "        study = joblib.load(file_name)\n",
    "        print('Loading {}'.format(file_name))\n",
    "\n",
    "        # Load Optuna Study from the Neptune Run\n",
    "    #     study = optuna_utils.load_study_from_run(run)\n",
    "\n",
    "    else:\n",
    "        # Otherwise create study\n",
    "        print('Creating a new study named {}'.format(name))\n",
    "        study = optuna.create_study(study_name=name,\n",
    "                                    direction='maximize',\n",
    "\n",
    "                                    sampler=TPESampler(n_startup_trials= 2)\n",
    "                                   )\n",
    "        \n",
    "    study.optimize(Opt_search, n_trials=n_iter, n_jobs=JOBS)\n",
    "\n",
    "# log study to neptune\n",
    "# opt_utils.log_study_info(study)\n",
    "\n",
    "# # save the sutdy \n",
    "# joblib.dump(study, file_name)\n",
    "\n",
    "# print best results\n",
    "print('Best custom_score = {} for :\\n'.format(study.best_value))\n",
    "\n",
    "for key, value in study.best_params.items():\n",
    "    print(\"    {}: {}\".format(key, value))"
   ]
  },
  {
   "cell_type": "code",
   "execution_count": 16,
   "metadata": {
    "tags": []
   },
   "outputs": [],
   "source": [
    "# Log Optuna Study metadata\n",
    "if LOG:\n",
    "#     optuna_utils.log_study_metadata(study, run)\n",
    "    run['_So far executed trials'] = len(study.trials)"
   ]
  },
  {
   "cell_type": "code",
   "execution_count": 17,
   "metadata": {
    "ExecuteTime": {
     "end_time": "2021-06-17T22:51:01.126788Z",
     "start_time": "2021-06-17T22:51:00.982552Z"
    },
    "tags": []
   },
   "outputs": [
    {
     "data": {
      "application/vnd.plotly.v1+json": {
       "config": {
        "plotlyServerURL": "https://plot.ly"
       },
       "data": [
        {
         "mode": "markers",
         "name": "Objective Value",
         "type": "scatter",
         "x": [
          0,
          1,
          2,
          3,
          4,
          5,
          6,
          7,
          8,
          9,
          10,
          11,
          12,
          13,
          14,
          15,
          16,
          17,
          18,
          19,
          20,
          21,
          22,
          23,
          24,
          25,
          26,
          27,
          28,
          29,
          30,
          31,
          32,
          33,
          34,
          35,
          36,
          37,
          38,
          39,
          40,
          41,
          42,
          43,
          44,
          45,
          46,
          47,
          48,
          49,
          50,
          51,
          52,
          53,
          54,
          55,
          56,
          57,
          58,
          59,
          60,
          61,
          62,
          63,
          64,
          65,
          66,
          67,
          68,
          69,
          70,
          71,
          72,
          73,
          74,
          75,
          76,
          77,
          78,
          79,
          80,
          81,
          82,
          83,
          84,
          85,
          86,
          87,
          88,
          89,
          90,
          91,
          92,
          93,
          94,
          95,
          96,
          97,
          98,
          99,
          100,
          101,
          102,
          103,
          104,
          105,
          106,
          107,
          108,
          109,
          110,
          111,
          112,
          113,
          114,
          115,
          116,
          117,
          118,
          119,
          120,
          121,
          122,
          123,
          124,
          125,
          126,
          127,
          128,
          129,
          130,
          131,
          132,
          133,
          134,
          135,
          136,
          137,
          138,
          139,
          140,
          141,
          142,
          143,
          144,
          145,
          146,
          147,
          148,
          149,
          150,
          151,
          152,
          153,
          154,
          155,
          156,
          157,
          158,
          159,
          160,
          161,
          162,
          163,
          164,
          165,
          166,
          167,
          168,
          169,
          170,
          171,
          172,
          173,
          174,
          175,
          176,
          177,
          178,
          179,
          180,
          181,
          182,
          183,
          184,
          185
         ],
         "y": [
          0.6795171409988608,
          0.6815436772364654,
          0.6812868627466429,
          0.681726085065035,
          0.6802271413311143,
          0.6796899788982174,
          0.6804924581517803,
          0.6831650822683081,
          0.6794612194085334,
          0.6820480260216849,
          0.6809579535096069,
          0.6813586580587879,
          0.6811011427156431,
          0.6814566903535069,
          0.681041080967928,
          0.680939395077547,
          0.6816193662030721,
          0.6817668478391626,
          0.6829740614677722,
          0.679172059438043,
          0.682840210932054,
          0.6823773875159261,
          0.6811697671953343,
          0.680629987702866,
          0.6831573443910159,
          0.6804331344128877,
          0.681954292189617,
          0.6817140750272337,
          0.6812156076727024,
          0.6807765992945413,
          0.6827881120605914,
          0.6827999656510977,
          0.6812895440238043,
          0.6813397620606271,
          0.681790172420382,
          0.6817273486253861,
          0.6810564365544683,
          0.6814440189029929,
          0.6829144064290584,
          0.6812424825752212,
          0.6816462797862528,
          0.6826682340925552,
          0.6804830088655445,
          0.6834478903975973,
          0.6798202057267563,
          0.6817100375093681,
          0.6816171031133575,
          0.6829357263918603,
          0.6814290376119925,
          0.6833184661536423,
          0.6833371196999376,
          0.6835975872673439,
          0.6835543190005078,
          0.6832702583623307,
          0.6832156232940516,
          0.6836346936296296,
          0.6833441923542464,
          0.6833916213814415,
          0.6832084656518499,
          0.6832270241338607,
          0.6830778845123021,
          0.683463248818257,
          0.6835131400821728,
          0.6835948248618917,
          0.6834581819997674,
          0.683383443372762,
          0.6831281831777367,
          0.6833520448481056,
          0.6834610341351509,
          0.6830972241927722,
          0.6830552001922741,
          0.6835093939908103,
          0.6834540863405139,
          0.6838033644587422,
          0.683662623962015,
          0.6835055307821872,
          0.6832041034783943,
          0.6833306899726876,
          0.683501447482895,
          0.6832647343597856,
          0.6830589461169236,
          0.6835051706125604,
          0.6835699543451866,
          0.6833430531786336,
          0.6829624345860401,
          0.6835262834610951,
          0.6834349017000184,
          0.6833674924733526,
          0.6836249733531489,
          0.6834915185006346,
          0.6832135783685283,
          0.6835024007729178,
          0.6834962048300014,
          0.6830698488502103,
          0.6826587654696213,
          0.6831196448831287,
          0.6833189861300278,
          0.6836720902761735,
          0.6836074119172872,
          0.6834351704725847,
          0.683178624947707,
          0.6835907542559866,
          0.6837390234744987,
          0.6835128752098946,
          0.6836802603505235,
          0.683665817539042,
          0.6836371090589807,
          0.6831719406412339,
          0.6831589985086954,
          0.6837013013383402,
          0.6834330360594594,
          0.6836633110460562,
          0.6836033297849855,
          0.6833375049229129,
          0.6837786130346475,
          0.6830546787154725,
          0.6837355868199,
          0.6835719172332385,
          0.6831240668403559,
          0.6834579483569413,
          0.6823883416159962,
          0.6839044562531953,
          0.6833184757298951,
          0.6834704317309311,
          0.6830705144477651,
          0.6835935867135203,
          0.6834911710496003,
          0.683449727759126,
          0.6822980898206367,
          0.6832770297972196,
          0.6835681703083114,
          0.6837741799755458,
          0.6835403802715477,
          0.6836360044218728,
          0.6836482541530365,
          0.6837936582093519,
          0.6837458883317487,
          0.6835665697067436,
          0.6836334872108492,
          0.6832729724604569,
          0.6835257254956447,
          0.6836674283837144,
          0.6835021689387282,
          0.683561893953907,
          0.68305776494341,
          0.6835929915925696,
          0.683339495089718,
          0.6835106378733118,
          0.6837226544303271,
          0.6834849087222864,
          0.6834660584808067,
          0.6836539122832856,
          0.6835559205771478,
          0.6830544717771836,
          0.6831547836816754,
          0.683518792586868,
          0.6835674975595811,
          0.6835459091828443,
          0.6835948159272851,
          0.6840361008232898,
          0.6839004410054298,
          0.6837264472786483,
          0.6835140689100825,
          0.6836890400555742,
          0.6834400145834099,
          0.6835700266808382,
          0.6833897306371227,
          0.6837192544562957,
          0.6837082456572118,
          0.6837544246762128,
          0.6836328607189387,
          0.6835709989566537,
          0.6836582995857061,
          0.6837399604034504,
          0.6835712553944642,
          0.683608048010656,
          0.6836702111086626,
          0.6837653414617954,
          0.6835354347206621,
          0.683527582868449,
          0.6835341934551563,
          0.6839503796679505,
          0.6840822337521837,
          0.6834908350086609,
          0.6835640954182818,
          0.6823342116886529
         ]
        },
        {
         "name": "Best Value",
         "type": "scatter",
         "x": [
          0,
          1,
          2,
          3,
          4,
          5,
          6,
          7,
          8,
          9,
          10,
          11,
          12,
          13,
          14,
          15,
          16,
          17,
          18,
          19,
          20,
          21,
          22,
          23,
          24,
          25,
          26,
          27,
          28,
          29,
          30,
          31,
          32,
          33,
          34,
          35,
          36,
          37,
          38,
          39,
          40,
          41,
          42,
          43,
          44,
          45,
          46,
          47,
          48,
          49,
          50,
          51,
          52,
          53,
          54,
          55,
          56,
          57,
          58,
          59,
          60,
          61,
          62,
          63,
          64,
          65,
          66,
          67,
          68,
          69,
          70,
          71,
          72,
          73,
          74,
          75,
          76,
          77,
          78,
          79,
          80,
          81,
          82,
          83,
          84,
          85,
          86,
          87,
          88,
          89,
          90,
          91,
          92,
          93,
          94,
          95,
          96,
          97,
          98,
          99,
          100,
          101,
          102,
          103,
          104,
          105,
          106,
          107,
          108,
          109,
          110,
          111,
          112,
          113,
          114,
          115,
          116,
          117,
          118,
          119,
          120,
          121,
          122,
          123,
          124,
          125,
          126,
          127,
          128,
          129,
          130,
          131,
          132,
          133,
          134,
          135,
          136,
          137,
          138,
          139,
          140,
          141,
          142,
          143,
          144,
          145,
          146,
          147,
          148,
          149,
          150,
          151,
          152,
          153,
          154,
          155,
          156,
          157,
          158,
          159,
          160,
          161,
          162,
          163,
          164,
          165,
          166,
          167,
          168,
          169,
          170,
          171,
          172,
          173,
          174,
          175,
          176,
          177,
          178,
          179,
          180,
          181,
          182,
          183,
          184,
          185
         ],
         "y": [
          0.6795171409988608,
          0.6815436772364654,
          0.6815436772364654,
          0.681726085065035,
          0.681726085065035,
          0.681726085065035,
          0.681726085065035,
          0.6831650822683081,
          0.6831650822683081,
          0.6831650822683081,
          0.6831650822683081,
          0.6831650822683081,
          0.6831650822683081,
          0.6831650822683081,
          0.6831650822683081,
          0.6831650822683081,
          0.6831650822683081,
          0.6831650822683081,
          0.6831650822683081,
          0.6831650822683081,
          0.6831650822683081,
          0.6831650822683081,
          0.6831650822683081,
          0.6831650822683081,
          0.6831650822683081,
          0.6831650822683081,
          0.6831650822683081,
          0.6831650822683081,
          0.6831650822683081,
          0.6831650822683081,
          0.6831650822683081,
          0.6831650822683081,
          0.6831650822683081,
          0.6831650822683081,
          0.6831650822683081,
          0.6831650822683081,
          0.6831650822683081,
          0.6831650822683081,
          0.6831650822683081,
          0.6831650822683081,
          0.6831650822683081,
          0.6831650822683081,
          0.6831650822683081,
          0.6834478903975973,
          0.6834478903975973,
          0.6834478903975973,
          0.6834478903975973,
          0.6834478903975973,
          0.6834478903975973,
          0.6834478903975973,
          0.6834478903975973,
          0.6835975872673439,
          0.6835975872673439,
          0.6835975872673439,
          0.6835975872673439,
          0.6836346936296296,
          0.6836346936296296,
          0.6836346936296296,
          0.6836346936296296,
          0.6836346936296296,
          0.6836346936296296,
          0.6836346936296296,
          0.6836346936296296,
          0.6836346936296296,
          0.6836346936296296,
          0.6836346936296296,
          0.6836346936296296,
          0.6836346936296296,
          0.6836346936296296,
          0.6836346936296296,
          0.6836346936296296,
          0.6836346936296296,
          0.6836346936296296,
          0.6838033644587422,
          0.6838033644587422,
          0.6838033644587422,
          0.6838033644587422,
          0.6838033644587422,
          0.6838033644587422,
          0.6838033644587422,
          0.6838033644587422,
          0.6838033644587422,
          0.6838033644587422,
          0.6838033644587422,
          0.6838033644587422,
          0.6838033644587422,
          0.6838033644587422,
          0.6838033644587422,
          0.6838033644587422,
          0.6838033644587422,
          0.6838033644587422,
          0.6838033644587422,
          0.6838033644587422,
          0.6838033644587422,
          0.6838033644587422,
          0.6838033644587422,
          0.6838033644587422,
          0.6838033644587422,
          0.6838033644587422,
          0.6838033644587422,
          0.6838033644587422,
          0.6838033644587422,
          0.6838033644587422,
          0.6838033644587422,
          0.6838033644587422,
          0.6838033644587422,
          0.6838033644587422,
          0.6838033644587422,
          0.6838033644587422,
          0.6838033644587422,
          0.6838033644587422,
          0.6838033644587422,
          0.6838033644587422,
          0.6838033644587422,
          0.6838033644587422,
          0.6838033644587422,
          0.6838033644587422,
          0.6838033644587422,
          0.6838033644587422,
          0.6838033644587422,
          0.6838033644587422,
          0.6839044562531953,
          0.6839044562531953,
          0.6839044562531953,
          0.6839044562531953,
          0.6839044562531953,
          0.6839044562531953,
          0.6839044562531953,
          0.6839044562531953,
          0.6839044562531953,
          0.6839044562531953,
          0.6839044562531953,
          0.6839044562531953,
          0.6839044562531953,
          0.6839044562531953,
          0.6839044562531953,
          0.6839044562531953,
          0.6839044562531953,
          0.6839044562531953,
          0.6839044562531953,
          0.6839044562531953,
          0.6839044562531953,
          0.6839044562531953,
          0.6839044562531953,
          0.6839044562531953,
          0.6839044562531953,
          0.6839044562531953,
          0.6839044562531953,
          0.6839044562531953,
          0.6839044562531953,
          0.6839044562531953,
          0.6839044562531953,
          0.6839044562531953,
          0.6839044562531953,
          0.6839044562531953,
          0.6839044562531953,
          0.6839044562531953,
          0.6839044562531953,
          0.6839044562531953,
          0.6840361008232898,
          0.6840361008232898,
          0.6840361008232898,
          0.6840361008232898,
          0.6840361008232898,
          0.6840361008232898,
          0.6840361008232898,
          0.6840361008232898,
          0.6840361008232898,
          0.6840361008232898,
          0.6840361008232898,
          0.6840361008232898,
          0.6840361008232898,
          0.6840361008232898,
          0.6840361008232898,
          0.6840361008232898,
          0.6840361008232898,
          0.6840361008232898,
          0.6840361008232898,
          0.6840361008232898,
          0.6840361008232898,
          0.6840361008232898,
          0.6840361008232898,
          0.6840822337521837,
          0.6840822337521837,
          0.6840822337521837,
          0.6840822337521837
         ]
        }
       ],
       "layout": {
        "autosize": true,
        "template": {
         "data": {
          "bar": [
           {
            "error_x": {
             "color": "#2a3f5f"
            },
            "error_y": {
             "color": "#2a3f5f"
            },
            "marker": {
             "line": {
              "color": "#E5ECF6",
              "width": 0.5
             }
            },
            "type": "bar"
           }
          ],
          "barpolar": [
           {
            "marker": {
             "line": {
              "color": "#E5ECF6",
              "width": 0.5
             }
            },
            "type": "barpolar"
           }
          ],
          "carpet": [
           {
            "aaxis": {
             "endlinecolor": "#2a3f5f",
             "gridcolor": "white",
             "linecolor": "white",
             "minorgridcolor": "white",
             "startlinecolor": "#2a3f5f"
            },
            "baxis": {
             "endlinecolor": "#2a3f5f",
             "gridcolor": "white",
             "linecolor": "white",
             "minorgridcolor": "white",
             "startlinecolor": "#2a3f5f"
            },
            "type": "carpet"
           }
          ],
          "choropleth": [
           {
            "colorbar": {
             "outlinewidth": 0,
             "ticks": ""
            },
            "type": "choropleth"
           }
          ],
          "contour": [
           {
            "colorbar": {
             "outlinewidth": 0,
             "ticks": ""
            },
            "colorscale": [
             [
              0,
              "#0d0887"
             ],
             [
              0.1111111111111111,
              "#46039f"
             ],
             [
              0.2222222222222222,
              "#7201a8"
             ],
             [
              0.3333333333333333,
              "#9c179e"
             ],
             [
              0.4444444444444444,
              "#bd3786"
             ],
             [
              0.5555555555555556,
              "#d8576b"
             ],
             [
              0.6666666666666666,
              "#ed7953"
             ],
             [
              0.7777777777777778,
              "#fb9f3a"
             ],
             [
              0.8888888888888888,
              "#fdca26"
             ],
             [
              1,
              "#f0f921"
             ]
            ],
            "type": "contour"
           }
          ],
          "contourcarpet": [
           {
            "colorbar": {
             "outlinewidth": 0,
             "ticks": ""
            },
            "type": "contourcarpet"
           }
          ],
          "heatmap": [
           {
            "colorbar": {
             "outlinewidth": 0,
             "ticks": ""
            },
            "colorscale": [
             [
              0,
              "#0d0887"
             ],
             [
              0.1111111111111111,
              "#46039f"
             ],
             [
              0.2222222222222222,
              "#7201a8"
             ],
             [
              0.3333333333333333,
              "#9c179e"
             ],
             [
              0.4444444444444444,
              "#bd3786"
             ],
             [
              0.5555555555555556,
              "#d8576b"
             ],
             [
              0.6666666666666666,
              "#ed7953"
             ],
             [
              0.7777777777777778,
              "#fb9f3a"
             ],
             [
              0.8888888888888888,
              "#fdca26"
             ],
             [
              1,
              "#f0f921"
             ]
            ],
            "type": "heatmap"
           }
          ],
          "heatmapgl": [
           {
            "colorbar": {
             "outlinewidth": 0,
             "ticks": ""
            },
            "colorscale": [
             [
              0,
              "#0d0887"
             ],
             [
              0.1111111111111111,
              "#46039f"
             ],
             [
              0.2222222222222222,
              "#7201a8"
             ],
             [
              0.3333333333333333,
              "#9c179e"
             ],
             [
              0.4444444444444444,
              "#bd3786"
             ],
             [
              0.5555555555555556,
              "#d8576b"
             ],
             [
              0.6666666666666666,
              "#ed7953"
             ],
             [
              0.7777777777777778,
              "#fb9f3a"
             ],
             [
              0.8888888888888888,
              "#fdca26"
             ],
             [
              1,
              "#f0f921"
             ]
            ],
            "type": "heatmapgl"
           }
          ],
          "histogram": [
           {
            "marker": {
             "colorbar": {
              "outlinewidth": 0,
              "ticks": ""
             }
            },
            "type": "histogram"
           }
          ],
          "histogram2d": [
           {
            "colorbar": {
             "outlinewidth": 0,
             "ticks": ""
            },
            "colorscale": [
             [
              0,
              "#0d0887"
             ],
             [
              0.1111111111111111,
              "#46039f"
             ],
             [
              0.2222222222222222,
              "#7201a8"
             ],
             [
              0.3333333333333333,
              "#9c179e"
             ],
             [
              0.4444444444444444,
              "#bd3786"
             ],
             [
              0.5555555555555556,
              "#d8576b"
             ],
             [
              0.6666666666666666,
              "#ed7953"
             ],
             [
              0.7777777777777778,
              "#fb9f3a"
             ],
             [
              0.8888888888888888,
              "#fdca26"
             ],
             [
              1,
              "#f0f921"
             ]
            ],
            "type": "histogram2d"
           }
          ],
          "histogram2dcontour": [
           {
            "colorbar": {
             "outlinewidth": 0,
             "ticks": ""
            },
            "colorscale": [
             [
              0,
              "#0d0887"
             ],
             [
              0.1111111111111111,
              "#46039f"
             ],
             [
              0.2222222222222222,
              "#7201a8"
             ],
             [
              0.3333333333333333,
              "#9c179e"
             ],
             [
              0.4444444444444444,
              "#bd3786"
             ],
             [
              0.5555555555555556,
              "#d8576b"
             ],
             [
              0.6666666666666666,
              "#ed7953"
             ],
             [
              0.7777777777777778,
              "#fb9f3a"
             ],
             [
              0.8888888888888888,
              "#fdca26"
             ],
             [
              1,
              "#f0f921"
             ]
            ],
            "type": "histogram2dcontour"
           }
          ],
          "mesh3d": [
           {
            "colorbar": {
             "outlinewidth": 0,
             "ticks": ""
            },
            "type": "mesh3d"
           }
          ],
          "parcoords": [
           {
            "line": {
             "colorbar": {
              "outlinewidth": 0,
              "ticks": ""
             }
            },
            "type": "parcoords"
           }
          ],
          "pie": [
           {
            "automargin": true,
            "type": "pie"
           }
          ],
          "scatter": [
           {
            "marker": {
             "colorbar": {
              "outlinewidth": 0,
              "ticks": ""
             }
            },
            "type": "scatter"
           }
          ],
          "scatter3d": [
           {
            "line": {
             "colorbar": {
              "outlinewidth": 0,
              "ticks": ""
             }
            },
            "marker": {
             "colorbar": {
              "outlinewidth": 0,
              "ticks": ""
             }
            },
            "type": "scatter3d"
           }
          ],
          "scattercarpet": [
           {
            "marker": {
             "colorbar": {
              "outlinewidth": 0,
              "ticks": ""
             }
            },
            "type": "scattercarpet"
           }
          ],
          "scattergeo": [
           {
            "marker": {
             "colorbar": {
              "outlinewidth": 0,
              "ticks": ""
             }
            },
            "type": "scattergeo"
           }
          ],
          "scattergl": [
           {
            "marker": {
             "colorbar": {
              "outlinewidth": 0,
              "ticks": ""
             }
            },
            "type": "scattergl"
           }
          ],
          "scattermapbox": [
           {
            "marker": {
             "colorbar": {
              "outlinewidth": 0,
              "ticks": ""
             }
            },
            "type": "scattermapbox"
           }
          ],
          "scatterpolar": [
           {
            "marker": {
             "colorbar": {
              "outlinewidth": 0,
              "ticks": ""
             }
            },
            "type": "scatterpolar"
           }
          ],
          "scatterpolargl": [
           {
            "marker": {
             "colorbar": {
              "outlinewidth": 0,
              "ticks": ""
             }
            },
            "type": "scatterpolargl"
           }
          ],
          "scatterternary": [
           {
            "marker": {
             "colorbar": {
              "outlinewidth": 0,
              "ticks": ""
             }
            },
            "type": "scatterternary"
           }
          ],
          "surface": [
           {
            "colorbar": {
             "outlinewidth": 0,
             "ticks": ""
            },
            "colorscale": [
             [
              0,
              "#0d0887"
             ],
             [
              0.1111111111111111,
              "#46039f"
             ],
             [
              0.2222222222222222,
              "#7201a8"
             ],
             [
              0.3333333333333333,
              "#9c179e"
             ],
             [
              0.4444444444444444,
              "#bd3786"
             ],
             [
              0.5555555555555556,
              "#d8576b"
             ],
             [
              0.6666666666666666,
              "#ed7953"
             ],
             [
              0.7777777777777778,
              "#fb9f3a"
             ],
             [
              0.8888888888888888,
              "#fdca26"
             ],
             [
              1,
              "#f0f921"
             ]
            ],
            "type": "surface"
           }
          ],
          "table": [
           {
            "cells": {
             "fill": {
              "color": "#EBF0F8"
             },
             "line": {
              "color": "white"
             }
            },
            "header": {
             "fill": {
              "color": "#C8D4E3"
             },
             "line": {
              "color": "white"
             }
            },
            "type": "table"
           }
          ]
         },
         "layout": {
          "annotationdefaults": {
           "arrowcolor": "#2a3f5f",
           "arrowhead": 0,
           "arrowwidth": 1
          },
          "autotypenumbers": "strict",
          "coloraxis": {
           "colorbar": {
            "outlinewidth": 0,
            "ticks": ""
           }
          },
          "colorscale": {
           "diverging": [
            [
             0,
             "#8e0152"
            ],
            [
             0.1,
             "#c51b7d"
            ],
            [
             0.2,
             "#de77ae"
            ],
            [
             0.3,
             "#f1b6da"
            ],
            [
             0.4,
             "#fde0ef"
            ],
            [
             0.5,
             "#f7f7f7"
            ],
            [
             0.6,
             "#e6f5d0"
            ],
            [
             0.7,
             "#b8e186"
            ],
            [
             0.8,
             "#7fbc41"
            ],
            [
             0.9,
             "#4d9221"
            ],
            [
             1,
             "#276419"
            ]
           ],
           "sequential": [
            [
             0,
             "#0d0887"
            ],
            [
             0.1111111111111111,
             "#46039f"
            ],
            [
             0.2222222222222222,
             "#7201a8"
            ],
            [
             0.3333333333333333,
             "#9c179e"
            ],
            [
             0.4444444444444444,
             "#bd3786"
            ],
            [
             0.5555555555555556,
             "#d8576b"
            ],
            [
             0.6666666666666666,
             "#ed7953"
            ],
            [
             0.7777777777777778,
             "#fb9f3a"
            ],
            [
             0.8888888888888888,
             "#fdca26"
            ],
            [
             1,
             "#f0f921"
            ]
           ],
           "sequentialminus": [
            [
             0,
             "#0d0887"
            ],
            [
             0.1111111111111111,
             "#46039f"
            ],
            [
             0.2222222222222222,
             "#7201a8"
            ],
            [
             0.3333333333333333,
             "#9c179e"
            ],
            [
             0.4444444444444444,
             "#bd3786"
            ],
            [
             0.5555555555555556,
             "#d8576b"
            ],
            [
             0.6666666666666666,
             "#ed7953"
            ],
            [
             0.7777777777777778,
             "#fb9f3a"
            ],
            [
             0.8888888888888888,
             "#fdca26"
            ],
            [
             1,
             "#f0f921"
            ]
           ]
          },
          "colorway": [
           "#636efa",
           "#EF553B",
           "#00cc96",
           "#ab63fa",
           "#FFA15A",
           "#19d3f3",
           "#FF6692",
           "#B6E880",
           "#FF97FF",
           "#FECB52"
          ],
          "font": {
           "color": "#2a3f5f"
          },
          "geo": {
           "bgcolor": "white",
           "lakecolor": "white",
           "landcolor": "#E5ECF6",
           "showlakes": true,
           "showland": true,
           "subunitcolor": "white"
          },
          "hoverlabel": {
           "align": "left"
          },
          "hovermode": "closest",
          "mapbox": {
           "style": "light"
          },
          "paper_bgcolor": "white",
          "plot_bgcolor": "#E5ECF6",
          "polar": {
           "angularaxis": {
            "gridcolor": "white",
            "linecolor": "white",
            "ticks": ""
           },
           "bgcolor": "#E5ECF6",
           "radialaxis": {
            "gridcolor": "white",
            "linecolor": "white",
            "ticks": ""
           }
          },
          "scene": {
           "xaxis": {
            "backgroundcolor": "#E5ECF6",
            "gridcolor": "white",
            "gridwidth": 2,
            "linecolor": "white",
            "showbackground": true,
            "ticks": "",
            "zerolinecolor": "white"
           },
           "yaxis": {
            "backgroundcolor": "#E5ECF6",
            "gridcolor": "white",
            "gridwidth": 2,
            "linecolor": "white",
            "showbackground": true,
            "ticks": "",
            "zerolinecolor": "white"
           },
           "zaxis": {
            "backgroundcolor": "#E5ECF6",
            "gridcolor": "white",
            "gridwidth": 2,
            "linecolor": "white",
            "showbackground": true,
            "ticks": "",
            "zerolinecolor": "white"
           }
          },
          "shapedefaults": {
           "line": {
            "color": "#2a3f5f"
           }
          },
          "ternary": {
           "aaxis": {
            "gridcolor": "white",
            "linecolor": "white",
            "ticks": ""
           },
           "baxis": {
            "gridcolor": "white",
            "linecolor": "white",
            "ticks": ""
           },
           "bgcolor": "#E5ECF6",
           "caxis": {
            "gridcolor": "white",
            "linecolor": "white",
            "ticks": ""
           }
          },
          "title": {
           "x": 0.05
          },
          "xaxis": {
           "automargin": true,
           "gridcolor": "white",
           "linecolor": "white",
           "ticks": "",
           "title": {
            "standoff": 15
           },
           "zerolinecolor": "white",
           "zerolinewidth": 2
          },
          "yaxis": {
           "automargin": true,
           "gridcolor": "white",
           "linecolor": "white",
           "ticks": "",
           "title": {
            "standoff": 15
           },
           "zerolinecolor": "white",
           "zerolinewidth": 2
          }
         }
        },
        "title": {
         "text": "Optimization History Plot"
        },
        "xaxis": {
         "autorange": true,
         "range": [
          -12.52183406113537,
          197.52183406113537
         ],
         "title": {
          "text": "#Trials"
         },
         "type": "linear"
        },
        "yaxis": {
         "autorange": true,
         "range": [
          0.6787668508781383,
          0.6844874423120885
         ],
         "title": {
          "text": "Objective Value"
         },
         "type": "linear"
        }
       }
      },
      "image/png": "[encoded data removed]",
      "text/html": [
       "<div>                            <div id=\"159f5244-82f0-4bf7-98e2-258c09a3eeea\" class=\"plotly-graph-div\" style=\"height:525px; width:100%;\"></div>            <script type=\"text/javascript\">                require([\"plotly\"], function(Plotly) {                    window.PLOTLYENV=window.PLOTLYENV || {};                                    if (document.getElementById(\"159f5244-82f0-4bf7-98e2-258c09a3eeea\")) {                    Plotly.newPlot(                        \"159f5244-82f0-4bf7-98e2-258c09a3eeea\",                        [{\"mode\": \"markers\", \"name\": \"Objective Value\", \"type\": \"scatter\", \"x\": [0, 1, 2, 3, 4, 5, 6, 7, 8, 9, 10, 11, 12, 13, 14, 15, 16, 17, 18, 19, 20, 21, 22, 23, 24, 25, 26, 27, 28, 29, 30, 31, 32, 33, 34, 35, 36, 37, 38, 39, 40, 41, 42, 43, 44, 45, 46, 47, 48, 49, 50, 51, 52, 53, 54, 55, 56, 57, 58, 59, 60, 61, 62, 63, 64, 65, 66, 67, 68, 69, 70, 71, 72, 73, 74, 75, 76, 77, 78, 79, 80, 81, 82, 83, 84, 85, 86, 87, 88, 89, 90, 91, 92, 93, 94, 95, 96, 97, 98, 99, 100, 101, 102, 103, 104, 105, 106, 107, 108, 109, 110, 111, 112, 113, 114, 115, 116, 117, 118, 119, 120, 121, 122, 123, 124, 125, 126, 127, 128, 129, 130, 131, 132, 133, 134, 135, 136, 137, 138, 139, 140, 141, 142, 143, 144, 145, 146, 147, 148, 149, 150, 151, 152, 153, 154, 155, 156, 157, 158, 159, 160, 161, 162, 163, 164, 165, 166, 167, 168, 169, 170, 171, 172, 173, 174, 175, 176, 177, 178, 179, 180, 181, 182, 183, 184, 185], \"y\": [0.6795171409988608, 0.6815436772364654, 0.6812868627466429, 0.681726085065035, 0.6802271413311143, 0.6796899788982174, 0.6804924581517803, 0.6831650822683081, 0.6794612194085334, 0.6820480260216849, 0.6809579535096069, 0.6813586580587879, 0.6811011427156431, 0.6814566903535069, 0.681041080967928, 0.680939395077547, 0.6816193662030721, 0.6817668478391626, 0.6829740614677722, 0.679172059438043, 0.682840210932054, 0.6823773875159261, 0.6811697671953343, 0.680629987702866, 0.6831573443910159, 0.6804331344128877, 0.681954292189617, 0.6817140750272337, 0.6812156076727024, 0.6807765992945413, 0.6827881120605914, 0.6827999656510977, 0.6812895440238043, 0.6813397620606271, 0.681790172420382, 0.6817273486253861, 0.6810564365544683, 0.6814440189029929, 0.6829144064290584, 0.6812424825752212, 0.6816462797862528, 0.6826682340925552, 0.6804830088655445, 0.6834478903975973, 0.6798202057267563, 0.6817100375093681, 0.6816171031133575, 0.6829357263918603, 0.6814290376119925, 0.6833184661536423, 0.6833371196999376, 0.6835975872673439, 0.6835543190005078, 0.6832702583623307, 0.6832156232940516, 0.6836346936296296, 0.6833441923542464, 0.6833916213814415, 0.6832084656518499, 0.6832270241338607, 0.6830778845123021, 0.683463248818257, 0.6835131400821728, 0.6835948248618917, 0.6834581819997674, 0.683383443372762, 0.6831281831777367, 0.6833520448481056, 0.6834610341351509, 0.6830972241927722, 0.6830552001922741, 0.6835093939908103, 0.6834540863405139, 0.6838033644587422, 0.683662623962015, 0.6835055307821872, 0.6832041034783943, 0.6833306899726876, 0.683501447482895, 0.6832647343597856, 0.6830589461169236, 0.6835051706125604, 0.6835699543451866, 0.6833430531786336, 0.6829624345860401, 0.6835262834610951, 0.6834349017000184, 0.6833674924733526, 0.6836249733531489, 0.6834915185006346, 0.6832135783685283, 0.6835024007729178, 0.6834962048300014, 0.6830698488502103, 0.6826587654696213, 0.6831196448831287, 0.6833189861300278, 0.6836720902761735, 0.6836074119172872, 0.6834351704725847, 0.683178624947707, 0.6835907542559866, 0.6837390234744987, 0.6835128752098946, 0.6836802603505235, 0.683665817539042, 0.6836371090589807, 0.6831719406412339, 0.6831589985086954, 0.6837013013383402, 0.6834330360594594, 0.6836633110460562, 0.6836033297849855, 0.6833375049229129, 0.6837786130346475, 0.6830546787154725, 0.6837355868199, 0.6835719172332385, 0.6831240668403559, 0.6834579483569413, 0.6823883416159962, 0.6839044562531953, 0.6833184757298951, 0.6834704317309311, 0.6830705144477651, 0.6835935867135203, 0.6834911710496003, 0.683449727759126, 0.6822980898206367, 0.6832770297972196, 0.6835681703083114, 0.6837741799755458, 0.6835403802715477, 0.6836360044218728, 0.6836482541530365, 0.6837936582093519, 0.6837458883317487, 0.6835665697067436, 0.6836334872108492, 0.6832729724604569, 0.6835257254956447, 0.6836674283837144, 0.6835021689387282, 0.683561893953907, 0.68305776494341, 0.6835929915925696, 0.683339495089718, 0.6835106378733118, 0.6837226544303271, 0.6834849087222864, 0.6834660584808067, 0.6836539122832856, 0.6835559205771478, 0.6830544717771836, 0.6831547836816754, 0.683518792586868, 0.6835674975595811, 0.6835459091828443, 0.6835948159272851, 0.6840361008232898, 0.6839004410054298, 0.6837264472786483, 0.6835140689100825, 0.6836890400555742, 0.6834400145834099, 0.6835700266808382, 0.6833897306371227, 0.6837192544562957, 0.6837082456572118, 0.6837544246762128, 0.6836328607189387, 0.6835709989566537, 0.6836582995857061, 0.6837399604034504, 0.6835712553944642, 0.683608048010656, 0.6836702111086626, 0.6837653414617954, 0.6835354347206621, 0.683527582868449, 0.6835341934551563, 0.6839503796679505, 0.6840822337521837, 0.6834908350086609, 0.6835640954182818, 0.6823342116886529]}, {\"name\": \"Best Value\", \"type\": \"scatter\", \"x\": [0, 1, 2, 3, 4, 5, 6, 7, 8, 9, 10, 11, 12, 13, 14, 15, 16, 17, 18, 19, 20, 21, 22, 23, 24, 25, 26, 27, 28, 29, 30, 31, 32, 33, 34, 35, 36, 37, 38, 39, 40, 41, 42, 43, 44, 45, 46, 47, 48, 49, 50, 51, 52, 53, 54, 55, 56, 57, 58, 59, 60, 61, 62, 63, 64, 65, 66, 67, 68, 69, 70, 71, 72, 73, 74, 75, 76, 77, 78, 79, 80, 81, 82, 83, 84, 85, 86, 87, 88, 89, 90, 91, 92, 93, 94, 95, 96, 97, 98, 99, 100, 101, 102, 103, 104, 105, 106, 107, 108, 109, 110, 111, 112, 113, 114, 115, 116, 117, 118, 119, 120, 121, 122, 123, 124, 125, 126, 127, 128, 129, 130, 131, 132, 133, 134, 135, 136, 137, 138, 139, 140, 141, 142, 143, 144, 145, 146, 147, 148, 149, 150, 151, 152, 153, 154, 155, 156, 157, 158, 159, 160, 161, 162, 163, 164, 165, 166, 167, 168, 169, 170, 171, 172, 173, 174, 175, 176, 177, 178, 179, 180, 181, 182, 183, 184, 185], \"y\": [0.6795171409988608, 0.6815436772364654, 0.6815436772364654, 0.681726085065035, 0.681726085065035, 0.681726085065035, 0.681726085065035, 0.6831650822683081, 0.6831650822683081, 0.6831650822683081, 0.6831650822683081, 0.6831650822683081, 0.6831650822683081, 0.6831650822683081, 0.6831650822683081, 0.6831650822683081, 0.6831650822683081, 0.6831650822683081, 0.6831650822683081, 0.6831650822683081, 0.6831650822683081, 0.6831650822683081, 0.6831650822683081, 0.6831650822683081, 0.6831650822683081, 0.6831650822683081, 0.6831650822683081, 0.6831650822683081, 0.6831650822683081, 0.6831650822683081, 0.6831650822683081, 0.6831650822683081, 0.6831650822683081, 0.6831650822683081, 0.6831650822683081, 0.6831650822683081, 0.6831650822683081, 0.6831650822683081, 0.6831650822683081, 0.6831650822683081, 0.6831650822683081, 0.6831650822683081, 0.6831650822683081, 0.6834478903975973, 0.6834478903975973, 0.6834478903975973, 0.6834478903975973, 0.6834478903975973, 0.6834478903975973, 0.6834478903975973, 0.6834478903975973, 0.6835975872673439, 0.6835975872673439, 0.6835975872673439, 0.6835975872673439, 0.6836346936296296, 0.6836346936296296, 0.6836346936296296, 0.6836346936296296, 0.6836346936296296, 0.6836346936296296, 0.6836346936296296, 0.6836346936296296, 0.6836346936296296, 0.6836346936296296, 0.6836346936296296, 0.6836346936296296, 0.6836346936296296, 0.6836346936296296, 0.6836346936296296, 0.6836346936296296, 0.6836346936296296, 0.6836346936296296, 0.6838033644587422, 0.6838033644587422, 0.6838033644587422, 0.6838033644587422, 0.6838033644587422, 0.6838033644587422, 0.6838033644587422, 0.6838033644587422, 0.6838033644587422, 0.6838033644587422, 0.6838033644587422, 0.6838033644587422, 0.6838033644587422, 0.6838033644587422, 0.6838033644587422, 0.6838033644587422, 0.6838033644587422, 0.6838033644587422, 0.6838033644587422, 0.6838033644587422, 0.6838033644587422, 0.6838033644587422, 0.6838033644587422, 0.6838033644587422, 0.6838033644587422, 0.6838033644587422, 0.6838033644587422, 0.6838033644587422, 0.6838033644587422, 0.6838033644587422, 0.6838033644587422, 0.6838033644587422, 0.6838033644587422, 0.6838033644587422, 0.6838033644587422, 0.6838033644587422, 0.6838033644587422, 0.6838033644587422, 0.6838033644587422, 0.6838033644587422, 0.6838033644587422, 0.6838033644587422, 0.6838033644587422, 0.6838033644587422, 0.6838033644587422, 0.6838033644587422, 0.6838033644587422, 0.6838033644587422, 0.6839044562531953, 0.6839044562531953, 0.6839044562531953, 0.6839044562531953, 0.6839044562531953, 0.6839044562531953, 0.6839044562531953, 0.6839044562531953, 0.6839044562531953, 0.6839044562531953, 0.6839044562531953, 0.6839044562531953, 0.6839044562531953, 0.6839044562531953, 0.6839044562531953, 0.6839044562531953, 0.6839044562531953, 0.6839044562531953, 0.6839044562531953, 0.6839044562531953, 0.6839044562531953, 0.6839044562531953, 0.6839044562531953, 0.6839044562531953, 0.6839044562531953, 0.6839044562531953, 0.6839044562531953, 0.6839044562531953, 0.6839044562531953, 0.6839044562531953, 0.6839044562531953, 0.6839044562531953, 0.6839044562531953, 0.6839044562531953, 0.6839044562531953, 0.6839044562531953, 0.6839044562531953, 0.6839044562531953, 0.6840361008232898, 0.6840361008232898, 0.6840361008232898, 0.6840361008232898, 0.6840361008232898, 0.6840361008232898, 0.6840361008232898, 0.6840361008232898, 0.6840361008232898, 0.6840361008232898, 0.6840361008232898, 0.6840361008232898, 0.6840361008232898, 0.6840361008232898, 0.6840361008232898, 0.6840361008232898, 0.6840361008232898, 0.6840361008232898, 0.6840361008232898, 0.6840361008232898, 0.6840361008232898, 0.6840361008232898, 0.6840361008232898, 0.6840822337521837, 0.6840822337521837, 0.6840822337521837, 0.6840822337521837]}],                        {\"template\": {\"data\": {\"bar\": [{\"error_x\": {\"color\": \"#2a3f5f\"}, \"error_y\": {\"color\": \"#2a3f5f\"}, \"marker\": {\"line\": {\"color\": \"#E5ECF6\", \"width\": 0.5}}, \"type\": \"bar\"}], \"barpolar\": [{\"marker\": {\"line\": {\"color\": \"#E5ECF6\", \"width\": 0.5}}, \"type\": \"barpolar\"}], \"carpet\": [{\"aaxis\": {\"endlinecolor\": \"#2a3f5f\", \"gridcolor\": \"white\", \"linecolor\": \"white\", \"minorgridcolor\": \"white\", \"startlinecolor\": \"#2a3f5f\"}, \"baxis\": {\"endlinecolor\": \"#2a3f5f\", \"gridcolor\": \"white\", \"linecolor\": \"white\", \"minorgridcolor\": \"white\", \"startlinecolor\": \"#2a3f5f\"}, \"type\": \"carpet\"}], \"choropleth\": [{\"colorbar\": {\"outlinewidth\": 0, \"ticks\": \"\"}, \"type\": \"choropleth\"}], \"contour\": [{\"colorbar\": {\"outlinewidth\": 0, \"ticks\": \"\"}, \"colorscale\": [[0.0, \"#0d0887\"], [0.1111111111111111, \"#46039f\"], [0.2222222222222222, \"#7201a8\"], [0.3333333333333333, \"#9c179e\"], [0.4444444444444444, \"#bd3786\"], [0.5555555555555556, \"#d8576b\"], [0.6666666666666666, \"#ed7953\"], [0.7777777777777778, \"#fb9f3a\"], [0.8888888888888888, \"#fdca26\"], [1.0, \"#f0f921\"]], \"type\": \"contour\"}], \"contourcarpet\": [{\"colorbar\": {\"outlinewidth\": 0, \"ticks\": \"\"}, \"type\": \"contourcarpet\"}], \"heatmap\": [{\"colorbar\": {\"outlinewidth\": 0, \"ticks\": \"\"}, \"colorscale\": [[0.0, \"#0d0887\"], [0.1111111111111111, \"#46039f\"], [0.2222222222222222, \"#7201a8\"], [0.3333333333333333, \"#9c179e\"], [0.4444444444444444, \"#bd3786\"], [0.5555555555555556, \"#d8576b\"], [0.6666666666666666, \"#ed7953\"], [0.7777777777777778, \"#fb9f3a\"], [0.8888888888888888, \"#fdca26\"], [1.0, \"#f0f921\"]], \"type\": \"heatmap\"}], \"heatmapgl\": [{\"colorbar\": {\"outlinewidth\": 0, \"ticks\": \"\"}, \"colorscale\": [[0.0, \"#0d0887\"], [0.1111111111111111, \"#46039f\"], [0.2222222222222222, \"#7201a8\"], [0.3333333333333333, \"#9c179e\"], [0.4444444444444444, \"#bd3786\"], [0.5555555555555556, \"#d8576b\"], [0.6666666666666666, \"#ed7953\"], [0.7777777777777778, \"#fb9f3a\"], [0.8888888888888888, \"#fdca26\"], [1.0, \"#f0f921\"]], \"type\": \"heatmapgl\"}], \"histogram\": [{\"marker\": {\"colorbar\": {\"outlinewidth\": 0, \"ticks\": \"\"}}, \"type\": \"histogram\"}], \"histogram2d\": [{\"colorbar\": {\"outlinewidth\": 0, \"ticks\": \"\"}, \"colorscale\": [[0.0, \"#0d0887\"], [0.1111111111111111, \"#46039f\"], [0.2222222222222222, \"#7201a8\"], [0.3333333333333333, \"#9c179e\"], [0.4444444444444444, \"#bd3786\"], [0.5555555555555556, \"#d8576b\"], [0.6666666666666666, \"#ed7953\"], [0.7777777777777778, \"#fb9f3a\"], [0.8888888888888888, \"#fdca26\"], [1.0, \"#f0f921\"]], \"type\": \"histogram2d\"}], \"histogram2dcontour\": [{\"colorbar\": {\"outlinewidth\": 0, \"ticks\": \"\"}, \"colorscale\": [[0.0, \"#0d0887\"], [0.1111111111111111, \"#46039f\"], [0.2222222222222222, \"#7201a8\"], [0.3333333333333333, \"#9c179e\"], [0.4444444444444444, \"#bd3786\"], [0.5555555555555556, \"#d8576b\"], [0.6666666666666666, \"#ed7953\"], [0.7777777777777778, \"#fb9f3a\"], [0.8888888888888888, \"#fdca26\"], [1.0, \"#f0f921\"]], \"type\": \"histogram2dcontour\"}], \"mesh3d\": [{\"colorbar\": {\"outlinewidth\": 0, \"ticks\": \"\"}, \"type\": \"mesh3d\"}], \"parcoords\": [{\"line\": {\"colorbar\": {\"outlinewidth\": 0, \"ticks\": \"\"}}, \"type\": \"parcoords\"}], \"pie\": [{\"automargin\": true, \"type\": \"pie\"}], \"scatter\": [{\"marker\": {\"colorbar\": {\"outlinewidth\": 0, \"ticks\": \"\"}}, \"type\": \"scatter\"}], \"scatter3d\": [{\"line\": {\"colorbar\": {\"outlinewidth\": 0, \"ticks\": \"\"}}, \"marker\": {\"colorbar\": {\"outlinewidth\": 0, \"ticks\": \"\"}}, \"type\": \"scatter3d\"}], \"scattercarpet\": [{\"marker\": {\"colorbar\": {\"outlinewidth\": 0, \"ticks\": \"\"}}, \"type\": \"scattercarpet\"}], \"scattergeo\": [{\"marker\": {\"colorbar\": {\"outlinewidth\": 0, \"ticks\": \"\"}}, \"type\": \"scattergeo\"}], \"scattergl\": [{\"marker\": {\"colorbar\": {\"outlinewidth\": 0, \"ticks\": \"\"}}, \"type\": \"scattergl\"}], \"scattermapbox\": [{\"marker\": {\"colorbar\": {\"outlinewidth\": 0, \"ticks\": \"\"}}, \"type\": \"scattermapbox\"}], \"scatterpolar\": [{\"marker\": {\"colorbar\": {\"outlinewidth\": 0, \"ticks\": \"\"}}, \"type\": \"scatterpolar\"}], \"scatterpolargl\": [{\"marker\": {\"colorbar\": {\"outlinewidth\": 0, \"ticks\": \"\"}}, \"type\": \"scatterpolargl\"}], \"scatterternary\": [{\"marker\": {\"colorbar\": {\"outlinewidth\": 0, \"ticks\": \"\"}}, \"type\": \"scatterternary\"}], \"surface\": [{\"colorbar\": {\"outlinewidth\": 0, \"ticks\": \"\"}, \"colorscale\": [[0.0, \"#0d0887\"], [0.1111111111111111, \"#46039f\"], [0.2222222222222222, \"#7201a8\"], [0.3333333333333333, \"#9c179e\"], [0.4444444444444444, \"#bd3786\"], [0.5555555555555556, \"#d8576b\"], [0.6666666666666666, \"#ed7953\"], [0.7777777777777778, \"#fb9f3a\"], [0.8888888888888888, \"#fdca26\"], [1.0, \"#f0f921\"]], \"type\": \"surface\"}], \"table\": [{\"cells\": {\"fill\": {\"color\": \"#EBF0F8\"}, \"line\": {\"color\": \"white\"}}, \"header\": {\"fill\": {\"color\": \"#C8D4E3\"}, \"line\": {\"color\": \"white\"}}, \"type\": \"table\"}]}, \"layout\": {\"annotationdefaults\": {\"arrowcolor\": \"#2a3f5f\", \"arrowhead\": 0, \"arrowwidth\": 1}, \"autotypenumbers\": \"strict\", \"coloraxis\": {\"colorbar\": {\"outlinewidth\": 0, \"ticks\": \"\"}}, \"colorscale\": {\"diverging\": [[0, \"#8e0152\"], [0.1, \"#c51b7d\"], [0.2, \"#de77ae\"], [0.3, \"#f1b6da\"], [0.4, \"#fde0ef\"], [0.5, \"#f7f7f7\"], [0.6, \"#e6f5d0\"], [0.7, \"#b8e186\"], [0.8, \"#7fbc41\"], [0.9, \"#4d9221\"], [1, \"#276419\"]], \"sequential\": [[0.0, \"#0d0887\"], [0.1111111111111111, \"#46039f\"], [0.2222222222222222, \"#7201a8\"], [0.3333333333333333, \"#9c179e\"], [0.4444444444444444, \"#bd3786\"], [0.5555555555555556, \"#d8576b\"], [0.6666666666666666, \"#ed7953\"], [0.7777777777777778, \"#fb9f3a\"], [0.8888888888888888, \"#fdca26\"], [1.0, \"#f0f921\"]], \"sequentialminus\": [[0.0, \"#0d0887\"], [0.1111111111111111, \"#46039f\"], [0.2222222222222222, \"#7201a8\"], [0.3333333333333333, \"#9c179e\"], [0.4444444444444444, \"#bd3786\"], [0.5555555555555556, \"#d8576b\"], [0.6666666666666666, \"#ed7953\"], [0.7777777777777778, \"#fb9f3a\"], [0.8888888888888888, \"#fdca26\"], [1.0, \"#f0f921\"]]}, \"colorway\": [\"#636efa\", \"#EF553B\", \"#00cc96\", \"#ab63fa\", \"#FFA15A\", \"#19d3f3\", \"#FF6692\", \"#B6E880\", \"#FF97FF\", \"#FECB52\"], \"font\": {\"color\": \"#2a3f5f\"}, \"geo\": {\"bgcolor\": \"white\", \"lakecolor\": \"white\", \"landcolor\": \"#E5ECF6\", \"showlakes\": true, \"showland\": true, \"subunitcolor\": \"white\"}, \"hoverlabel\": {\"align\": \"left\"}, \"hovermode\": \"closest\", \"mapbox\": {\"style\": \"light\"}, \"paper_bgcolor\": \"white\", \"plot_bgcolor\": \"#E5ECF6\", \"polar\": {\"angularaxis\": {\"gridcolor\": \"white\", \"linecolor\": \"white\", \"ticks\": \"\"}, \"bgcolor\": \"#E5ECF6\", \"radialaxis\": {\"gridcolor\": \"white\", \"linecolor\": \"white\", \"ticks\": \"\"}}, \"scene\": {\"xaxis\": {\"backgroundcolor\": \"#E5ECF6\", \"gridcolor\": \"white\", \"gridwidth\": 2, \"linecolor\": \"white\", \"showbackground\": true, \"ticks\": \"\", \"zerolinecolor\": \"white\"}, \"yaxis\": {\"backgroundcolor\": \"#E5ECF6\", \"gridcolor\": \"white\", \"gridwidth\": 2, \"linecolor\": \"white\", \"showbackground\": true, \"ticks\": \"\", \"zerolinecolor\": \"white\"}, \"zaxis\": {\"backgroundcolor\": \"#E5ECF6\", \"gridcolor\": \"white\", \"gridwidth\": 2, \"linecolor\": \"white\", \"showbackground\": true, \"ticks\": \"\", \"zerolinecolor\": \"white\"}}, \"shapedefaults\": {\"line\": {\"color\": \"#2a3f5f\"}}, \"ternary\": {\"aaxis\": {\"gridcolor\": \"white\", \"linecolor\": \"white\", \"ticks\": \"\"}, \"baxis\": {\"gridcolor\": \"white\", \"linecolor\": \"white\", \"ticks\": \"\"}, \"bgcolor\": \"#E5ECF6\", \"caxis\": {\"gridcolor\": \"white\", \"linecolor\": \"white\", \"ticks\": \"\"}}, \"title\": {\"x\": 0.05}, \"xaxis\": {\"automargin\": true, \"gridcolor\": \"white\", \"linecolor\": \"white\", \"ticks\": \"\", \"title\": {\"standoff\": 15}, \"zerolinecolor\": \"white\", \"zerolinewidth\": 2}, \"yaxis\": {\"automargin\": true, \"gridcolor\": \"white\", \"linecolor\": \"white\", \"ticks\": \"\", \"title\": {\"standoff\": 15}, \"zerolinecolor\": \"white\", \"zerolinewidth\": 2}}}, \"title\": {\"text\": \"Optimization History Plot\"}, \"xaxis\": {\"title\": {\"text\": \"#Trials\"}}, \"yaxis\": {\"title\": {\"text\": \"Objective Value\"}}},                        {\"responsive\": true}                    ).then(function(){\n",
       "                            \n",
       "var gd = document.getElementById('159f5244-82f0-4bf7-98e2-258c09a3eeea');\n",
       "var x = new MutationObserver(function (mutations, observer) {{\n",
       "        var display = window.getComputedStyle(gd).display;\n",
       "        if (!display || display === 'none') {{\n",
       "            console.log([gd, 'removed!']);\n",
       "            Plotly.purge(gd);\n",
       "            observer.disconnect();\n",
       "        }}\n",
       "}});\n",
       "\n",
       "// Listen for the removal of the full notebook cells\n",
       "var notebookContainer = gd.closest('#notebook-container');\n",
       "if (notebookContainer) {{\n",
       "    x.observe(notebookContainer, {childList: true});\n",
       "}}\n",
       "\n",
       "// Listen for the clearing of the current output cell\n",
       "var outputEl = gd.closest('.output');\n",
       "if (outputEl) {{\n",
       "    x.observe(outputEl, {childList: true});\n",
       "}}\n",
       "\n",
       "                        })                };                });            </script>        </div>"
      ]
     },
     "metadata": {},
     "output_type": "display_data"
    }
   ],
   "source": [
    "# history\n",
    "optuna.visualization.plot_optimization_history(study)"
   ]
  },
  {
   "cell_type": "code",
   "execution_count": 18,
   "metadata": {
    "tags": []
   },
   "outputs": [
    {
     "data": {
      "application/vnd.plotly.v1+json": {
       "config": {
        "plotlyServerURL": "https://plot.ly"
       },
       "data": [
        {
         "marker": {
          "color": [
           0,
           1,
           2,
           3,
           4,
           5,
           6,
           7,
           8,
           9,
           10,
           11,
           12,
           13,
           14,
           15,
           16,
           17,
           18,
           19,
           20,
           21,
           22,
           23,
           24,
           25,
           26,
           27,
           28,
           29,
           30,
           31,
           32,
           33,
           34,
           35,
           36,
           37,
           38,
           39,
           40,
           41,
           42,
           43,
           44,
           45,
           46,
           47,
           48,
           49,
           50,
           51,
           52,
           53,
           54,
           55,
           56,
           57,
           58,
           59,
           60,
           61,
           62,
           63,
           64,
           65,
           66,
           67,
           68,
           69,
           70,
           71,
           72,
           73,
           74,
           75,
           76,
           77,
           78,
           79,
           80,
           81,
           82,
           83,
           84,
           85,
           86,
           87,
           88,
           89,
           90,
           91,
           92,
           93,
           94,
           95,
           96,
           97,
           98,
           99,
           100,
           101,
           102,
           103,
           104,
           105,
           106,
           107,
           108,
           109,
           110,
           111,
           112,
           113,
           114,
           115,
           116,
           117,
           118,
           119,
           120,
           121,
           122,
           123,
           124,
           125,
           126,
           127,
           128,
           129,
           130,
           131,
           132,
           133,
           134,
           135,
           136,
           137,
           138,
           139,
           140,
           141,
           142,
           143,
           144,
           145,
           146,
           147,
           148,
           149,
           150,
           151,
           152,
           153,
           154,
           155,
           156,
           157,
           158,
           159,
           160,
           161,
           162,
           163,
           164,
           165,
           166,
           167,
           168,
           169,
           170,
           171,
           172,
           173,
           174,
           175,
           176,
           177,
           178,
           179,
           180,
           181,
           182,
           183,
           184,
           185
          ],
          "colorbar": {
           "title": {
            "text": "#Trials"
           },
           "x": 1,
           "xpad": 40,
           "y": 0.5
          },
          "colorscale": [
           [
            0,
            "rgb(247,251,255)"
           ],
           [
            0.125,
            "rgb(222,235,247)"
           ],
           [
            0.25,
            "rgb(198,219,239)"
           ],
           [
            0.375,
            "rgb(158,202,225)"
           ],
           [
            0.5,
            "rgb(107,174,214)"
           ],
           [
            0.625,
            "rgb(66,146,198)"
           ],
           [
            0.75,
            "rgb(33,113,181)"
           ],
           [
            0.875,
            "rgb(8,81,156)"
           ],
           [
            1,
            "rgb(8,48,107)"
           ]
          ],
          "line": {
           "color": "Grey",
           "width": 0.5
          },
          "showscale": true
         },
         "mode": "markers",
         "showlegend": false,
         "type": "scatter",
         "x": [
          0.821080556509667,
          0.3454905730367114,
          0.509723166053726,
          0.7713850489916915,
          0.6012094452455528,
          0.7193038590661257,
          0.35729948560238545,
          0.27651526693296247,
          0.9290835046233267,
          0.22689353360103182,
          0.7014672124802722,
          0.5796193428735471,
          0.37295351524371423,
          0.4599322759130863,
          0.5519862430065012,
          0.17037466218522246,
          0.9506054180924883,
          0.20644468069754118,
          0.20611768432772604,
          0.48357129484695927,
          0.4552372874482856,
          0.7116920849785019,
          0.7107884052152357,
          0.9196723797347185,
          0.40943179208004576,
          0.03215678570927394,
          0.6604811607995114,
          0.8744161481901698,
          0.6130542958450944,
          0.5484854951039901,
          0.5302007462393082,
          0.11475278270901046,
          0.9709655989663392,
          0.8353152090040233,
          0.5512368025002439,
          0.20017880408039124,
          0.4230929106054767,
          0.8879774514204635,
          0.04858076363354091,
          0.6742443884559798,
          0.3783284671585866,
          0.08224028915270643,
          0.6923796890730859,
          0.21658271007778973,
          0.6883030079334322,
          0.42871336748902344,
          0.053538378664726105,
          0.10619786720535784,
          0.7339725727117505,
          0.2032802745806207,
          0.28023220976510477,
          0.3045472361234749,
          0.28817027963733827,
          0.2915325273375759,
          0.2985218456784482,
          0.2963574199406144,
          0.26396719513278183,
          0.32966635506902503,
          0.25684413869159317,
          0.33097024199972913,
          0.16145087687497844,
          0.25516667726129116,
          0.32485734450048165,
          0.33575820217414054,
          0.23801174747728937,
          0.36787228974521174,
          0.15143832348635008,
          0.23956758883801643,
          0.31514431378144003,
          0.31849780769573627,
          0.40387326382044625,
          0.34892289174340296,
          0.3481617298943173,
          0.30509966766101876,
          0.4875488199263225,
          0.4651472415265354,
          0.39440298472302626,
          0.3422997153668942,
          0.5054401519038132,
          0.44269831631325857,
          0.3686883155149026,
          0.486990442960012,
          0.47015615158439444,
          0.3875529197600147,
          0.6118217027467203,
          0.29984995850555085,
          0.29850281150543106,
          0.18004729460982832,
          0.2843516187898789,
          0.2815774963722309,
          0.2342504935719923,
          0.3149492733299064,
          0.2615760079093188,
          0.5826845199249511,
          0.532089632043932,
          0.41572750240713136,
          0.3048480784570418,
          0.27624242094725193,
          0.18672636339273085,
          0.12948638785688282,
          0.18513757534020375,
          0.2154334777163226,
          0.20542886198838103,
          0.22086036688988359,
          0.20238680532258535,
          0.1899396652771169,
          0.13485085401449787,
          0.13639047629954892,
          0.087827780329711,
          0.18625935666385732,
          0.15229797388078253,
          0.19178275651898588,
          0.18667323677427167,
          0.10714432976291105,
          0.19180945392308504,
          0.1653355413677795,
          0.24158377845839896,
          0.2021902436478298,
          0.13434924460665992,
          0.24240977402439773,
          0.01507657621646323,
          0.2702768861019541,
          0.2646374753662415,
          0.23034905522417548,
          0.08259685109214514,
          0.17125904410151144,
          0.2049099957987789,
          0.1497952848159531,
          0.6426627056588659,
          0.25179427203619714,
          0.21544972253007336,
          0.2773728076565041,
          0.11890215847833314,
          0.2694754518712897,
          0.2700107822295966,
          0.1925650796227721,
          0.2262512432073311,
          0.19393475757588308,
          0.23676401396734803,
          0.16833191805726083,
          0.20993678918453001,
          0.24794988526682543,
          0.22554344731691162,
          0.25547844773455514,
          0.18758799127187034,
          0.24583323733510784,
          0.2227013441294196,
          0.16297057090135186,
          0.19736676151342125,
          0.1914142999693418,
          0.20267564097208968,
          0.27674133743326285,
          0.2367802067792329,
          0.18061784272000103,
          0.14698494652459687,
          0.2232740455906429,
          0.2451157678007592,
          0.2059790538102994,
          0.28145317811067166,
          0.25775104644415076,
          0.25103783404752095,
          0.25172839367176136,
          0.262055224694578,
          0.22407239615059746,
          0.2917243978120151,
          0.24198890827255012,
          0.3141372770583485,
          0.22280030750631383,
          0.22249740563202489,
          0.22076280128710862,
          0.22421733862047577,
          0.21316868184759316,
          0.1696793956562082,
          0.22521142420945586,
          0.259662582024934,
          0.22828395077585217,
          0.2193487742513647,
          0.2570073825413419,
          0.27400827477021106,
          0.2570828457467351,
          0.29706534040357513,
          0.238635195355417,
          0.24218477351422812,
          0.23998259003957378,
          0.28169641948101043,
          0.25334155868846603
         ],
         "xaxis": "x",
         "y": [
          0.6795171409988608,
          0.6815436772364654,
          0.6812868627466429,
          0.681726085065035,
          0.6802271413311143,
          0.6796899788982174,
          0.6804924581517803,
          0.6831650822683081,
          0.6794612194085334,
          0.6820480260216849,
          0.6809579535096069,
          0.6813586580587879,
          0.6811011427156431,
          0.6814566903535069,
          0.681041080967928,
          0.680939395077547,
          0.6816193662030721,
          0.6817668478391626,
          0.6829740614677722,
          0.679172059438043,
          0.682840210932054,
          0.6823773875159261,
          0.6811697671953343,
          0.680629987702866,
          0.6831573443910159,
          0.6804331344128877,
          0.681954292189617,
          0.6817140750272337,
          0.6812156076727024,
          0.6807765992945413,
          0.6827881120605914,
          0.6827999656510977,
          0.6812895440238043,
          0.6813397620606271,
          0.681790172420382,
          0.6817273486253861,
          0.6810564365544683,
          0.6814440189029929,
          0.6829144064290584,
          0.6812424825752212,
          0.6816462797862528,
          0.6826682340925552,
          0.6804830088655445,
          0.6834478903975973,
          0.6798202057267563,
          0.6817100375093681,
          0.6816171031133575,
          0.6829357263918603,
          0.6814290376119925,
          0.6833184661536423,
          0.6833371196999376,
          0.6835975872673439,
          0.6835543190005078,
          0.6832702583623307,
          0.6832156232940516,
          0.6836346936296296,
          0.6833441923542464,
          0.6833916213814415,
          0.6832084656518499,
          0.6832270241338607,
          0.6830778845123021,
          0.683463248818257,
          0.6835131400821728,
          0.6835948248618917,
          0.6834581819997674,
          0.683383443372762,
          0.6831281831777367,
          0.6833520448481056,
          0.6834610341351509,
          0.6830972241927722,
          0.6830552001922741,
          0.6835093939908103,
          0.6834540863405139,
          0.6838033644587422,
          0.683662623962015,
          0.6835055307821872,
          0.6832041034783943,
          0.6833306899726876,
          0.683501447482895,
          0.6832647343597856,
          0.6830589461169236,
          0.6835051706125604,
          0.6835699543451866,
          0.6833430531786336,
          0.6829624345860401,
          0.6835262834610951,
          0.6834349017000184,
          0.6833674924733526,
          0.6836249733531489,
          0.6834915185006346,
          0.6832135783685283,
          0.6835024007729178,
          0.6834962048300014,
          0.6830698488502103,
          0.6826587654696213,
          0.6831196448831287,
          0.6833189861300278,
          0.6836720902761735,
          0.6836074119172872,
          0.6834351704725847,
          0.683178624947707,
          0.6835907542559866,
          0.6837390234744987,
          0.6835128752098946,
          0.6836802603505235,
          0.683665817539042,
          0.6836371090589807,
          0.6831719406412339,
          0.6831589985086954,
          0.6837013013383402,
          0.6834330360594594,
          0.6836633110460562,
          0.6836033297849855,
          0.6833375049229129,
          0.6837786130346475,
          0.6830546787154725,
          0.6837355868199,
          0.6835719172332385,
          0.6831240668403559,
          0.6834579483569413,
          0.6823883416159962,
          0.6839044562531953,
          0.6833184757298951,
          0.6834704317309311,
          0.6830705144477651,
          0.6835935867135203,
          0.6834911710496003,
          0.683449727759126,
          0.6822980898206367,
          0.6832770297972196,
          0.6835681703083114,
          0.6837741799755458,
          0.6835403802715477,
          0.6836360044218728,
          0.6836482541530365,
          0.6837936582093519,
          0.6837458883317487,
          0.6835665697067436,
          0.6836334872108492,
          0.6832729724604569,
          0.6835257254956447,
          0.6836674283837144,
          0.6835021689387282,
          0.683561893953907,
          0.68305776494341,
          0.6835929915925696,
          0.683339495089718,
          0.6835106378733118,
          0.6837226544303271,
          0.6834849087222864,
          0.6834660584808067,
          0.6836539122832856,
          0.6835559205771478,
          0.6830544717771836,
          0.6831547836816754,
          0.683518792586868,
          0.6835674975595811,
          0.6835459091828443,
          0.6835948159272851,
          0.6840361008232898,
          0.6839004410054298,
          0.6837264472786483,
          0.6835140689100825,
          0.6836890400555742,
          0.6834400145834099,
          0.6835700266808382,
          0.6833897306371227,
          0.6837192544562957,
          0.6837082456572118,
          0.6837544246762128,
          0.6836328607189387,
          0.6835709989566537,
          0.6836582995857061,
          0.6837399604034504,
          0.6835712553944642,
          0.683608048010656,
          0.6836702111086626,
          0.6837653414617954,
          0.6835354347206621,
          0.683527582868449,
          0.6835341934551563,
          0.6839503796679505,
          0.6840822337521837,
          0.6834908350086609,
          0.6835640954182818,
          0.6823342116886529
         ],
         "yaxis": "y"
        },
        {
         "marker": {
          "color": [
           0,
           1,
           2,
           3,
           4,
           5,
           6,
           7,
           8,
           9,
           10,
           11,
           12,
           13,
           14,
           15,
           16,
           17,
           18,
           19,
           20,
           21,
           22,
           23,
           24,
           25,
           26,
           27,
           28,
           29,
           30,
           31,
           32,
           33,
           34,
           35,
           36,
           37,
           38,
           39,
           40,
           41,
           42,
           43,
           44,
           45,
           46,
           47,
           48,
           49,
           50,
           51,
           52,
           53,
           54,
           55,
           56,
           57,
           58,
           59,
           60,
           61,
           62,
           63,
           64,
           65,
           66,
           67,
           68,
           69,
           70,
           71,
           72,
           73,
           74,
           75,
           76,
           77,
           78,
           79,
           80,
           81,
           82,
           83,
           84,
           85,
           86,
           87,
           88,
           89,
           90,
           91,
           92,
           93,
           94,
           95,
           96,
           97,
           98,
           99,
           100,
           101,
           102,
           103,
           104,
           105,
           106,
           107,
           108,
           109,
           110,
           111,
           112,
           113,
           114,
           115,
           116,
           117,
           118,
           119,
           120,
           121,
           122,
           123,
           124,
           125,
           126,
           127,
           128,
           129,
           130,
           131,
           132,
           133,
           134,
           135,
           136,
           137,
           138,
           139,
           140,
           141,
           142,
           143,
           144,
           145,
           146,
           147,
           148,
           149,
           150,
           151,
           152,
           153,
           154,
           155,
           156,
           157,
           158,
           159,
           160,
           161,
           162,
           163,
           164,
           165,
           166,
           167,
           168,
           169,
           170,
           171,
           172,
           173,
           174,
           175,
           176,
           177,
           178,
           179,
           180,
           181,
           182,
           183,
           184,
           185
          ],
          "colorbar": {
           "title": {
            "text": "#Trials"
           },
           "x": 1,
           "xpad": 40
          },
          "colorscale": [
           [
            0,
            "rgb(247,251,255)"
           ],
           [
            0.125,
            "rgb(222,235,247)"
           ],
           [
            0.25,
            "rgb(198,219,239)"
           ],
           [
            0.375,
            "rgb(158,202,225)"
           ],
           [
            0.5,
            "rgb(107,174,214)"
           ],
           [
            0.625,
            "rgb(66,146,198)"
           ],
           [
            0.75,
            "rgb(33,113,181)"
           ],
           [
            0.875,
            "rgb(8,81,156)"
           ],
           [
            1,
            "rgb(8,48,107)"
           ]
          ],
          "line": {
           "color": "Grey",
           "width": 0.5
          },
          "showscale": false
         },
         "mode": "markers",
         "showlegend": false,
         "type": "scatter",
         "x": [
          0.03198265005260237,
          0.3650493638373742,
          0.4821691872235325,
          0.8275026398770677,
          0.13042711871865798,
          0.06595284622040731,
          0.18267291061231794,
          0.6920243372629767,
          0.035383526595514136,
          0.6230004590329014,
          0.36708672106848417,
          0.5588522108570644,
          0.428250306841616,
          0.5319884234528243,
          0.4014363896832758,
          0.11471569252279656,
          0.6533200667393062,
          0.4392358293130525,
          0.7342952336902902,
          0.0007466784098714152,
          0.6620812163376806,
          0.8238464254522808,
          0.5751084986209619,
          0.16130011569937408,
          0.8527518563503407,
          0.5714795823400846,
          0.7141324382944423,
          0.9280887436380285,
          0.5272135783334633,
          0.4436236065210689,
          0.9376029180231358,
          0.8481966560079214,
          0.6956778440088848,
          0.7191507234005818,
          0.5759052701468785,
          0.34708164394557073,
          0.3350135703461936,
          0.4897364620369793,
          0.8031732733629426,
          0.5714845021606806,
          0.6748948650288449,
          0.5022062388416784,
          0.2640489853842002,
          0.9683771201533662,
          0.029843314694301126,
          0.5693299720808062,
          0.6162982531918846,
          0.5448412692868801,
          0.5684846242268716,
          0.9586590020325156,
          0.9857916503770081,
          0.9915811579428218,
          0.9770546881625224,
          0.9999401456358037,
          0.9969816228496954,
          0.9974972579869421,
          0.9415852673018967,
          0.8991345227083305,
          0.8920924481472617,
          0.7711570580117959,
          0.8938836047240912,
          0.9655250025270006,
          0.8868472793530341,
          0.8763526721908564,
          0.9711926366450273,
          0.915991607424625,
          0.8675866441168568,
          0.9988561870104323,
          0.8060279955046364,
          0.7770036292451385,
          0.8213551170439378,
          0.9557583727880802,
          0.8670312226740036,
          0.9493497052187186,
          0.9485174158069577,
          0.9227224097399959,
          0.9353872762723034,
          0.8874674394784783,
          0.9996680094383704,
          0.9548660004277052,
          0.8588171022717891,
          0.9152259476541275,
          0.9197247801276383,
          0.9459198223935119,
          0.8405026252893815,
          0.978525297717291,
          0.9778375707855327,
          0.8812454294775345,
          0.9114955779255312,
          0.9172124335431574,
          0.9843684088611797,
          0.9125921188235706,
          0.9996374290038446,
          0.9387598733715438,
          0.7688428586914593,
          0.8779216593979435,
          0.8426082647636818,
          0.9035316703896694,
          0.9681866538058451,
          0.9049703455292828,
          0.9426548948145489,
          0.9679482112095623,
          0.9637485764510659,
          0.9576644930026611,
          0.929751672716425,
          0.9823868978623063,
          0.9352030367788564,
          0.9980485124375855,
          0.9382056232170668,
          0.986509957511063,
          0.9282016143939963,
          0.9870002206846649,
          0.9607711219066546,
          0.9805824257958371,
          0.9018132741508494,
          0.9007243956763206,
          0.899432504467119,
          0.8257058501244638,
          0.853322902598536,
          0.9427298218694696,
          0.9952389503605054,
          0.9023759880514501,
          0.8931908685449488,
          0.95095047240379,
          0.9266036168081114,
          0.9012736404229247,
          0.7936524227682448,
          0.8706396630325608,
          0.9304471102310609,
          0.9970983035565447,
          0.9769082924300634,
          0.9022307349453405,
          0.8591448259932444,
          0.9594511856665504,
          0.9513659434464031,
          0.9071930833071382,
          0.835754953640468,
          0.8302854854687798,
          0.8846386863702331,
          0.907413246821283,
          0.8590426126021811,
          0.8902390386289061,
          0.8813600109671975,
          0.9116056252685532,
          0.840376782397469,
          0.9234275243999422,
          0.8103139628639324,
          0.8925296648905344,
          0.8615374713452545,
          0.8665627745384451,
          0.8448108853729145,
          0.8937069422871793,
          0.923029349644759,
          0.8770456157190489,
          0.9476642508804977,
          0.9037391912376651,
          0.9607046659093699,
          0.9787553372225448,
          0.9271481645781937,
          0.8710807338684691,
          0.749467980648189,
          0.8181773552970605,
          0.7894690380269094,
          0.8170011770859836,
          0.7306420795945744,
          0.7604425850880774,
          0.8155484094511636,
          0.8309583423496774,
          0.827556140278603,
          0.783752047460406,
          0.7671610039903306,
          0.7863941876169694,
          0.7467059273152906,
          0.8060957965526352,
          0.8156244217715773,
          0.8227902412905188,
          0.8334167323327542,
          0.8001449753946068,
          0.8000827065782793,
          0.7555931640009989,
          0.848583690863219,
          0.798008050845772,
          0.7886277759590068,
          0.7133497924423813,
          0.7842501473347293,
          0.8001681429387933
         ],
         "xaxis": "x2",
         "y": [
          0.6795171409988608,
          0.6815436772364654,
          0.6812868627466429,
          0.681726085065035,
          0.6802271413311143,
          0.6796899788982174,
          0.6804924581517803,
          0.6831650822683081,
          0.6794612194085334,
          0.6820480260216849,
          0.6809579535096069,
          0.6813586580587879,
          0.6811011427156431,
          0.6814566903535069,
          0.681041080967928,
          0.680939395077547,
          0.6816193662030721,
          0.6817668478391626,
          0.6829740614677722,
          0.679172059438043,
          0.682840210932054,
          0.6823773875159261,
          0.6811697671953343,
          0.680629987702866,
          0.6831573443910159,
          0.6804331344128877,
          0.681954292189617,
          0.6817140750272337,
          0.6812156076727024,
          0.6807765992945413,
          0.6827881120605914,
          0.6827999656510977,
          0.6812895440238043,
          0.6813397620606271,
          0.681790172420382,
          0.6817273486253861,
          0.6810564365544683,
          0.6814440189029929,
          0.6829144064290584,
          0.6812424825752212,
          0.6816462797862528,
          0.6826682340925552,
          0.6804830088655445,
          0.6834478903975973,
          0.6798202057267563,
          0.6817100375093681,
          0.6816171031133575,
          0.6829357263918603,
          0.6814290376119925,
          0.6833184661536423,
          0.6833371196999376,
          0.6835975872673439,
          0.6835543190005078,
          0.6832702583623307,
          0.6832156232940516,
          0.6836346936296296,
          0.6833441923542464,
          0.6833916213814415,
          0.6832084656518499,
          0.6832270241338607,
          0.6830778845123021,
          0.683463248818257,
          0.6835131400821728,
          0.6835948248618917,
          0.6834581819997674,
          0.683383443372762,
          0.6831281831777367,
          0.6833520448481056,
          0.6834610341351509,
          0.6830972241927722,
          0.6830552001922741,
          0.6835093939908103,
          0.6834540863405139,
          0.6838033644587422,
          0.683662623962015,
          0.6835055307821872,
          0.6832041034783943,
          0.6833306899726876,
          0.683501447482895,
          0.6832647343597856,
          0.6830589461169236,
          0.6835051706125604,
          0.6835699543451866,
          0.6833430531786336,
          0.6829624345860401,
          0.6835262834610951,
          0.6834349017000184,
          0.6833674924733526,
          0.6836249733531489,
          0.6834915185006346,
          0.6832135783685283,
          0.6835024007729178,
          0.6834962048300014,
          0.6830698488502103,
          0.6826587654696213,
          0.6831196448831287,
          0.6833189861300278,
          0.6836720902761735,
          0.6836074119172872,
          0.6834351704725847,
          0.683178624947707,
          0.6835907542559866,
          0.6837390234744987,
          0.6835128752098946,
          0.6836802603505235,
          0.683665817539042,
          0.6836371090589807,
          0.6831719406412339,
          0.6831589985086954,
          0.6837013013383402,
          0.6834330360594594,
          0.6836633110460562,
          0.6836033297849855,
          0.6833375049229129,
          0.6837786130346475,
          0.6830546787154725,
          0.6837355868199,
          0.6835719172332385,
          0.6831240668403559,
          0.6834579483569413,
          0.6823883416159962,
          0.6839044562531953,
          0.6833184757298951,
          0.6834704317309311,
          0.6830705144477651,
          0.6835935867135203,
          0.6834911710496003,
          0.683449727759126,
          0.6822980898206367,
          0.6832770297972196,
          0.6835681703083114,
          0.6837741799755458,
          0.6835403802715477,
          0.6836360044218728,
          0.6836482541530365,
          0.6837936582093519,
          0.6837458883317487,
          0.6835665697067436,
          0.6836334872108492,
          0.6832729724604569,
          0.6835257254956447,
          0.6836674283837144,
          0.6835021689387282,
          0.683561893953907,
          0.68305776494341,
          0.6835929915925696,
          0.683339495089718,
          0.6835106378733118,
          0.6837226544303271,
          0.6834849087222864,
          0.6834660584808067,
          0.6836539122832856,
          0.6835559205771478,
          0.6830544717771836,
          0.6831547836816754,
          0.683518792586868,
          0.6835674975595811,
          0.6835459091828443,
          0.6835948159272851,
          0.6840361008232898,
          0.6839004410054298,
          0.6837264472786483,
          0.6835140689100825,
          0.6836890400555742,
          0.6834400145834099,
          0.6835700266808382,
          0.6833897306371227,
          0.6837192544562957,
          0.6837082456572118,
          0.6837544246762128,
          0.6836328607189387,
          0.6835709989566537,
          0.6836582995857061,
          0.6837399604034504,
          0.6835712553944642,
          0.683608048010656,
          0.6836702111086626,
          0.6837653414617954,
          0.6835354347206621,
          0.683527582868449,
          0.6835341934551563,
          0.6839503796679505,
          0.6840822337521837,
          0.6834908350086609,
          0.6835640954182818,
          0.6823342116886529
         ],
         "yaxis": "y2"
        },
        {
         "marker": {
          "color": [
           0,
           1,
           2,
           3,
           4,
           5,
           6,
           7,
           8,
           9,
           10,
           11,
           12,
           13,
           14,
           15,
           16,
           17,
           18,
           19,
           20,
           21,
           22,
           23,
           24,
           25,
           26,
           27,
           28,
           29,
           30,
           31,
           32,
           33,
           34,
           35,
           36,
           37,
           38,
           39,
           40,
           41,
           42,
           43,
           44,
           45,
           46,
           47,
           48,
           49,
           50,
           51,
           52,
           53,
           54,
           55,
           56,
           57,
           58,
           59,
           60,
           61,
           62,
           63,
           64,
           65,
           66,
           67,
           68,
           69,
           70,
           71,
           72,
           73,
           74,
           75,
           76,
           77,
           78,
           79,
           80,
           81,
           82,
           83,
           84,
           85,
           86,
           87,
           88,
           89,
           90,
           91,
           92,
           93,
           94,
           95,
           96,
           97,
           98,
           99,
           100,
           101,
           102,
           103,
           104,
           105,
           106,
           107,
           108,
           109,
           110,
           111,
           112,
           113,
           114,
           115,
           116,
           117,
           118,
           119,
           120,
           121,
           122,
           123,
           124,
           125,
           126,
           127,
           128,
           129,
           130,
           131,
           132,
           133,
           134,
           135,
           136,
           137,
           138,
           139,
           140,
           141,
           142,
           143,
           144,
           145,
           146,
           147,
           148,
           149,
           150,
           151,
           152,
           153,
           154,
           155,
           156,
           157,
           158,
           159,
           160,
           161,
           162,
           163,
           164,
           165,
           166,
           167,
           168,
           169,
           170,
           171,
           172,
           173,
           174,
           175,
           176,
           177,
           178,
           179,
           180,
           181,
           182,
           183,
           184,
           185
          ],
          "colorbar": {
           "title": {
            "text": "#Trials"
           },
           "x": 1,
           "xpad": 40
          },
          "colorscale": [
           [
            0,
            "rgb(247,251,255)"
           ],
           [
            0.125,
            "rgb(222,235,247)"
           ],
           [
            0.25,
            "rgb(198,219,239)"
           ],
           [
            0.375,
            "rgb(158,202,225)"
           ],
           [
            0.5,
            "rgb(107,174,214)"
           ],
           [
            0.625,
            "rgb(66,146,198)"
           ],
           [
            0.75,
            "rgb(33,113,181)"
           ],
           [
            0.875,
            "rgb(8,81,156)"
           ],
           [
            1,
            "rgb(8,48,107)"
           ]
          ],
          "line": {
           "color": "Grey",
           "width": 0.5
          },
          "showscale": false
         },
         "mode": "markers",
         "showlegend": false,
         "type": "scatter",
         "x": [
          0.8316165993100444,
          0.5104183981442681,
          0.8848351257344365,
          0.40801096058960185,
          0.6914866109020719,
          0.5248470636274639,
          0.8560048822770606,
          0.35367068980746275,
          0.9414525012571014,
          0.7254338237668064,
          0.42354759251084995,
          0.05776431795992276,
          0.9631937728860965,
          0.7136329967172793,
          0.18901592650503907,
          0.4139014612496207,
          0.6573166350037893,
          0.607015732324477,
          0.5276513179367123,
          0.07668603218684245,
          0.19832370558321966,
          0.6853081781718638,
          0.3233759543585204,
          0.013540068368738667,
          0.2598972939255365,
          0.9485224295551107,
          0.6386082969589504,
          0.8771221442070825,
          0.3687909995185109,
          0.08761160014938707,
          0.8053020517637692,
          0.608575022868414,
          0.6348702079983959,
          0.16746814216056327,
          0.241509177251382,
          0.403280967381465,
          0.18409770930587555,
          0.19136810937230941,
          0.11855181419314154,
          0.5021419418187191,
          0.915574529998453,
          0.21877958513251916,
          0.9821417445201837,
          0.3790087826462727,
          0.25290332371597724,
          0.9740627016460659,
          0.6993850237124007,
          0.3622859892478195,
          0.5357475835683693,
          0.03655478261687761,
          0.456465905791234,
          0.28993707677057434,
          0.2826839801218755,
          0.46273688058393,
          0.4634180808420619,
          0.2842581969494091,
          0.29739858159252486,
          0.3021895094544389,
          0.3092154077540527,
          0.2890410164210345,
          0.3311150172075938,
          0.28388356142770826,
          0.28366240346045174,
          0.2738108120445236,
          0.14268846519561446,
          0.13387745231617149,
          0.23067214741754796,
          0.1440034828334218,
          0.26579519674053775,
          0.3423100211185105,
          0.21475809692454367,
          0.2773980195033,
          0.27212719557795384,
          0.2705920768338495,
          0.3299047243536648,
          0.3974015269276121,
          0.32331769695467116,
          0.23674061830562784,
          0.43309455785441964,
          0.1721571432722144,
          0.35128096709602785,
          0.3909931605002378,
          0.32022419495848875,
          0.20648174647641254,
          0.2630881525941217,
          0.31439846666396903,
          0.3228725985747025,
          0.37081188885289096,
          0.2473975479590647,
          0.23503062341925715,
          0.3448584429465696,
          0.30729903478547527,
          0.2522587754088183,
          0.29825075769212334,
          0.43029008419680825,
          0.19512461554440474,
          0.3173163854404148,
          0.16761146741023084,
          0.08183856737504358,
          0.08780043866655768,
          0.0032056717493500336,
          0.16242021623433694,
          0.10556873149827864,
          0.06062655786609979,
          0.10298372617447368,
          0.10600417846576646,
          0.07525471702897185,
          0.10787597941563536,
          0.039551843386613085,
          0.10506097628671325,
          0.11104256021594057,
          0.07799308428089557,
          0.06916638486554372,
          0.032055666146253846,
          0.10215133778745748,
          0.12832322367009247,
          0.15717952727049164,
          0.09349095769561436,
          0.16265313658281524,
          0.04679935250899995,
          0.10967267898271982,
          0.13375011031617715,
          0.014840787369986619,
          0.1488928071421877,
          0.12715663118213286,
          0.09850150508113087,
          0.17528705355586444,
          0.06680901305714228,
          0.14699070354805402,
          0.020378928498021046,
          0.12172673222296632,
          0.07863472551251534,
          0.0782556156644674,
          0.05464384999128256,
          0.051502395556137406,
          0.09357474952446306,
          0.09897629314771003,
          0.09779900647271043,
          0.14813282878277573,
          0.12331292540839395,
          0.17289484636862507,
          0.04938961648158885,
          0.09957950621964803,
          0.19047586348207485,
          0.030054293173314504,
          0.13302786548787232,
          0.005349533237699669,
          0.08259290849336887,
          0.1578198581457026,
          0.10830224354618143,
          0.15431299238875656,
          0.21248164485016358,
          0.060656808795778006,
          0.556574057553231,
          0.13313487359880197,
          0.08767606909458651,
          0.11785923689968447,
          0.1798024183452123,
          0.04800715567062115,
          0.0919608529665836,
          0.06841991759739262,
          0.07119588744671314,
          0.09825862050961717,
          0.06773845574756235,
          0.06500451462295306,
          0.03737548028514037,
          0.0768092872216597,
          0.1453069012333968,
          0.14823376892117257,
          0.1427725569873444,
          0.1402843703324409,
          0.11485443656003932,
          0.15611849413965181,
          0.12038485170540232,
          0.12947099425827358,
          0.19620668214186776,
          0.15250193244844942,
          0.08991434494885804,
          0.12746534832195094,
          0.0920778897415337,
          0.11631834391889985,
          0.06701582286298446,
          0.0806654784002276,
          0.08764024889479992,
          0.018852227260612447,
          0.7544832462008779
         ],
         "xaxis": "x3",
         "y": [
          0.6795171409988608,
          0.6815436772364654,
          0.6812868627466429,
          0.681726085065035,
          0.6802271413311143,
          0.6796899788982174,
          0.6804924581517803,
          0.6831650822683081,
          0.6794612194085334,
          0.6820480260216849,
          0.6809579535096069,
          0.6813586580587879,
          0.6811011427156431,
          0.6814566903535069,
          0.681041080967928,
          0.680939395077547,
          0.6816193662030721,
          0.6817668478391626,
          0.6829740614677722,
          0.679172059438043,
          0.682840210932054,
          0.6823773875159261,
          0.6811697671953343,
          0.680629987702866,
          0.6831573443910159,
          0.6804331344128877,
          0.681954292189617,
          0.6817140750272337,
          0.6812156076727024,
          0.6807765992945413,
          0.6827881120605914,
          0.6827999656510977,
          0.6812895440238043,
          0.6813397620606271,
          0.681790172420382,
          0.6817273486253861,
          0.6810564365544683,
          0.6814440189029929,
          0.6829144064290584,
          0.6812424825752212,
          0.6816462797862528,
          0.6826682340925552,
          0.6804830088655445,
          0.6834478903975973,
          0.6798202057267563,
          0.6817100375093681,
          0.6816171031133575,
          0.6829357263918603,
          0.6814290376119925,
          0.6833184661536423,
          0.6833371196999376,
          0.6835975872673439,
          0.6835543190005078,
          0.6832702583623307,
          0.6832156232940516,
          0.6836346936296296,
          0.6833441923542464,
          0.6833916213814415,
          0.6832084656518499,
          0.6832270241338607,
          0.6830778845123021,
          0.683463248818257,
          0.6835131400821728,
          0.6835948248618917,
          0.6834581819997674,
          0.683383443372762,
          0.6831281831777367,
          0.6833520448481056,
          0.6834610341351509,
          0.6830972241927722,
          0.6830552001922741,
          0.6835093939908103,
          0.6834540863405139,
          0.6838033644587422,
          0.683662623962015,
          0.6835055307821872,
          0.6832041034783943,
          0.6833306899726876,
          0.683501447482895,
          0.6832647343597856,
          0.6830589461169236,
          0.6835051706125604,
          0.6835699543451866,
          0.6833430531786336,
          0.6829624345860401,
          0.6835262834610951,
          0.6834349017000184,
          0.6833674924733526,
          0.6836249733531489,
          0.6834915185006346,
          0.6832135783685283,
          0.6835024007729178,
          0.6834962048300014,
          0.6830698488502103,
          0.6826587654696213,
          0.6831196448831287,
          0.6833189861300278,
          0.6836720902761735,
          0.6836074119172872,
          0.6834351704725847,
          0.683178624947707,
          0.6835907542559866,
          0.6837390234744987,
          0.6835128752098946,
          0.6836802603505235,
          0.683665817539042,
          0.6836371090589807,
          0.6831719406412339,
          0.6831589985086954,
          0.6837013013383402,
          0.6834330360594594,
          0.6836633110460562,
          0.6836033297849855,
          0.6833375049229129,
          0.6837786130346475,
          0.6830546787154725,
          0.6837355868199,
          0.6835719172332385,
          0.6831240668403559,
          0.6834579483569413,
          0.6823883416159962,
          0.6839044562531953,
          0.6833184757298951,
          0.6834704317309311,
          0.6830705144477651,
          0.6835935867135203,
          0.6834911710496003,
          0.683449727759126,
          0.6822980898206367,
          0.6832770297972196,
          0.6835681703083114,
          0.6837741799755458,
          0.6835403802715477,
          0.6836360044218728,
          0.6836482541530365,
          0.6837936582093519,
          0.6837458883317487,
          0.6835665697067436,
          0.6836334872108492,
          0.6832729724604569,
          0.6835257254956447,
          0.6836674283837144,
          0.6835021689387282,
          0.683561893953907,
          0.68305776494341,
          0.6835929915925696,
          0.683339495089718,
          0.6835106378733118,
          0.6837226544303271,
          0.6834849087222864,
          0.6834660584808067,
          0.6836539122832856,
          0.6835559205771478,
          0.6830544717771836,
          0.6831547836816754,
          0.683518792586868,
          0.6835674975595811,
          0.6835459091828443,
          0.6835948159272851,
          0.6840361008232898,
          0.6839004410054298,
          0.6837264472786483,
          0.6835140689100825,
          0.6836890400555742,
          0.6834400145834099,
          0.6835700266808382,
          0.6833897306371227,
          0.6837192544562957,
          0.6837082456572118,
          0.6837544246762128,
          0.6836328607189387,
          0.6835709989566537,
          0.6836582995857061,
          0.6837399604034504,
          0.6835712553944642,
          0.683608048010656,
          0.6836702111086626,
          0.6837653414617954,
          0.6835354347206621,
          0.683527582868449,
          0.6835341934551563,
          0.6839503796679505,
          0.6840822337521837,
          0.6834908350086609,
          0.6835640954182818,
          0.6823342116886529
         ],
         "yaxis": "y3"
        }
       ],
       "layout": {
        "autosize": true,
        "template": {
         "data": {
          "bar": [
           {
            "error_x": {
             "color": "#2a3f5f"
            },
            "error_y": {
             "color": "#2a3f5f"
            },
            "marker": {
             "line": {
              "color": "#E5ECF6",
              "width": 0.5
             }
            },
            "type": "bar"
           }
          ],
          "barpolar": [
           {
            "marker": {
             "line": {
              "color": "#E5ECF6",
              "width": 0.5
             }
            },
            "type": "barpolar"
           }
          ],
          "carpet": [
           {
            "aaxis": {
             "endlinecolor": "#2a3f5f",
             "gridcolor": "white",
             "linecolor": "white",
             "minorgridcolor": "white",
             "startlinecolor": "#2a3f5f"
            },
            "baxis": {
             "endlinecolor": "#2a3f5f",
             "gridcolor": "white",
             "linecolor": "white",
             "minorgridcolor": "white",
             "startlinecolor": "#2a3f5f"
            },
            "type": "carpet"
           }
          ],
          "choropleth": [
           {
            "colorbar": {
             "outlinewidth": 0,
             "ticks": ""
            },
            "type": "choropleth"
           }
          ],
          "contour": [
           {
            "colorbar": {
             "outlinewidth": 0,
             "ticks": ""
            },
            "colorscale": [
             [
              0,
              "#0d0887"
             ],
             [
              0.1111111111111111,
              "#46039f"
             ],
             [
              0.2222222222222222,
              "#7201a8"
             ],
             [
              0.3333333333333333,
              "#9c179e"
             ],
             [
              0.4444444444444444,
              "#bd3786"
             ],
             [
              0.5555555555555556,
              "#d8576b"
             ],
             [
              0.6666666666666666,
              "#ed7953"
             ],
             [
              0.7777777777777778,
              "#fb9f3a"
             ],
             [
              0.8888888888888888,
              "#fdca26"
             ],
             [
              1,
              "#f0f921"
             ]
            ],
            "type": "contour"
           }
          ],
          "contourcarpet": [
           {
            "colorbar": {
             "outlinewidth": 0,
             "ticks": ""
            },
            "type": "contourcarpet"
           }
          ],
          "heatmap": [
           {
            "colorbar": {
             "outlinewidth": 0,
             "ticks": ""
            },
            "colorscale": [
             [
              0,
              "#0d0887"
             ],
             [
              0.1111111111111111,
              "#46039f"
             ],
             [
              0.2222222222222222,
              "#7201a8"
             ],
             [
              0.3333333333333333,
              "#9c179e"
             ],
             [
              0.4444444444444444,
              "#bd3786"
             ],
             [
              0.5555555555555556,
              "#d8576b"
             ],
             [
              0.6666666666666666,
              "#ed7953"
             ],
             [
              0.7777777777777778,
              "#fb9f3a"
             ],
             [
              0.8888888888888888,
              "#fdca26"
             ],
             [
              1,
              "#f0f921"
             ]
            ],
            "type": "heatmap"
           }
          ],
          "heatmapgl": [
           {
            "colorbar": {
             "outlinewidth": 0,
             "ticks": ""
            },
            "colorscale": [
             [
              0,
              "#0d0887"
             ],
             [
              0.1111111111111111,
              "#46039f"
             ],
             [
              0.2222222222222222,
              "#7201a8"
             ],
             [
              0.3333333333333333,
              "#9c179e"
             ],
             [
              0.4444444444444444,
              "#bd3786"
             ],
             [
              0.5555555555555556,
              "#d8576b"
             ],
             [
              0.6666666666666666,
              "#ed7953"
             ],
             [
              0.7777777777777778,
              "#fb9f3a"
             ],
             [
              0.8888888888888888,
              "#fdca26"
             ],
             [
              1,
              "#f0f921"
             ]
            ],
            "type": "heatmapgl"
           }
          ],
          "histogram": [
           {
            "marker": {
             "colorbar": {
              "outlinewidth": 0,
              "ticks": ""
             }
            },
            "type": "histogram"
           }
          ],
          "histogram2d": [
           {
            "colorbar": {
             "outlinewidth": 0,
             "ticks": ""
            },
            "colorscale": [
             [
              0,
              "#0d0887"
             ],
             [
              0.1111111111111111,
              "#46039f"
             ],
             [
              0.2222222222222222,
              "#7201a8"
             ],
             [
              0.3333333333333333,
              "#9c179e"
             ],
             [
              0.4444444444444444,
              "#bd3786"
             ],
             [
              0.5555555555555556,
              "#d8576b"
             ],
             [
              0.6666666666666666,
              "#ed7953"
             ],
             [
              0.7777777777777778,
              "#fb9f3a"
             ],
             [
              0.8888888888888888,
              "#fdca26"
             ],
             [
              1,
              "#f0f921"
             ]
            ],
            "type": "histogram2d"
           }
          ],
          "histogram2dcontour": [
           {
            "colorbar": {
             "outlinewidth": 0,
             "ticks": ""
            },
            "colorscale": [
             [
              0,
              "#0d0887"
             ],
             [
              0.1111111111111111,
              "#46039f"
             ],
             [
              0.2222222222222222,
              "#7201a8"
             ],
             [
              0.3333333333333333,
              "#9c179e"
             ],
             [
              0.4444444444444444,
              "#bd3786"
             ],
             [
              0.5555555555555556,
              "#d8576b"
             ],
             [
              0.6666666666666666,
              "#ed7953"
             ],
             [
              0.7777777777777778,
              "#fb9f3a"
             ],
             [
              0.8888888888888888,
              "#fdca26"
             ],
             [
              1,
              "#f0f921"
             ]
            ],
            "type": "histogram2dcontour"
           }
          ],
          "mesh3d": [
           {
            "colorbar": {
             "outlinewidth": 0,
             "ticks": ""
            },
            "type": "mesh3d"
           }
          ],
          "parcoords": [
           {
            "line": {
             "colorbar": {
              "outlinewidth": 0,
              "ticks": ""
             }
            },
            "type": "parcoords"
           }
          ],
          "pie": [
           {
            "automargin": true,
            "type": "pie"
           }
          ],
          "scatter": [
           {
            "marker": {
             "colorbar": {
              "outlinewidth": 0,
              "ticks": ""
             }
            },
            "type": "scatter"
           }
          ],
          "scatter3d": [
           {
            "line": {
             "colorbar": {
              "outlinewidth": 0,
              "ticks": ""
             }
            },
            "marker": {
             "colorbar": {
              "outlinewidth": 0,
              "ticks": ""
             }
            },
            "type": "scatter3d"
           }
          ],
          "scattercarpet": [
           {
            "marker": {
             "colorbar": {
              "outlinewidth": 0,
              "ticks": ""
             }
            },
            "type": "scattercarpet"
           }
          ],
          "scattergeo": [
           {
            "marker": {
             "colorbar": {
              "outlinewidth": 0,
              "ticks": ""
             }
            },
            "type": "scattergeo"
           }
          ],
          "scattergl": [
           {
            "marker": {
             "colorbar": {
              "outlinewidth": 0,
              "ticks": ""
             }
            },
            "type": "scattergl"
           }
          ],
          "scattermapbox": [
           {
            "marker": {
             "colorbar": {
              "outlinewidth": 0,
              "ticks": ""
             }
            },
            "type": "scattermapbox"
           }
          ],
          "scatterpolar": [
           {
            "marker": {
             "colorbar": {
              "outlinewidth": 0,
              "ticks": ""
             }
            },
            "type": "scatterpolar"
           }
          ],
          "scatterpolargl": [
           {
            "marker": {
             "colorbar": {
              "outlinewidth": 0,
              "ticks": ""
             }
            },
            "type": "scatterpolargl"
           }
          ],
          "scatterternary": [
           {
            "marker": {
             "colorbar": {
              "outlinewidth": 0,
              "ticks": ""
             }
            },
            "type": "scatterternary"
           }
          ],
          "surface": [
           {
            "colorbar": {
             "outlinewidth": 0,
             "ticks": ""
            },
            "colorscale": [
             [
              0,
              "#0d0887"
             ],
             [
              0.1111111111111111,
              "#46039f"
             ],
             [
              0.2222222222222222,
              "#7201a8"
             ],
             [
              0.3333333333333333,
              "#9c179e"
             ],
             [
              0.4444444444444444,
              "#bd3786"
             ],
             [
              0.5555555555555556,
              "#d8576b"
             ],
             [
              0.6666666666666666,
              "#ed7953"
             ],
             [
              0.7777777777777778,
              "#fb9f3a"
             ],
             [
              0.8888888888888888,
              "#fdca26"
             ],
             [
              1,
              "#f0f921"
             ]
            ],
            "type": "surface"
           }
          ],
          "table": [
           {
            "cells": {
             "fill": {
              "color": "#EBF0F8"
             },
             "line": {
              "color": "white"
             }
            },
            "header": {
             "fill": {
              "color": "#C8D4E3"
             },
             "line": {
              "color": "white"
             }
            },
            "type": "table"
           }
          ]
         },
         "layout": {
          "annotationdefaults": {
           "arrowcolor": "#2a3f5f",
           "arrowhead": 0,
           "arrowwidth": 1
          },
          "autotypenumbers": "strict",
          "coloraxis": {
           "colorbar": {
            "outlinewidth": 0,
            "ticks": ""
           }
          },
          "colorscale": {
           "diverging": [
            [
             0,
             "#8e0152"
            ],
            [
             0.1,
             "#c51b7d"
            ],
            [
             0.2,
             "#de77ae"
            ],
            [
             0.3,
             "#f1b6da"
            ],
            [
             0.4,
             "#fde0ef"
            ],
            [
             0.5,
             "#f7f7f7"
            ],
            [
             0.6,
             "#e6f5d0"
            ],
            [
             0.7,
             "#b8e186"
            ],
            [
             0.8,
             "#7fbc41"
            ],
            [
             0.9,
             "#4d9221"
            ],
            [
             1,
             "#276419"
            ]
           ],
           "sequential": [
            [
             0,
             "#0d0887"
            ],
            [
             0.1111111111111111,
             "#46039f"
            ],
            [
             0.2222222222222222,
             "#7201a8"
            ],
            [
             0.3333333333333333,
             "#9c179e"
            ],
            [
             0.4444444444444444,
             "#bd3786"
            ],
            [
             0.5555555555555556,
             "#d8576b"
            ],
            [
             0.6666666666666666,
             "#ed7953"
            ],
            [
             0.7777777777777778,
             "#fb9f3a"
            ],
            [
             0.8888888888888888,
             "#fdca26"
            ],
            [
             1,
             "#f0f921"
            ]
           ],
           "sequentialminus": [
            [
             0,
             "#0d0887"
            ],
            [
             0.1111111111111111,
             "#46039f"
            ],
            [
             0.2222222222222222,
             "#7201a8"
            ],
            [
             0.3333333333333333,
             "#9c179e"
            ],
            [
             0.4444444444444444,
             "#bd3786"
            ],
            [
             0.5555555555555556,
             "#d8576b"
            ],
            [
             0.6666666666666666,
             "#ed7953"
            ],
            [
             0.7777777777777778,
             "#fb9f3a"
            ],
            [
             0.8888888888888888,
             "#fdca26"
            ],
            [
             1,
             "#f0f921"
            ]
           ]
          },
          "colorway": [
           "#636efa",
           "#EF553B",
           "#00cc96",
           "#ab63fa",
           "#FFA15A",
           "#19d3f3",
           "#FF6692",
           "#B6E880",
           "#FF97FF",
           "#FECB52"
          ],
          "font": {
           "color": "#2a3f5f"
          },
          "geo": {
           "bgcolor": "white",
           "lakecolor": "white",
           "landcolor": "#E5ECF6",
           "showlakes": true,
           "showland": true,
           "subunitcolor": "white"
          },
          "hoverlabel": {
           "align": "left"
          },
          "hovermode": "closest",
          "mapbox": {
           "style": "light"
          },
          "paper_bgcolor": "white",
          "plot_bgcolor": "#E5ECF6",
          "polar": {
           "angularaxis": {
            "gridcolor": "white",
            "linecolor": "white",
            "ticks": ""
           },
           "bgcolor": "#E5ECF6",
           "radialaxis": {
            "gridcolor": "white",
            "linecolor": "white",
            "ticks": ""
           }
          },
          "scene": {
           "xaxis": {
            "backgroundcolor": "#E5ECF6",
            "gridcolor": "white",
            "gridwidth": 2,
            "linecolor": "white",
            "showbackground": true,
            "ticks": "",
            "zerolinecolor": "white"
           },
           "yaxis": {
            "backgroundcolor": "#E5ECF6",
            "gridcolor": "white",
            "gridwidth": 2,
            "linecolor": "white",
            "showbackground": true,
            "ticks": "",
            "zerolinecolor": "white"
           },
           "zaxis": {
            "backgroundcolor": "#E5ECF6",
            "gridcolor": "white",
            "gridwidth": 2,
            "linecolor": "white",
            "showbackground": true,
            "ticks": "",
            "zerolinecolor": "white"
           }
          },
          "shapedefaults": {
           "line": {
            "color": "#2a3f5f"
           }
          },
          "ternary": {
           "aaxis": {
            "gridcolor": "white",
            "linecolor": "white",
            "ticks": ""
           },
           "baxis": {
            "gridcolor": "white",
            "linecolor": "white",
            "ticks": ""
           },
           "bgcolor": "#E5ECF6",
           "caxis": {
            "gridcolor": "white",
            "linecolor": "white",
            "ticks": ""
           }
          },
          "title": {
           "x": 0.05
          },
          "xaxis": {
           "automargin": true,
           "gridcolor": "white",
           "linecolor": "white",
           "ticks": "",
           "title": {
            "standoff": 15
           },
           "zerolinecolor": "white",
           "zerolinewidth": 2
          },
          "yaxis": {
           "automargin": true,
           "gridcolor": "white",
           "linecolor": "white",
           "ticks": "",
           "title": {
            "standoff": 15
           },
           "zerolinecolor": "white",
           "zerolinewidth": 2
          }
         }
        },
        "title": {
         "text": "Slice Plot"
        },
        "xaxis": {
         "anchor": "y",
         "autorange": true,
         "domain": [
          0,
          0.2888888888888889
         ],
         "range": [
          -0.07457517558586656,
          1.060617350768669
         ],
         "title": {
          "text": "lgbm_weight"
         },
         "type": "linear"
        },
        "xaxis2": {
         "anchor": "y2",
         "autorange": true,
         "domain": [
          0.35555555555555557,
          0.6444444444444445
         ],
         "range": [
          -0.0929665483290955,
          1.0936533723747706
         ],
         "title": {
          "text": "lr_weight"
         },
         "type": "linear"
        },
        "xaxis3": {
         "anchor": "y3",
         "autorange": true,
         "domain": [
          0.7111111111111111,
          1
         ],
         "range": [
          -0.08860763684365273,
          1.0739550531131865
         ],
         "title": {
          "text": "rf_weight"
         },
         "type": "linear"
        },
        "yaxis": {
         "anchor": "x",
         "autorange": true,
         "domain": [
          0,
          1
         ],
         "range": [
          0.6787668508781383,
          0.6844874423120885
         ],
         "title": {
          "text": "Objective Value"
         },
         "type": "linear"
        },
        "yaxis2": {
         "anchor": "x2",
         "autorange": true,
         "domain": [
          0,
          1
         ],
         "matches": "y",
         "range": [
          0.6787668508781383,
          0.6844874423120885
         ],
         "showticklabels": false,
         "type": "linear"
        },
        "yaxis3": {
         "anchor": "x3",
         "autorange": true,
         "domain": [
          0,
          1
         ],
         "matches": "y",
         "range": [
          0.6787668508781383,
          0.6844874423120885
         ],
         "showticklabels": false,
         "type": "linear"
        }
       }
      },
      "image/png": "[encoded data removed]",
      "text/html": [
       "<div>                            <div id=\"6a88afaf-584e-44ad-8011-4bdbf6658991\" class=\"plotly-graph-div\" style=\"height:525px; width:100%;\"></div>            <script type=\"text/javascript\">                require([\"plotly\"], function(Plotly) {                    window.PLOTLYENV=window.PLOTLYENV || {};                                    if (document.getElementById(\"6a88afaf-584e-44ad-8011-4bdbf6658991\")) {                    Plotly.newPlot(                        \"6a88afaf-584e-44ad-8011-4bdbf6658991\",                        [{\"marker\": {\"color\": [0, 1, 2, 3, 4, 5, 6, 7, 8, 9, 10, 11, 12, 13, 14, 15, 16, 17, 18, 19, 20, 21, 22, 23, 24, 25, 26, 27, 28, 29, 30, 31, 32, 33, 34, 35, 36, 37, 38, 39, 40, 41, 42, 43, 44, 45, 46, 47, 48, 49, 50, 51, 52, 53, 54, 55, 56, 57, 58, 59, 60, 61, 62, 63, 64, 65, 66, 67, 68, 69, 70, 71, 72, 73, 74, 75, 76, 77, 78, 79, 80, 81, 82, 83, 84, 85, 86, 87, 88, 89, 90, 91, 92, 93, 94, 95, 96, 97, 98, 99, 100, 101, 102, 103, 104, 105, 106, 107, 108, 109, 110, 111, 112, 113, 114, 115, 116, 117, 118, 119, 120, 121, 122, 123, 124, 125, 126, 127, 128, 129, 130, 131, 132, 133, 134, 135, 136, 137, 138, 139, 140, 141, 142, 143, 144, 145, 146, 147, 148, 149, 150, 151, 152, 153, 154, 155, 156, 157, 158, 159, 160, 161, 162, 163, 164, 165, 166, 167, 168, 169, 170, 171, 172, 173, 174, 175, 176, 177, 178, 179, 180, 181, 182, 183, 184, 185], \"colorbar\": {\"title\": {\"text\": \"#Trials\"}, \"x\": 1.0, \"xpad\": 40}, \"colorscale\": [[0.0, \"rgb(247,251,255)\"], [0.125, \"rgb(222,235,247)\"], [0.25, \"rgb(198,219,239)\"], [0.375, \"rgb(158,202,225)\"], [0.5, \"rgb(107,174,214)\"], [0.625, \"rgb(66,146,198)\"], [0.75, \"rgb(33,113,181)\"], [0.875, \"rgb(8,81,156)\"], [1.0, \"rgb(8,48,107)\"]], \"line\": {\"color\": \"Grey\", \"width\": 0.5}, \"showscale\": true}, \"mode\": \"markers\", \"showlegend\": false, \"type\": \"scatter\", \"x\": [0.821080556509667, 0.3454905730367114, 0.509723166053726, 0.7713850489916915, 0.6012094452455528, 0.7193038590661257, 0.35729948560238545, 0.27651526693296247, 0.9290835046233267, 0.22689353360103182, 0.7014672124802722, 0.5796193428735471, 0.37295351524371423, 0.4599322759130863, 0.5519862430065012, 0.17037466218522246, 0.9506054180924883, 0.20644468069754118, 0.20611768432772604, 0.48357129484695927, 0.4552372874482856, 0.7116920849785019, 0.7107884052152357, 0.9196723797347185, 0.40943179208004576, 0.03215678570927394, 0.6604811607995114, 0.8744161481901698, 0.6130542958450944, 0.5484854951039901, 0.5302007462393082, 0.11475278270901046, 0.9709655989663392, 0.8353152090040233, 0.5512368025002439, 0.20017880408039124, 0.4230929106054767, 0.8879774514204635, 0.04858076363354091, 0.6742443884559798, 0.3783284671585866, 0.08224028915270643, 0.6923796890730859, 0.21658271007778973, 0.6883030079334322, 0.42871336748902344, 0.053538378664726105, 0.10619786720535784, 0.7339725727117505, 0.2032802745806207, 0.28023220976510477, 0.3045472361234749, 0.28817027963733827, 0.2915325273375759, 0.2985218456784482, 0.2963574199406144, 0.26396719513278183, 0.32966635506902503, 0.25684413869159317, 0.33097024199972913, 0.16145087687497844, 0.25516667726129116, 0.32485734450048165, 0.33575820217414054, 0.23801174747728937, 0.36787228974521174, 0.15143832348635008, 0.23956758883801643, 0.31514431378144003, 0.31849780769573627, 0.40387326382044625, 0.34892289174340296, 0.3481617298943173, 0.30509966766101876, 0.4875488199263225, 0.4651472415265354, 0.39440298472302626, 0.3422997153668942, 0.5054401519038132, 0.44269831631325857, 0.3686883155149026, 0.486990442960012, 0.47015615158439444, 0.3875529197600147, 0.6118217027467203, 0.29984995850555085, 0.29850281150543106, 0.18004729460982832, 0.2843516187898789, 0.2815774963722309, 0.2342504935719923, 0.3149492733299064, 0.2615760079093188, 0.5826845199249511, 0.532089632043932, 0.41572750240713136, 0.3048480784570418, 0.27624242094725193, 0.18672636339273085, 0.12948638785688282, 0.18513757534020375, 0.2154334777163226, 0.20542886198838103, 0.22086036688988359, 0.20238680532258535, 0.1899396652771169, 0.13485085401449787, 0.13639047629954892, 0.087827780329711, 0.18625935666385732, 0.15229797388078253, 0.19178275651898588, 0.18667323677427167, 0.10714432976291105, 0.19180945392308504, 0.1653355413677795, 0.24158377845839896, 0.2021902436478298, 0.13434924460665992, 0.24240977402439773, 0.01507657621646323, 0.2702768861019541, 0.2646374753662415, 0.23034905522417548, 0.08259685109214514, 0.17125904410151144, 0.2049099957987789, 0.1497952848159531, 0.6426627056588659, 0.25179427203619714, 0.21544972253007336, 0.2773728076565041, 0.11890215847833314, 0.2694754518712897, 0.2700107822295966, 0.1925650796227721, 0.2262512432073311, 0.19393475757588308, 0.23676401396734803, 0.16833191805726083, 0.20993678918453001, 0.24794988526682543, 0.22554344731691162, 0.25547844773455514, 0.18758799127187034, 0.24583323733510784, 0.2227013441294196, 0.16297057090135186, 0.19736676151342125, 0.1914142999693418, 0.20267564097208968, 0.27674133743326285, 0.2367802067792329, 0.18061784272000103, 0.14698494652459687, 0.2232740455906429, 0.2451157678007592, 0.2059790538102994, 0.28145317811067166, 0.25775104644415076, 0.25103783404752095, 0.25172839367176136, 0.262055224694578, 0.22407239615059746, 0.2917243978120151, 0.24198890827255012, 0.3141372770583485, 0.22280030750631383, 0.22249740563202489, 0.22076280128710862, 0.22421733862047577, 0.21316868184759316, 0.1696793956562082, 0.22521142420945586, 0.259662582024934, 0.22828395077585217, 0.2193487742513647, 0.2570073825413419, 0.27400827477021106, 0.2570828457467351, 0.29706534040357513, 0.238635195355417, 0.24218477351422812, 0.23998259003957378, 0.28169641948101043, 0.25334155868846603], \"xaxis\": \"x\", \"y\": [0.6795171409988608, 0.6815436772364654, 0.6812868627466429, 0.681726085065035, 0.6802271413311143, 0.6796899788982174, 0.6804924581517803, 0.6831650822683081, 0.6794612194085334, 0.6820480260216849, 0.6809579535096069, 0.6813586580587879, 0.6811011427156431, 0.6814566903535069, 0.681041080967928, 0.680939395077547, 0.6816193662030721, 0.6817668478391626, 0.6829740614677722, 0.679172059438043, 0.682840210932054, 0.6823773875159261, 0.6811697671953343, 0.680629987702866, 0.6831573443910159, 0.6804331344128877, 0.681954292189617, 0.6817140750272337, 0.6812156076727024, 0.6807765992945413, 0.6827881120605914, 0.6827999656510977, 0.6812895440238043, 0.6813397620606271, 0.681790172420382, 0.6817273486253861, 0.6810564365544683, 0.6814440189029929, 0.6829144064290584, 0.6812424825752212, 0.6816462797862528, 0.6826682340925552, 0.6804830088655445, 0.6834478903975973, 0.6798202057267563, 0.6817100375093681, 0.6816171031133575, 0.6829357263918603, 0.6814290376119925, 0.6833184661536423, 0.6833371196999376, 0.6835975872673439, 0.6835543190005078, 0.6832702583623307, 0.6832156232940516, 0.6836346936296296, 0.6833441923542464, 0.6833916213814415, 0.6832084656518499, 0.6832270241338607, 0.6830778845123021, 0.683463248818257, 0.6835131400821728, 0.6835948248618917, 0.6834581819997674, 0.683383443372762, 0.6831281831777367, 0.6833520448481056, 0.6834610341351509, 0.6830972241927722, 0.6830552001922741, 0.6835093939908103, 0.6834540863405139, 0.6838033644587422, 0.683662623962015, 0.6835055307821872, 0.6832041034783943, 0.6833306899726876, 0.683501447482895, 0.6832647343597856, 0.6830589461169236, 0.6835051706125604, 0.6835699543451866, 0.6833430531786336, 0.6829624345860401, 0.6835262834610951, 0.6834349017000184, 0.6833674924733526, 0.6836249733531489, 0.6834915185006346, 0.6832135783685283, 0.6835024007729178, 0.6834962048300014, 0.6830698488502103, 0.6826587654696213, 0.6831196448831287, 0.6833189861300278, 0.6836720902761735, 0.6836074119172872, 0.6834351704725847, 0.683178624947707, 0.6835907542559866, 0.6837390234744987, 0.6835128752098946, 0.6836802603505235, 0.683665817539042, 0.6836371090589807, 0.6831719406412339, 0.6831589985086954, 0.6837013013383402, 0.6834330360594594, 0.6836633110460562, 0.6836033297849855, 0.6833375049229129, 0.6837786130346475, 0.6830546787154725, 0.6837355868199, 0.6835719172332385, 0.6831240668403559, 0.6834579483569413, 0.6823883416159962, 0.6839044562531953, 0.6833184757298951, 0.6834704317309311, 0.6830705144477651, 0.6835935867135203, 0.6834911710496003, 0.683449727759126, 0.6822980898206367, 0.6832770297972196, 0.6835681703083114, 0.6837741799755458, 0.6835403802715477, 0.6836360044218728, 0.6836482541530365, 0.6837936582093519, 0.6837458883317487, 0.6835665697067436, 0.6836334872108492, 0.6832729724604569, 0.6835257254956447, 0.6836674283837144, 0.6835021689387282, 0.683561893953907, 0.68305776494341, 0.6835929915925696, 0.683339495089718, 0.6835106378733118, 0.6837226544303271, 0.6834849087222864, 0.6834660584808067, 0.6836539122832856, 0.6835559205771478, 0.6830544717771836, 0.6831547836816754, 0.683518792586868, 0.6835674975595811, 0.6835459091828443, 0.6835948159272851, 0.6840361008232898, 0.6839004410054298, 0.6837264472786483, 0.6835140689100825, 0.6836890400555742, 0.6834400145834099, 0.6835700266808382, 0.6833897306371227, 0.6837192544562957, 0.6837082456572118, 0.6837544246762128, 0.6836328607189387, 0.6835709989566537, 0.6836582995857061, 0.6837399604034504, 0.6835712553944642, 0.683608048010656, 0.6836702111086626, 0.6837653414617954, 0.6835354347206621, 0.683527582868449, 0.6835341934551563, 0.6839503796679505, 0.6840822337521837, 0.6834908350086609, 0.6835640954182818, 0.6823342116886529], \"yaxis\": \"y\"}, {\"marker\": {\"color\": [0, 1, 2, 3, 4, 5, 6, 7, 8, 9, 10, 11, 12, 13, 14, 15, 16, 17, 18, 19, 20, 21, 22, 23, 24, 25, 26, 27, 28, 29, 30, 31, 32, 33, 34, 35, 36, 37, 38, 39, 40, 41, 42, 43, 44, 45, 46, 47, 48, 49, 50, 51, 52, 53, 54, 55, 56, 57, 58, 59, 60, 61, 62, 63, 64, 65, 66, 67, 68, 69, 70, 71, 72, 73, 74, 75, 76, 77, 78, 79, 80, 81, 82, 83, 84, 85, 86, 87, 88, 89, 90, 91, 92, 93, 94, 95, 96, 97, 98, 99, 100, 101, 102, 103, 104, 105, 106, 107, 108, 109, 110, 111, 112, 113, 114, 115, 116, 117, 118, 119, 120, 121, 122, 123, 124, 125, 126, 127, 128, 129, 130, 131, 132, 133, 134, 135, 136, 137, 138, 139, 140, 141, 142, 143, 144, 145, 146, 147, 148, 149, 150, 151, 152, 153, 154, 155, 156, 157, 158, 159, 160, 161, 162, 163, 164, 165, 166, 167, 168, 169, 170, 171, 172, 173, 174, 175, 176, 177, 178, 179, 180, 181, 182, 183, 184, 185], \"colorbar\": {\"title\": {\"text\": \"#Trials\"}, \"x\": 1.0, \"xpad\": 40}, \"colorscale\": [[0.0, \"rgb(247,251,255)\"], [0.125, \"rgb(222,235,247)\"], [0.25, \"rgb(198,219,239)\"], [0.375, \"rgb(158,202,225)\"], [0.5, \"rgb(107,174,214)\"], [0.625, \"rgb(66,146,198)\"], [0.75, \"rgb(33,113,181)\"], [0.875, \"rgb(8,81,156)\"], [1.0, \"rgb(8,48,107)\"]], \"line\": {\"color\": \"Grey\", \"width\": 0.5}, \"showscale\": false}, \"mode\": \"markers\", \"showlegend\": false, \"type\": \"scatter\", \"x\": [0.03198265005260237, 0.3650493638373742, 0.4821691872235325, 0.8275026398770677, 0.13042711871865798, 0.06595284622040731, 0.18267291061231794, 0.6920243372629767, 0.035383526595514136, 0.6230004590329014, 0.36708672106848417, 0.5588522108570644, 0.428250306841616, 0.5319884234528243, 0.4014363896832758, 0.11471569252279656, 0.6533200667393062, 0.4392358293130525, 0.7342952336902902, 0.0007466784098714152, 0.6620812163376806, 0.8238464254522808, 0.5751084986209619, 0.16130011569937408, 0.8527518563503407, 0.5714795823400846, 0.7141324382944423, 0.9280887436380285, 0.5272135783334633, 0.4436236065210689, 0.9376029180231358, 0.8481966560079214, 0.6956778440088848, 0.7191507234005818, 0.5759052701468785, 0.34708164394557073, 0.3350135703461936, 0.4897364620369793, 0.8031732733629426, 0.5714845021606806, 0.6748948650288449, 0.5022062388416784, 0.2640489853842002, 0.9683771201533662, 0.029843314694301126, 0.5693299720808062, 0.6162982531918846, 0.5448412692868801, 0.5684846242268716, 0.9586590020325156, 0.9857916503770081, 0.9915811579428218, 0.9770546881625224, 0.9999401456358037, 0.9969816228496954, 0.9974972579869421, 0.9415852673018967, 0.8991345227083305, 0.8920924481472617, 0.7711570580117959, 0.8938836047240912, 0.9655250025270006, 0.8868472793530341, 0.8763526721908564, 0.9711926366450273, 0.915991607424625, 0.8675866441168568, 0.9988561870104323, 0.8060279955046364, 0.7770036292451385, 0.8213551170439378, 0.9557583727880802, 0.8670312226740036, 0.9493497052187186, 0.9485174158069577, 0.9227224097399959, 0.9353872762723034, 0.8874674394784783, 0.9996680094383704, 0.9548660004277052, 0.8588171022717891, 0.9152259476541275, 0.9197247801276383, 0.9459198223935119, 0.8405026252893815, 0.978525297717291, 0.9778375707855327, 0.8812454294775345, 0.9114955779255312, 0.9172124335431574, 0.9843684088611797, 0.9125921188235706, 0.9996374290038446, 0.9387598733715438, 0.7688428586914593, 0.8779216593979435, 0.8426082647636818, 0.9035316703896694, 0.9681866538058451, 0.9049703455292828, 0.9426548948145489, 0.9679482112095623, 0.9637485764510659, 0.9576644930026611, 0.929751672716425, 0.9823868978623063, 0.9352030367788564, 0.9980485124375855, 0.9382056232170668, 0.986509957511063, 0.9282016143939963, 0.9870002206846649, 0.9607711219066546, 0.9805824257958371, 0.9018132741508494, 0.9007243956763206, 0.899432504467119, 0.8257058501244638, 0.853322902598536, 0.9427298218694696, 0.9952389503605054, 0.9023759880514501, 0.8931908685449488, 0.95095047240379, 0.9266036168081114, 0.9012736404229247, 0.7936524227682448, 0.8706396630325608, 0.9304471102310609, 0.9970983035565447, 0.9769082924300634, 0.9022307349453405, 0.8591448259932444, 0.9594511856665504, 0.9513659434464031, 0.9071930833071382, 0.835754953640468, 0.8302854854687798, 0.8846386863702331, 0.907413246821283, 0.8590426126021811, 0.8902390386289061, 0.8813600109671975, 0.9116056252685532, 0.840376782397469, 0.9234275243999422, 0.8103139628639324, 0.8925296648905344, 0.8615374713452545, 0.8665627745384451, 0.8448108853729145, 0.8937069422871793, 0.923029349644759, 0.8770456157190489, 0.9476642508804977, 0.9037391912376651, 0.9607046659093699, 0.9787553372225448, 0.9271481645781937, 0.8710807338684691, 0.749467980648189, 0.8181773552970605, 0.7894690380269094, 0.8170011770859836, 0.7306420795945744, 0.7604425850880774, 0.8155484094511636, 0.8309583423496774, 0.827556140278603, 0.783752047460406, 0.7671610039903306, 0.7863941876169694, 0.7467059273152906, 0.8060957965526352, 0.8156244217715773, 0.8227902412905188, 0.8334167323327542, 0.8001449753946068, 0.8000827065782793, 0.7555931640009989, 0.848583690863219, 0.798008050845772, 0.7886277759590068, 0.7133497924423813, 0.7842501473347293, 0.8001681429387933], \"xaxis\": \"x2\", \"y\": [0.6795171409988608, 0.6815436772364654, 0.6812868627466429, 0.681726085065035, 0.6802271413311143, 0.6796899788982174, 0.6804924581517803, 0.6831650822683081, 0.6794612194085334, 0.6820480260216849, 0.6809579535096069, 0.6813586580587879, 0.6811011427156431, 0.6814566903535069, 0.681041080967928, 0.680939395077547, 0.6816193662030721, 0.6817668478391626, 0.6829740614677722, 0.679172059438043, 0.682840210932054, 0.6823773875159261, 0.6811697671953343, 0.680629987702866, 0.6831573443910159, 0.6804331344128877, 0.681954292189617, 0.6817140750272337, 0.6812156076727024, 0.6807765992945413, 0.6827881120605914, 0.6827999656510977, 0.6812895440238043, 0.6813397620606271, 0.681790172420382, 0.6817273486253861, 0.6810564365544683, 0.6814440189029929, 0.6829144064290584, 0.6812424825752212, 0.6816462797862528, 0.6826682340925552, 0.6804830088655445, 0.6834478903975973, 0.6798202057267563, 0.6817100375093681, 0.6816171031133575, 0.6829357263918603, 0.6814290376119925, 0.6833184661536423, 0.6833371196999376, 0.6835975872673439, 0.6835543190005078, 0.6832702583623307, 0.6832156232940516, 0.6836346936296296, 0.6833441923542464, 0.6833916213814415, 0.6832084656518499, 0.6832270241338607, 0.6830778845123021, 0.683463248818257, 0.6835131400821728, 0.6835948248618917, 0.6834581819997674, 0.683383443372762, 0.6831281831777367, 0.6833520448481056, 0.6834610341351509, 0.6830972241927722, 0.6830552001922741, 0.6835093939908103, 0.6834540863405139, 0.6838033644587422, 0.683662623962015, 0.6835055307821872, 0.6832041034783943, 0.6833306899726876, 0.683501447482895, 0.6832647343597856, 0.6830589461169236, 0.6835051706125604, 0.6835699543451866, 0.6833430531786336, 0.6829624345860401, 0.6835262834610951, 0.6834349017000184, 0.6833674924733526, 0.6836249733531489, 0.6834915185006346, 0.6832135783685283, 0.6835024007729178, 0.6834962048300014, 0.6830698488502103, 0.6826587654696213, 0.6831196448831287, 0.6833189861300278, 0.6836720902761735, 0.6836074119172872, 0.6834351704725847, 0.683178624947707, 0.6835907542559866, 0.6837390234744987, 0.6835128752098946, 0.6836802603505235, 0.683665817539042, 0.6836371090589807, 0.6831719406412339, 0.6831589985086954, 0.6837013013383402, 0.6834330360594594, 0.6836633110460562, 0.6836033297849855, 0.6833375049229129, 0.6837786130346475, 0.6830546787154725, 0.6837355868199, 0.6835719172332385, 0.6831240668403559, 0.6834579483569413, 0.6823883416159962, 0.6839044562531953, 0.6833184757298951, 0.6834704317309311, 0.6830705144477651, 0.6835935867135203, 0.6834911710496003, 0.683449727759126, 0.6822980898206367, 0.6832770297972196, 0.6835681703083114, 0.6837741799755458, 0.6835403802715477, 0.6836360044218728, 0.6836482541530365, 0.6837936582093519, 0.6837458883317487, 0.6835665697067436, 0.6836334872108492, 0.6832729724604569, 0.6835257254956447, 0.6836674283837144, 0.6835021689387282, 0.683561893953907, 0.68305776494341, 0.6835929915925696, 0.683339495089718, 0.6835106378733118, 0.6837226544303271, 0.6834849087222864, 0.6834660584808067, 0.6836539122832856, 0.6835559205771478, 0.6830544717771836, 0.6831547836816754, 0.683518792586868, 0.6835674975595811, 0.6835459091828443, 0.6835948159272851, 0.6840361008232898, 0.6839004410054298, 0.6837264472786483, 0.6835140689100825, 0.6836890400555742, 0.6834400145834099, 0.6835700266808382, 0.6833897306371227, 0.6837192544562957, 0.6837082456572118, 0.6837544246762128, 0.6836328607189387, 0.6835709989566537, 0.6836582995857061, 0.6837399604034504, 0.6835712553944642, 0.683608048010656, 0.6836702111086626, 0.6837653414617954, 0.6835354347206621, 0.683527582868449, 0.6835341934551563, 0.6839503796679505, 0.6840822337521837, 0.6834908350086609, 0.6835640954182818, 0.6823342116886529], \"yaxis\": \"y2\"}, {\"marker\": {\"color\": [0, 1, 2, 3, 4, 5, 6, 7, 8, 9, 10, 11, 12, 13, 14, 15, 16, 17, 18, 19, 20, 21, 22, 23, 24, 25, 26, 27, 28, 29, 30, 31, 32, 33, 34, 35, 36, 37, 38, 39, 40, 41, 42, 43, 44, 45, 46, 47, 48, 49, 50, 51, 52, 53, 54, 55, 56, 57, 58, 59, 60, 61, 62, 63, 64, 65, 66, 67, 68, 69, 70, 71, 72, 73, 74, 75, 76, 77, 78, 79, 80, 81, 82, 83, 84, 85, 86, 87, 88, 89, 90, 91, 92, 93, 94, 95, 96, 97, 98, 99, 100, 101, 102, 103, 104, 105, 106, 107, 108, 109, 110, 111, 112, 113, 114, 115, 116, 117, 118, 119, 120, 121, 122, 123, 124, 125, 126, 127, 128, 129, 130, 131, 132, 133, 134, 135, 136, 137, 138, 139, 140, 141, 142, 143, 144, 145, 146, 147, 148, 149, 150, 151, 152, 153, 154, 155, 156, 157, 158, 159, 160, 161, 162, 163, 164, 165, 166, 167, 168, 169, 170, 171, 172, 173, 174, 175, 176, 177, 178, 179, 180, 181, 182, 183, 184, 185], \"colorbar\": {\"title\": {\"text\": \"#Trials\"}, \"x\": 1.0, \"xpad\": 40}, \"colorscale\": [[0.0, \"rgb(247,251,255)\"], [0.125, \"rgb(222,235,247)\"], [0.25, \"rgb(198,219,239)\"], [0.375, \"rgb(158,202,225)\"], [0.5, \"rgb(107,174,214)\"], [0.625, \"rgb(66,146,198)\"], [0.75, \"rgb(33,113,181)\"], [0.875, \"rgb(8,81,156)\"], [1.0, \"rgb(8,48,107)\"]], \"line\": {\"color\": \"Grey\", \"width\": 0.5}, \"showscale\": false}, \"mode\": \"markers\", \"showlegend\": false, \"type\": \"scatter\", \"x\": [0.8316165993100444, 0.5104183981442681, 0.8848351257344365, 0.40801096058960185, 0.6914866109020719, 0.5248470636274639, 0.8560048822770606, 0.35367068980746275, 0.9414525012571014, 0.7254338237668064, 0.42354759251084995, 0.05776431795992276, 0.9631937728860965, 0.7136329967172793, 0.18901592650503907, 0.4139014612496207, 0.6573166350037893, 0.607015732324477, 0.5276513179367123, 0.07668603218684245, 0.19832370558321966, 0.6853081781718638, 0.3233759543585204, 0.013540068368738667, 0.2598972939255365, 0.9485224295551107, 0.6386082969589504, 0.8771221442070825, 0.3687909995185109, 0.08761160014938707, 0.8053020517637692, 0.608575022868414, 0.6348702079983959, 0.16746814216056327, 0.241509177251382, 0.403280967381465, 0.18409770930587555, 0.19136810937230941, 0.11855181419314154, 0.5021419418187191, 0.915574529998453, 0.21877958513251916, 0.9821417445201837, 0.3790087826462727, 0.25290332371597724, 0.9740627016460659, 0.6993850237124007, 0.3622859892478195, 0.5357475835683693, 0.03655478261687761, 0.456465905791234, 0.28993707677057434, 0.2826839801218755, 0.46273688058393, 0.4634180808420619, 0.2842581969494091, 0.29739858159252486, 0.3021895094544389, 0.3092154077540527, 0.2890410164210345, 0.3311150172075938, 0.28388356142770826, 0.28366240346045174, 0.2738108120445236, 0.14268846519561446, 0.13387745231617149, 0.23067214741754796, 0.1440034828334218, 0.26579519674053775, 0.3423100211185105, 0.21475809692454367, 0.2773980195033, 0.27212719557795384, 0.2705920768338495, 0.3299047243536648, 0.3974015269276121, 0.32331769695467116, 0.23674061830562784, 0.43309455785441964, 0.1721571432722144, 0.35128096709602785, 0.3909931605002378, 0.32022419495848875, 0.20648174647641254, 0.2630881525941217, 0.31439846666396903, 0.3228725985747025, 0.37081188885289096, 0.2473975479590647, 0.23503062341925715, 0.3448584429465696, 0.30729903478547527, 0.2522587754088183, 0.29825075769212334, 0.43029008419680825, 0.19512461554440474, 0.3173163854404148, 0.16761146741023084, 0.08183856737504358, 0.08780043866655768, 0.0032056717493500336, 0.16242021623433694, 0.10556873149827864, 0.06062655786609979, 0.10298372617447368, 0.10600417846576646, 0.07525471702897185, 0.10787597941563536, 0.039551843386613085, 0.10506097628671325, 0.11104256021594057, 0.07799308428089557, 0.06916638486554372, 0.032055666146253846, 0.10215133778745748, 0.12832322367009247, 0.15717952727049164, 0.09349095769561436, 0.16265313658281524, 0.04679935250899995, 0.10967267898271982, 0.13375011031617715, 0.014840787369986619, 0.1488928071421877, 0.12715663118213286, 0.09850150508113087, 0.17528705355586444, 0.06680901305714228, 0.14699070354805402, 0.020378928498021046, 0.12172673222296632, 0.07863472551251534, 0.0782556156644674, 0.05464384999128256, 0.051502395556137406, 0.09357474952446306, 0.09897629314771003, 0.09779900647271043, 0.14813282878277573, 0.12331292540839395, 0.17289484636862507, 0.04938961648158885, 0.09957950621964803, 0.19047586348207485, 0.030054293173314504, 0.13302786548787232, 0.005349533237699669, 0.08259290849336887, 0.1578198581457026, 0.10830224354618143, 0.15431299238875656, 0.21248164485016358, 0.060656808795778006, 0.556574057553231, 0.13313487359880197, 0.08767606909458651, 0.11785923689968447, 0.1798024183452123, 0.04800715567062115, 0.0919608529665836, 0.06841991759739262, 0.07119588744671314, 0.09825862050961717, 0.06773845574756235, 0.06500451462295306, 0.03737548028514037, 0.0768092872216597, 0.1453069012333968, 0.14823376892117257, 0.1427725569873444, 0.1402843703324409, 0.11485443656003932, 0.15611849413965181, 0.12038485170540232, 0.12947099425827358, 0.19620668214186776, 0.15250193244844942, 0.08991434494885804, 0.12746534832195094, 0.0920778897415337, 0.11631834391889985, 0.06701582286298446, 0.0806654784002276, 0.08764024889479992, 0.018852227260612447, 0.7544832462008779], \"xaxis\": \"x3\", \"y\": [0.6795171409988608, 0.6815436772364654, 0.6812868627466429, 0.681726085065035, 0.6802271413311143, 0.6796899788982174, 0.6804924581517803, 0.6831650822683081, 0.6794612194085334, 0.6820480260216849, 0.6809579535096069, 0.6813586580587879, 0.6811011427156431, 0.6814566903535069, 0.681041080967928, 0.680939395077547, 0.6816193662030721, 0.6817668478391626, 0.6829740614677722, 0.679172059438043, 0.682840210932054, 0.6823773875159261, 0.6811697671953343, 0.680629987702866, 0.6831573443910159, 0.6804331344128877, 0.681954292189617, 0.6817140750272337, 0.6812156076727024, 0.6807765992945413, 0.6827881120605914, 0.6827999656510977, 0.6812895440238043, 0.6813397620606271, 0.681790172420382, 0.6817273486253861, 0.6810564365544683, 0.6814440189029929, 0.6829144064290584, 0.6812424825752212, 0.6816462797862528, 0.6826682340925552, 0.6804830088655445, 0.6834478903975973, 0.6798202057267563, 0.6817100375093681, 0.6816171031133575, 0.6829357263918603, 0.6814290376119925, 0.6833184661536423, 0.6833371196999376, 0.6835975872673439, 0.6835543190005078, 0.6832702583623307, 0.6832156232940516, 0.6836346936296296, 0.6833441923542464, 0.6833916213814415, 0.6832084656518499, 0.6832270241338607, 0.6830778845123021, 0.683463248818257, 0.6835131400821728, 0.6835948248618917, 0.6834581819997674, 0.683383443372762, 0.6831281831777367, 0.6833520448481056, 0.6834610341351509, 0.6830972241927722, 0.6830552001922741, 0.6835093939908103, 0.6834540863405139, 0.6838033644587422, 0.683662623962015, 0.6835055307821872, 0.6832041034783943, 0.6833306899726876, 0.683501447482895, 0.6832647343597856, 0.6830589461169236, 0.6835051706125604, 0.6835699543451866, 0.6833430531786336, 0.6829624345860401, 0.6835262834610951, 0.6834349017000184, 0.6833674924733526, 0.6836249733531489, 0.6834915185006346, 0.6832135783685283, 0.6835024007729178, 0.6834962048300014, 0.6830698488502103, 0.6826587654696213, 0.6831196448831287, 0.6833189861300278, 0.6836720902761735, 0.6836074119172872, 0.6834351704725847, 0.683178624947707, 0.6835907542559866, 0.6837390234744987, 0.6835128752098946, 0.6836802603505235, 0.683665817539042, 0.6836371090589807, 0.6831719406412339, 0.6831589985086954, 0.6837013013383402, 0.6834330360594594, 0.6836633110460562, 0.6836033297849855, 0.6833375049229129, 0.6837786130346475, 0.6830546787154725, 0.6837355868199, 0.6835719172332385, 0.6831240668403559, 0.6834579483569413, 0.6823883416159962, 0.6839044562531953, 0.6833184757298951, 0.6834704317309311, 0.6830705144477651, 0.6835935867135203, 0.6834911710496003, 0.683449727759126, 0.6822980898206367, 0.6832770297972196, 0.6835681703083114, 0.6837741799755458, 0.6835403802715477, 0.6836360044218728, 0.6836482541530365, 0.6837936582093519, 0.6837458883317487, 0.6835665697067436, 0.6836334872108492, 0.6832729724604569, 0.6835257254956447, 0.6836674283837144, 0.6835021689387282, 0.683561893953907, 0.68305776494341, 0.6835929915925696, 0.683339495089718, 0.6835106378733118, 0.6837226544303271, 0.6834849087222864, 0.6834660584808067, 0.6836539122832856, 0.6835559205771478, 0.6830544717771836, 0.6831547836816754, 0.683518792586868, 0.6835674975595811, 0.6835459091828443, 0.6835948159272851, 0.6840361008232898, 0.6839004410054298, 0.6837264472786483, 0.6835140689100825, 0.6836890400555742, 0.6834400145834099, 0.6835700266808382, 0.6833897306371227, 0.6837192544562957, 0.6837082456572118, 0.6837544246762128, 0.6836328607189387, 0.6835709989566537, 0.6836582995857061, 0.6837399604034504, 0.6835712553944642, 0.683608048010656, 0.6836702111086626, 0.6837653414617954, 0.6835354347206621, 0.683527582868449, 0.6835341934551563, 0.6839503796679505, 0.6840822337521837, 0.6834908350086609, 0.6835640954182818, 0.6823342116886529], \"yaxis\": \"y3\"}],                        {\"template\": {\"data\": {\"bar\": [{\"error_x\": {\"color\": \"#2a3f5f\"}, \"error_y\": {\"color\": \"#2a3f5f\"}, \"marker\": {\"line\": {\"color\": \"#E5ECF6\", \"width\": 0.5}}, \"type\": \"bar\"}], \"barpolar\": [{\"marker\": {\"line\": {\"color\": \"#E5ECF6\", \"width\": 0.5}}, \"type\": \"barpolar\"}], \"carpet\": [{\"aaxis\": {\"endlinecolor\": \"#2a3f5f\", \"gridcolor\": \"white\", \"linecolor\": \"white\", \"minorgridcolor\": \"white\", \"startlinecolor\": \"#2a3f5f\"}, \"baxis\": {\"endlinecolor\": \"#2a3f5f\", \"gridcolor\": \"white\", \"linecolor\": \"white\", \"minorgridcolor\": \"white\", \"startlinecolor\": \"#2a3f5f\"}, \"type\": \"carpet\"}], \"choropleth\": [{\"colorbar\": {\"outlinewidth\": 0, \"ticks\": \"\"}, \"type\": \"choropleth\"}], \"contour\": [{\"colorbar\": {\"outlinewidth\": 0, \"ticks\": \"\"}, \"colorscale\": [[0.0, \"#0d0887\"], [0.1111111111111111, \"#46039f\"], [0.2222222222222222, \"#7201a8\"], [0.3333333333333333, \"#9c179e\"], [0.4444444444444444, \"#bd3786\"], [0.5555555555555556, \"#d8576b\"], [0.6666666666666666, \"#ed7953\"], [0.7777777777777778, \"#fb9f3a\"], [0.8888888888888888, \"#fdca26\"], [1.0, \"#f0f921\"]], \"type\": \"contour\"}], \"contourcarpet\": [{\"colorbar\": {\"outlinewidth\": 0, \"ticks\": \"\"}, \"type\": \"contourcarpet\"}], \"heatmap\": [{\"colorbar\": {\"outlinewidth\": 0, \"ticks\": \"\"}, \"colorscale\": [[0.0, \"#0d0887\"], [0.1111111111111111, \"#46039f\"], [0.2222222222222222, \"#7201a8\"], [0.3333333333333333, \"#9c179e\"], [0.4444444444444444, \"#bd3786\"], [0.5555555555555556, \"#d8576b\"], [0.6666666666666666, \"#ed7953\"], [0.7777777777777778, \"#fb9f3a\"], [0.8888888888888888, \"#fdca26\"], [1.0, \"#f0f921\"]], \"type\": \"heatmap\"}], \"heatmapgl\": [{\"colorbar\": {\"outlinewidth\": 0, \"ticks\": \"\"}, \"colorscale\": [[0.0, \"#0d0887\"], [0.1111111111111111, \"#46039f\"], [0.2222222222222222, \"#7201a8\"], [0.3333333333333333, \"#9c179e\"], [0.4444444444444444, \"#bd3786\"], [0.5555555555555556, \"#d8576b\"], [0.6666666666666666, \"#ed7953\"], [0.7777777777777778, \"#fb9f3a\"], [0.8888888888888888, \"#fdca26\"], [1.0, \"#f0f921\"]], \"type\": \"heatmapgl\"}], \"histogram\": [{\"marker\": {\"colorbar\": {\"outlinewidth\": 0, \"ticks\": \"\"}}, \"type\": \"histogram\"}], \"histogram2d\": [{\"colorbar\": {\"outlinewidth\": 0, \"ticks\": \"\"}, \"colorscale\": [[0.0, \"#0d0887\"], [0.1111111111111111, \"#46039f\"], [0.2222222222222222, \"#7201a8\"], [0.3333333333333333, \"#9c179e\"], [0.4444444444444444, \"#bd3786\"], [0.5555555555555556, \"#d8576b\"], [0.6666666666666666, \"#ed7953\"], [0.7777777777777778, \"#fb9f3a\"], [0.8888888888888888, \"#fdca26\"], [1.0, \"#f0f921\"]], \"type\": \"histogram2d\"}], \"histogram2dcontour\": [{\"colorbar\": {\"outlinewidth\": 0, \"ticks\": \"\"}, \"colorscale\": [[0.0, \"#0d0887\"], [0.1111111111111111, \"#46039f\"], [0.2222222222222222, \"#7201a8\"], [0.3333333333333333, \"#9c179e\"], [0.4444444444444444, \"#bd3786\"], [0.5555555555555556, \"#d8576b\"], [0.6666666666666666, \"#ed7953\"], [0.7777777777777778, \"#fb9f3a\"], [0.8888888888888888, \"#fdca26\"], [1.0, \"#f0f921\"]], \"type\": \"histogram2dcontour\"}], \"mesh3d\": [{\"colorbar\": {\"outlinewidth\": 0, \"ticks\": \"\"}, \"type\": \"mesh3d\"}], \"parcoords\": [{\"line\": {\"colorbar\": {\"outlinewidth\": 0, \"ticks\": \"\"}}, \"type\": \"parcoords\"}], \"pie\": [{\"automargin\": true, \"type\": \"pie\"}], \"scatter\": [{\"marker\": {\"colorbar\": {\"outlinewidth\": 0, \"ticks\": \"\"}}, \"type\": \"scatter\"}], \"scatter3d\": [{\"line\": {\"colorbar\": {\"outlinewidth\": 0, \"ticks\": \"\"}}, \"marker\": {\"colorbar\": {\"outlinewidth\": 0, \"ticks\": \"\"}}, \"type\": \"scatter3d\"}], \"scattercarpet\": [{\"marker\": {\"colorbar\": {\"outlinewidth\": 0, \"ticks\": \"\"}}, \"type\": \"scattercarpet\"}], \"scattergeo\": [{\"marker\": {\"colorbar\": {\"outlinewidth\": 0, \"ticks\": \"\"}}, \"type\": \"scattergeo\"}], \"scattergl\": [{\"marker\": {\"colorbar\": {\"outlinewidth\": 0, \"ticks\": \"\"}}, \"type\": \"scattergl\"}], \"scattermapbox\": [{\"marker\": {\"colorbar\": {\"outlinewidth\": 0, \"ticks\": \"\"}}, \"type\": \"scattermapbox\"}], \"scatterpolar\": [{\"marker\": {\"colorbar\": {\"outlinewidth\": 0, \"ticks\": \"\"}}, \"type\": \"scatterpolar\"}], \"scatterpolargl\": [{\"marker\": {\"colorbar\": {\"outlinewidth\": 0, \"ticks\": \"\"}}, \"type\": \"scatterpolargl\"}], \"scatterternary\": [{\"marker\": {\"colorbar\": {\"outlinewidth\": 0, \"ticks\": \"\"}}, \"type\": \"scatterternary\"}], \"surface\": [{\"colorbar\": {\"outlinewidth\": 0, \"ticks\": \"\"}, \"colorscale\": [[0.0, \"#0d0887\"], [0.1111111111111111, \"#46039f\"], [0.2222222222222222, \"#7201a8\"], [0.3333333333333333, \"#9c179e\"], [0.4444444444444444, \"#bd3786\"], [0.5555555555555556, \"#d8576b\"], [0.6666666666666666, \"#ed7953\"], [0.7777777777777778, \"#fb9f3a\"], [0.8888888888888888, \"#fdca26\"], [1.0, \"#f0f921\"]], \"type\": \"surface\"}], \"table\": [{\"cells\": {\"fill\": {\"color\": \"#EBF0F8\"}, \"line\": {\"color\": \"white\"}}, \"header\": {\"fill\": {\"color\": \"#C8D4E3\"}, \"line\": {\"color\": \"white\"}}, \"type\": \"table\"}]}, \"layout\": {\"annotationdefaults\": {\"arrowcolor\": \"#2a3f5f\", \"arrowhead\": 0, \"arrowwidth\": 1}, \"autotypenumbers\": \"strict\", \"coloraxis\": {\"colorbar\": {\"outlinewidth\": 0, \"ticks\": \"\"}}, \"colorscale\": {\"diverging\": [[0, \"#8e0152\"], [0.1, \"#c51b7d\"], [0.2, \"#de77ae\"], [0.3, \"#f1b6da\"], [0.4, \"#fde0ef\"], [0.5, \"#f7f7f7\"], [0.6, \"#e6f5d0\"], [0.7, \"#b8e186\"], [0.8, \"#7fbc41\"], [0.9, \"#4d9221\"], [1, \"#276419\"]], \"sequential\": [[0.0, \"#0d0887\"], [0.1111111111111111, \"#46039f\"], [0.2222222222222222, \"#7201a8\"], [0.3333333333333333, \"#9c179e\"], [0.4444444444444444, \"#bd3786\"], [0.5555555555555556, \"#d8576b\"], [0.6666666666666666, \"#ed7953\"], [0.7777777777777778, \"#fb9f3a\"], [0.8888888888888888, \"#fdca26\"], [1.0, \"#f0f921\"]], \"sequentialminus\": [[0.0, \"#0d0887\"], [0.1111111111111111, \"#46039f\"], [0.2222222222222222, \"#7201a8\"], [0.3333333333333333, \"#9c179e\"], [0.4444444444444444, \"#bd3786\"], [0.5555555555555556, \"#d8576b\"], [0.6666666666666666, \"#ed7953\"], [0.7777777777777778, \"#fb9f3a\"], [0.8888888888888888, \"#fdca26\"], [1.0, \"#f0f921\"]]}, \"colorway\": [\"#636efa\", \"#EF553B\", \"#00cc96\", \"#ab63fa\", \"#FFA15A\", \"#19d3f3\", \"#FF6692\", \"#B6E880\", \"#FF97FF\", \"#FECB52\"], \"font\": {\"color\": \"#2a3f5f\"}, \"geo\": {\"bgcolor\": \"white\", \"lakecolor\": \"white\", \"landcolor\": \"#E5ECF6\", \"showlakes\": true, \"showland\": true, \"subunitcolor\": \"white\"}, \"hoverlabel\": {\"align\": \"left\"}, \"hovermode\": \"closest\", \"mapbox\": {\"style\": \"light\"}, \"paper_bgcolor\": \"white\", \"plot_bgcolor\": \"#E5ECF6\", \"polar\": {\"angularaxis\": {\"gridcolor\": \"white\", \"linecolor\": \"white\", \"ticks\": \"\"}, \"bgcolor\": \"#E5ECF6\", \"radialaxis\": {\"gridcolor\": \"white\", \"linecolor\": \"white\", \"ticks\": \"\"}}, \"scene\": {\"xaxis\": {\"backgroundcolor\": \"#E5ECF6\", \"gridcolor\": \"white\", \"gridwidth\": 2, \"linecolor\": \"white\", \"showbackground\": true, \"ticks\": \"\", \"zerolinecolor\": \"white\"}, \"yaxis\": {\"backgroundcolor\": \"#E5ECF6\", \"gridcolor\": \"white\", \"gridwidth\": 2, \"linecolor\": \"white\", \"showbackground\": true, \"ticks\": \"\", \"zerolinecolor\": \"white\"}, \"zaxis\": {\"backgroundcolor\": \"#E5ECF6\", \"gridcolor\": \"white\", \"gridwidth\": 2, \"linecolor\": \"white\", \"showbackground\": true, \"ticks\": \"\", \"zerolinecolor\": \"white\"}}, \"shapedefaults\": {\"line\": {\"color\": \"#2a3f5f\"}}, \"ternary\": {\"aaxis\": {\"gridcolor\": \"white\", \"linecolor\": \"white\", \"ticks\": \"\"}, \"baxis\": {\"gridcolor\": \"white\", \"linecolor\": \"white\", \"ticks\": \"\"}, \"bgcolor\": \"#E5ECF6\", \"caxis\": {\"gridcolor\": \"white\", \"linecolor\": \"white\", \"ticks\": \"\"}}, \"title\": {\"x\": 0.05}, \"xaxis\": {\"automargin\": true, \"gridcolor\": \"white\", \"linecolor\": \"white\", \"ticks\": \"\", \"title\": {\"standoff\": 15}, \"zerolinecolor\": \"white\", \"zerolinewidth\": 2}, \"yaxis\": {\"automargin\": true, \"gridcolor\": \"white\", \"linecolor\": \"white\", \"ticks\": \"\", \"title\": {\"standoff\": 15}, \"zerolinecolor\": \"white\", \"zerolinewidth\": 2}}}, \"title\": {\"text\": \"Slice Plot\"}, \"xaxis\": {\"anchor\": \"y\", \"domain\": [0.0, 0.2888888888888889], \"title\": {\"text\": \"lgbm_weight\"}}, \"xaxis2\": {\"anchor\": \"y2\", \"domain\": [0.35555555555555557, 0.6444444444444445], \"title\": {\"text\": \"lr_weight\"}}, \"xaxis3\": {\"anchor\": \"y3\", \"domain\": [0.7111111111111111, 1.0], \"title\": {\"text\": \"rf_weight\"}}, \"yaxis\": {\"anchor\": \"x\", \"domain\": [0.0, 1.0], \"title\": {\"text\": \"Objective Value\"}}, \"yaxis2\": {\"anchor\": \"x2\", \"domain\": [0.0, 1.0], \"matches\": \"y\", \"showticklabels\": false}, \"yaxis3\": {\"anchor\": \"x3\", \"domain\": [0.0, 1.0], \"matches\": \"y\", \"showticklabels\": false}},                        {\"responsive\": true}                    ).then(function(){\n",
       "                            \n",
       "var gd = document.getElementById('6a88afaf-584e-44ad-8011-4bdbf6658991');\n",
       "var x = new MutationObserver(function (mutations, observer) {{\n",
       "        var display = window.getComputedStyle(gd).display;\n",
       "        if (!display || display === 'none') {{\n",
       "            console.log([gd, 'removed!']);\n",
       "            Plotly.purge(gd);\n",
       "            observer.disconnect();\n",
       "        }}\n",
       "}});\n",
       "\n",
       "// Listen for the removal of the full notebook cells\n",
       "var notebookContainer = gd.closest('#notebook-container');\n",
       "if (notebookContainer) {{\n",
       "    x.observe(notebookContainer, {childList: true});\n",
       "}}\n",
       "\n",
       "// Listen for the clearing of the current output cell\n",
       "var outputEl = gd.closest('.output');\n",
       "if (outputEl) {{\n",
       "    x.observe(outputEl, {childList: true});\n",
       "}}\n",
       "\n",
       "                        })                };                });            </script>        </div>"
      ]
     },
     "metadata": {},
     "output_type": "display_data"
    }
   ],
   "source": [
    "# Visualize individual hyperparameters as slice plot.\n",
    "optuna.visualization.plot_slice(study)"
   ]
  },
  {
   "cell_type": "code",
   "execution_count": 19,
   "metadata": {
    "ExecuteTime": {
     "end_time": "2021-06-17T22:51:01.141789Z",
     "start_time": "2021-06-17T22:51:01.128788Z"
    },
    "tags": []
   },
   "outputs": [
    {
     "data": {
      "application/vnd.plotly.v1+json": {
       "config": {
        "plotlyServerURL": "https://plot.ly"
       },
       "data": [
        {
         "cliponaxis": false,
         "hovertemplate": [
          "rf_weight (UniformDistribution): 0.020497583841641652<extra></extra>",
          "lgbm_weight (UniformDistribution): 0.09157996473326951<extra></extra>",
          "lr_weight (UniformDistribution): 0.8879224514250887<extra></extra>"
         ],
         "marker": {
          "color": [
           "rgb(8,48,107)",
           "rgb(8,48,107)",
           "rgb(8,48,107)"
          ]
         },
         "orientation": "h",
         "text": [
          "0.020497583841641652",
          "0.09157996473326951",
          "0.8879224514250887"
         ],
         "textposition": "outside",
         "texttemplate": "%{text:.2f}",
         "type": "bar",
         "x": [
          0.020497583841641652,
          0.09157996473326951,
          0.8879224514250887
         ],
         "y": [
          "rf_weight",
          "lgbm_weight",
          "lr_weight"
         ]
        }
       ],
       "layout": {
        "autosize": true,
        "showlegend": false,
        "template": {
         "data": {
          "bar": [
           {
            "error_x": {
             "color": "#2a3f5f"
            },
            "error_y": {
             "color": "#2a3f5f"
            },
            "marker": {
             "line": {
              "color": "#E5ECF6",
              "width": 0.5
             }
            },
            "type": "bar"
           }
          ],
          "barpolar": [
           {
            "marker": {
             "line": {
              "color": "#E5ECF6",
              "width": 0.5
             }
            },
            "type": "barpolar"
           }
          ],
          "carpet": [
           {
            "aaxis": {
             "endlinecolor": "#2a3f5f",
             "gridcolor": "white",
             "linecolor": "white",
             "minorgridcolor": "white",
             "startlinecolor": "#2a3f5f"
            },
            "baxis": {
             "endlinecolor": "#2a3f5f",
             "gridcolor": "white",
             "linecolor": "white",
             "minorgridcolor": "white",
             "startlinecolor": "#2a3f5f"
            },
            "type": "carpet"
           }
          ],
          "choropleth": [
           {
            "colorbar": {
             "outlinewidth": 0,
             "ticks": ""
            },
            "type": "choropleth"
           }
          ],
          "contour": [
           {
            "colorbar": {
             "outlinewidth": 0,
             "ticks": ""
            },
            "colorscale": [
             [
              0,
              "#0d0887"
             ],
             [
              0.1111111111111111,
              "#46039f"
             ],
             [
              0.2222222222222222,
              "#7201a8"
             ],
             [
              0.3333333333333333,
              "#9c179e"
             ],
             [
              0.4444444444444444,
              "#bd3786"
             ],
             [
              0.5555555555555556,
              "#d8576b"
             ],
             [
              0.6666666666666666,
              "#ed7953"
             ],
             [
              0.7777777777777778,
              "#fb9f3a"
             ],
             [
              0.8888888888888888,
              "#fdca26"
             ],
             [
              1,
              "#f0f921"
             ]
            ],
            "type": "contour"
           }
          ],
          "contourcarpet": [
           {
            "colorbar": {
             "outlinewidth": 0,
             "ticks": ""
            },
            "type": "contourcarpet"
           }
          ],
          "heatmap": [
           {
            "colorbar": {
             "outlinewidth": 0,
             "ticks": ""
            },
            "colorscale": [
             [
              0,
              "#0d0887"
             ],
             [
              0.1111111111111111,
              "#46039f"
             ],
             [
              0.2222222222222222,
              "#7201a8"
             ],
             [
              0.3333333333333333,
              "#9c179e"
             ],
             [
              0.4444444444444444,
              "#bd3786"
             ],
             [
              0.5555555555555556,
              "#d8576b"
             ],
             [
              0.6666666666666666,
              "#ed7953"
             ],
             [
              0.7777777777777778,
              "#fb9f3a"
             ],
             [
              0.8888888888888888,
              "#fdca26"
             ],
             [
              1,
              "#f0f921"
             ]
            ],
            "type": "heatmap"
           }
          ],
          "heatmapgl": [
           {
            "colorbar": {
             "outlinewidth": 0,
             "ticks": ""
            },
            "colorscale": [
             [
              0,
              "#0d0887"
             ],
             [
              0.1111111111111111,
              "#46039f"
             ],
             [
              0.2222222222222222,
              "#7201a8"
             ],
             [
              0.3333333333333333,
              "#9c179e"
             ],
             [
              0.4444444444444444,
              "#bd3786"
             ],
             [
              0.5555555555555556,
              "#d8576b"
             ],
             [
              0.6666666666666666,
              "#ed7953"
             ],
             [
              0.7777777777777778,
              "#fb9f3a"
             ],
             [
              0.8888888888888888,
              "#fdca26"
             ],
             [
              1,
              "#f0f921"
             ]
            ],
            "type": "heatmapgl"
           }
          ],
          "histogram": [
           {
            "marker": {
             "colorbar": {
              "outlinewidth": 0,
              "ticks": ""
             }
            },
            "type": "histogram"
           }
          ],
          "histogram2d": [
           {
            "colorbar": {
             "outlinewidth": 0,
             "ticks": ""
            },
            "colorscale": [
             [
              0,
              "#0d0887"
             ],
             [
              0.1111111111111111,
              "#46039f"
             ],
             [
              0.2222222222222222,
              "#7201a8"
             ],
             [
              0.3333333333333333,
              "#9c179e"
             ],
             [
              0.4444444444444444,
              "#bd3786"
             ],
             [
              0.5555555555555556,
              "#d8576b"
             ],
             [
              0.6666666666666666,
              "#ed7953"
             ],
             [
              0.7777777777777778,
              "#fb9f3a"
             ],
             [
              0.8888888888888888,
              "#fdca26"
             ],
             [
              1,
              "#f0f921"
             ]
            ],
            "type": "histogram2d"
           }
          ],
          "histogram2dcontour": [
           {
            "colorbar": {
             "outlinewidth": 0,
             "ticks": ""
            },
            "colorscale": [
             [
              0,
              "#0d0887"
             ],
             [
              0.1111111111111111,
              "#46039f"
             ],
             [
              0.2222222222222222,
              "#7201a8"
             ],
             [
              0.3333333333333333,
              "#9c179e"
             ],
             [
              0.4444444444444444,
              "#bd3786"
             ],
             [
              0.5555555555555556,
              "#d8576b"
             ],
             [
              0.6666666666666666,
              "#ed7953"
             ],
             [
              0.7777777777777778,
              "#fb9f3a"
             ],
             [
              0.8888888888888888,
              "#fdca26"
             ],
             [
              1,
              "#f0f921"
             ]
            ],
            "type": "histogram2dcontour"
           }
          ],
          "mesh3d": [
           {
            "colorbar": {
             "outlinewidth": 0,
             "ticks": ""
            },
            "type": "mesh3d"
           }
          ],
          "parcoords": [
           {
            "line": {
             "colorbar": {
              "outlinewidth": 0,
              "ticks": ""
             }
            },
            "type": "parcoords"
           }
          ],
          "pie": [
           {
            "automargin": true,
            "type": "pie"
           }
          ],
          "scatter": [
           {
            "marker": {
             "colorbar": {
              "outlinewidth": 0,
              "ticks": ""
             }
            },
            "type": "scatter"
           }
          ],
          "scatter3d": [
           {
            "line": {
             "colorbar": {
              "outlinewidth": 0,
              "ticks": ""
             }
            },
            "marker": {
             "colorbar": {
              "outlinewidth": 0,
              "ticks": ""
             }
            },
            "type": "scatter3d"
           }
          ],
          "scattercarpet": [
           {
            "marker": {
             "colorbar": {
              "outlinewidth": 0,
              "ticks": ""
             }
            },
            "type": "scattercarpet"
           }
          ],
          "scattergeo": [
           {
            "marker": {
             "colorbar": {
              "outlinewidth": 0,
              "ticks": ""
             }
            },
            "type": "scattergeo"
           }
          ],
          "scattergl": [
           {
            "marker": {
             "colorbar": {
              "outlinewidth": 0,
              "ticks": ""
             }
            },
            "type": "scattergl"
           }
          ],
          "scattermapbox": [
           {
            "marker": {
             "colorbar": {
              "outlinewidth": 0,
              "ticks": ""
             }
            },
            "type": "scattermapbox"
           }
          ],
          "scatterpolar": [
           {
            "marker": {
             "colorbar": {
              "outlinewidth": 0,
              "ticks": ""
             }
            },
            "type": "scatterpolar"
           }
          ],
          "scatterpolargl": [
           {
            "marker": {
             "colorbar": {
              "outlinewidth": 0,
              "ticks": ""
             }
            },
            "type": "scatterpolargl"
           }
          ],
          "scatterternary": [
           {
            "marker": {
             "colorbar": {
              "outlinewidth": 0,
              "ticks": ""
             }
            },
            "type": "scatterternary"
           }
          ],
          "surface": [
           {
            "colorbar": {
             "outlinewidth": 0,
             "ticks": ""
            },
            "colorscale": [
             [
              0,
              "#0d0887"
             ],
             [
              0.1111111111111111,
              "#46039f"
             ],
             [
              0.2222222222222222,
              "#7201a8"
             ],
             [
              0.3333333333333333,
              "#9c179e"
             ],
             [
              0.4444444444444444,
              "#bd3786"
             ],
             [
              0.5555555555555556,
              "#d8576b"
             ],
             [
              0.6666666666666666,
              "#ed7953"
             ],
             [
              0.7777777777777778,
              "#fb9f3a"
             ],
             [
              0.8888888888888888,
              "#fdca26"
             ],
             [
              1,
              "#f0f921"
             ]
            ],
            "type": "surface"
           }
          ],
          "table": [
           {
            "cells": {
             "fill": {
              "color": "#EBF0F8"
             },
             "line": {
              "color": "white"
             }
            },
            "header": {
             "fill": {
              "color": "#C8D4E3"
             },
             "line": {
              "color": "white"
             }
            },
            "type": "table"
           }
          ]
         },
         "layout": {
          "annotationdefaults": {
           "arrowcolor": "#2a3f5f",
           "arrowhead": 0,
           "arrowwidth": 1
          },
          "autotypenumbers": "strict",
          "coloraxis": {
           "colorbar": {
            "outlinewidth": 0,
            "ticks": ""
           }
          },
          "colorscale": {
           "diverging": [
            [
             0,
             "#8e0152"
            ],
            [
             0.1,
             "#c51b7d"
            ],
            [
             0.2,
             "#de77ae"
            ],
            [
             0.3,
             "#f1b6da"
            ],
            [
             0.4,
             "#fde0ef"
            ],
            [
             0.5,
             "#f7f7f7"
            ],
            [
             0.6,
             "#e6f5d0"
            ],
            [
             0.7,
             "#b8e186"
            ],
            [
             0.8,
             "#7fbc41"
            ],
            [
             0.9,
             "#4d9221"
            ],
            [
             1,
             "#276419"
            ]
           ],
           "sequential": [
            [
             0,
             "#0d0887"
            ],
            [
             0.1111111111111111,
             "#46039f"
            ],
            [
             0.2222222222222222,
             "#7201a8"
            ],
            [
             0.3333333333333333,
             "#9c179e"
            ],
            [
             0.4444444444444444,
             "#bd3786"
            ],
            [
             0.5555555555555556,
             "#d8576b"
            ],
            [
             0.6666666666666666,
             "#ed7953"
            ],
            [
             0.7777777777777778,
             "#fb9f3a"
            ],
            [
             0.8888888888888888,
             "#fdca26"
            ],
            [
             1,
             "#f0f921"
            ]
           ],
           "sequentialminus": [
            [
             0,
             "#0d0887"
            ],
            [
             0.1111111111111111,
             "#46039f"
            ],
            [
             0.2222222222222222,
             "#7201a8"
            ],
            [
             0.3333333333333333,
             "#9c179e"
            ],
            [
             0.4444444444444444,
             "#bd3786"
            ],
            [
             0.5555555555555556,
             "#d8576b"
            ],
            [
             0.6666666666666666,
             "#ed7953"
            ],
            [
             0.7777777777777778,
             "#fb9f3a"
            ],
            [
             0.8888888888888888,
             "#fdca26"
            ],
            [
             1,
             "#f0f921"
            ]
           ]
          },
          "colorway": [
           "#636efa",
           "#EF553B",
           "#00cc96",
           "#ab63fa",
           "#FFA15A",
           "#19d3f3",
           "#FF6692",
           "#B6E880",
           "#FF97FF",
           "#FECB52"
          ],
          "font": {
           "color": "#2a3f5f"
          },
          "geo": {
           "bgcolor": "white",
           "lakecolor": "white",
           "landcolor": "#E5ECF6",
           "showlakes": true,
           "showland": true,
           "subunitcolor": "white"
          },
          "hoverlabel": {
           "align": "left"
          },
          "hovermode": "closest",
          "mapbox": {
           "style": "light"
          },
          "paper_bgcolor": "white",
          "plot_bgcolor": "#E5ECF6",
          "polar": {
           "angularaxis": {
            "gridcolor": "white",
            "linecolor": "white",
            "ticks": ""
           },
           "bgcolor": "#E5ECF6",
           "radialaxis": {
            "gridcolor": "white",
            "linecolor": "white",
            "ticks": ""
           }
          },
          "scene": {
           "xaxis": {
            "backgroundcolor": "#E5ECF6",
            "gridcolor": "white",
            "gridwidth": 2,
            "linecolor": "white",
            "showbackground": true,
            "ticks": "",
            "zerolinecolor": "white"
           },
           "yaxis": {
            "backgroundcolor": "#E5ECF6",
            "gridcolor": "white",
            "gridwidth": 2,
            "linecolor": "white",
            "showbackground": true,
            "ticks": "",
            "zerolinecolor": "white"
           },
           "zaxis": {
            "backgroundcolor": "#E5ECF6",
            "gridcolor": "white",
            "gridwidth": 2,
            "linecolor": "white",
            "showbackground": true,
            "ticks": "",
            "zerolinecolor": "white"
           }
          },
          "shapedefaults": {
           "line": {
            "color": "#2a3f5f"
           }
          },
          "ternary": {
           "aaxis": {
            "gridcolor": "white",
            "linecolor": "white",
            "ticks": ""
           },
           "baxis": {
            "gridcolor": "white",
            "linecolor": "white",
            "ticks": ""
           },
           "bgcolor": "#E5ECF6",
           "caxis": {
            "gridcolor": "white",
            "linecolor": "white",
            "ticks": ""
           }
          },
          "title": {
           "x": 0.05
          },
          "xaxis": {
           "automargin": true,
           "gridcolor": "white",
           "linecolor": "white",
           "ticks": "",
           "title": {
            "standoff": 15
           },
           "zerolinecolor": "white",
           "zerolinewidth": 2
          },
          "yaxis": {
           "automargin": true,
           "gridcolor": "white",
           "linecolor": "white",
           "ticks": "",
           "title": {
            "standoff": 15
           },
           "zerolinecolor": "white",
           "zerolinewidth": 2
          }
         }
        },
        "title": {
         "text": "Hyperparameter Importances"
        },
        "xaxis": {
         "autorange": true,
         "range": [
          0,
          0.9346552120264092
         ],
         "title": {
          "text": "Importance for Objective Value"
         },
         "type": "linear"
        },
        "yaxis": {
         "autorange": true,
         "range": [
          -0.5,
          2.5
         ],
         "title": {
          "text": "Hyperparameter"
         },
         "type": "category"
        }
       }
      },
      "image/png": "[encoded data removed]",
      "text/html": [
       "<div>                            <div id=\"63236125-14b9-4bc8-8cca-55b93ebebb5b\" class=\"plotly-graph-div\" style=\"height:525px; width:100%;\"></div>            <script type=\"text/javascript\">                require([\"plotly\"], function(Plotly) {                    window.PLOTLYENV=window.PLOTLYENV || {};                                    if (document.getElementById(\"63236125-14b9-4bc8-8cca-55b93ebebb5b\")) {                    Plotly.newPlot(                        \"63236125-14b9-4bc8-8cca-55b93ebebb5b\",                        [{\"cliponaxis\": false, \"hovertemplate\": [\"rf_weight (UniformDistribution): 0.020497583841641652<extra></extra>\", \"lgbm_weight (UniformDistribution): 0.09157996473326951<extra></extra>\", \"lr_weight (UniformDistribution): 0.8879224514250887<extra></extra>\"], \"marker\": {\"color\": [\"rgb(8,48,107)\", \"rgb(8,48,107)\", \"rgb(8,48,107)\"]}, \"orientation\": \"h\", \"text\": [\"0.020497583841641652\", \"0.09157996473326951\", \"0.8879224514250887\"], \"textposition\": \"outside\", \"texttemplate\": \"%{text:.2f}\", \"type\": \"bar\", \"x\": [0.020497583841641652, 0.09157996473326951, 0.8879224514250887], \"y\": [\"rf_weight\", \"lgbm_weight\", \"lr_weight\"]}],                        {\"showlegend\": false, \"template\": {\"data\": {\"bar\": [{\"error_x\": {\"color\": \"#2a3f5f\"}, \"error_y\": {\"color\": \"#2a3f5f\"}, \"marker\": {\"line\": {\"color\": \"#E5ECF6\", \"width\": 0.5}}, \"type\": \"bar\"}], \"barpolar\": [{\"marker\": {\"line\": {\"color\": \"#E5ECF6\", \"width\": 0.5}}, \"type\": \"barpolar\"}], \"carpet\": [{\"aaxis\": {\"endlinecolor\": \"#2a3f5f\", \"gridcolor\": \"white\", \"linecolor\": \"white\", \"minorgridcolor\": \"white\", \"startlinecolor\": \"#2a3f5f\"}, \"baxis\": {\"endlinecolor\": \"#2a3f5f\", \"gridcolor\": \"white\", \"linecolor\": \"white\", \"minorgridcolor\": \"white\", \"startlinecolor\": \"#2a3f5f\"}, \"type\": \"carpet\"}], \"choropleth\": [{\"colorbar\": {\"outlinewidth\": 0, \"ticks\": \"\"}, \"type\": \"choropleth\"}], \"contour\": [{\"colorbar\": {\"outlinewidth\": 0, \"ticks\": \"\"}, \"colorscale\": [[0.0, \"#0d0887\"], [0.1111111111111111, \"#46039f\"], [0.2222222222222222, \"#7201a8\"], [0.3333333333333333, \"#9c179e\"], [0.4444444444444444, \"#bd3786\"], [0.5555555555555556, \"#d8576b\"], [0.6666666666666666, \"#ed7953\"], [0.7777777777777778, \"#fb9f3a\"], [0.8888888888888888, \"#fdca26\"], [1.0, \"#f0f921\"]], \"type\": \"contour\"}], \"contourcarpet\": [{\"colorbar\": {\"outlinewidth\": 0, \"ticks\": \"\"}, \"type\": \"contourcarpet\"}], \"heatmap\": [{\"colorbar\": {\"outlinewidth\": 0, \"ticks\": \"\"}, \"colorscale\": [[0.0, \"#0d0887\"], [0.1111111111111111, \"#46039f\"], [0.2222222222222222, \"#7201a8\"], [0.3333333333333333, \"#9c179e\"], [0.4444444444444444, \"#bd3786\"], [0.5555555555555556, \"#d8576b\"], [0.6666666666666666, \"#ed7953\"], [0.7777777777777778, \"#fb9f3a\"], [0.8888888888888888, \"#fdca26\"], [1.0, \"#f0f921\"]], \"type\": \"heatmap\"}], \"heatmapgl\": [{\"colorbar\": {\"outlinewidth\": 0, \"ticks\": \"\"}, \"colorscale\": [[0.0, \"#0d0887\"], [0.1111111111111111, \"#46039f\"], [0.2222222222222222, \"#7201a8\"], [0.3333333333333333, \"#9c179e\"], [0.4444444444444444, \"#bd3786\"], [0.5555555555555556, \"#d8576b\"], [0.6666666666666666, \"#ed7953\"], [0.7777777777777778, \"#fb9f3a\"], [0.8888888888888888, \"#fdca26\"], [1.0, \"#f0f921\"]], \"type\": \"heatmapgl\"}], \"histogram\": [{\"marker\": {\"colorbar\": {\"outlinewidth\": 0, \"ticks\": \"\"}}, \"type\": \"histogram\"}], \"histogram2d\": [{\"colorbar\": {\"outlinewidth\": 0, \"ticks\": \"\"}, \"colorscale\": [[0.0, \"#0d0887\"], [0.1111111111111111, \"#46039f\"], [0.2222222222222222, \"#7201a8\"], [0.3333333333333333, \"#9c179e\"], [0.4444444444444444, \"#bd3786\"], [0.5555555555555556, \"#d8576b\"], [0.6666666666666666, \"#ed7953\"], [0.7777777777777778, \"#fb9f3a\"], [0.8888888888888888, \"#fdca26\"], [1.0, \"#f0f921\"]], \"type\": \"histogram2d\"}], \"histogram2dcontour\": [{\"colorbar\": {\"outlinewidth\": 0, \"ticks\": \"\"}, \"colorscale\": [[0.0, \"#0d0887\"], [0.1111111111111111, \"#46039f\"], [0.2222222222222222, \"#7201a8\"], [0.3333333333333333, \"#9c179e\"], [0.4444444444444444, \"#bd3786\"], [0.5555555555555556, \"#d8576b\"], [0.6666666666666666, \"#ed7953\"], [0.7777777777777778, \"#fb9f3a\"], [0.8888888888888888, \"#fdca26\"], [1.0, \"#f0f921\"]], \"type\": \"histogram2dcontour\"}], \"mesh3d\": [{\"colorbar\": {\"outlinewidth\": 0, \"ticks\": \"\"}, \"type\": \"mesh3d\"}], \"parcoords\": [{\"line\": {\"colorbar\": {\"outlinewidth\": 0, \"ticks\": \"\"}}, \"type\": \"parcoords\"}], \"pie\": [{\"automargin\": true, \"type\": \"pie\"}], \"scatter\": [{\"marker\": {\"colorbar\": {\"outlinewidth\": 0, \"ticks\": \"\"}}, \"type\": \"scatter\"}], \"scatter3d\": [{\"line\": {\"colorbar\": {\"outlinewidth\": 0, \"ticks\": \"\"}}, \"marker\": {\"colorbar\": {\"outlinewidth\": 0, \"ticks\": \"\"}}, \"type\": \"scatter3d\"}], \"scattercarpet\": [{\"marker\": {\"colorbar\": {\"outlinewidth\": 0, \"ticks\": \"\"}}, \"type\": \"scattercarpet\"}], \"scattergeo\": [{\"marker\": {\"colorbar\": {\"outlinewidth\": 0, \"ticks\": \"\"}}, \"type\": \"scattergeo\"}], \"scattergl\": [{\"marker\": {\"colorbar\": {\"outlinewidth\": 0, \"ticks\": \"\"}}, \"type\": \"scattergl\"}], \"scattermapbox\": [{\"marker\": {\"colorbar\": {\"outlinewidth\": 0, \"ticks\": \"\"}}, \"type\": \"scattermapbox\"}], \"scatterpolar\": [{\"marker\": {\"colorbar\": {\"outlinewidth\": 0, \"ticks\": \"\"}}, \"type\": \"scatterpolar\"}], \"scatterpolargl\": [{\"marker\": {\"colorbar\": {\"outlinewidth\": 0, \"ticks\": \"\"}}, \"type\": \"scatterpolargl\"}], \"scatterternary\": [{\"marker\": {\"colorbar\": {\"outlinewidth\": 0, \"ticks\": \"\"}}, \"type\": \"scatterternary\"}], \"surface\": [{\"colorbar\": {\"outlinewidth\": 0, \"ticks\": \"\"}, \"colorscale\": [[0.0, \"#0d0887\"], [0.1111111111111111, \"#46039f\"], [0.2222222222222222, \"#7201a8\"], [0.3333333333333333, \"#9c179e\"], [0.4444444444444444, \"#bd3786\"], [0.5555555555555556, \"#d8576b\"], [0.6666666666666666, \"#ed7953\"], [0.7777777777777778, \"#fb9f3a\"], [0.8888888888888888, \"#fdca26\"], [1.0, \"#f0f921\"]], \"type\": \"surface\"}], \"table\": [{\"cells\": {\"fill\": {\"color\": \"#EBF0F8\"}, \"line\": {\"color\": \"white\"}}, \"header\": {\"fill\": {\"color\": \"#C8D4E3\"}, \"line\": {\"color\": \"white\"}}, \"type\": \"table\"}]}, \"layout\": {\"annotationdefaults\": {\"arrowcolor\": \"#2a3f5f\", \"arrowhead\": 0, \"arrowwidth\": 1}, \"autotypenumbers\": \"strict\", \"coloraxis\": {\"colorbar\": {\"outlinewidth\": 0, \"ticks\": \"\"}}, \"colorscale\": {\"diverging\": [[0, \"#8e0152\"], [0.1, \"#c51b7d\"], [0.2, \"#de77ae\"], [0.3, \"#f1b6da\"], [0.4, \"#fde0ef\"], [0.5, \"#f7f7f7\"], [0.6, \"#e6f5d0\"], [0.7, \"#b8e186\"], [0.8, \"#7fbc41\"], [0.9, \"#4d9221\"], [1, \"#276419\"]], \"sequential\": [[0.0, \"#0d0887\"], [0.1111111111111111, \"#46039f\"], [0.2222222222222222, \"#7201a8\"], [0.3333333333333333, \"#9c179e\"], [0.4444444444444444, \"#bd3786\"], [0.5555555555555556, \"#d8576b\"], [0.6666666666666666, \"#ed7953\"], [0.7777777777777778, \"#fb9f3a\"], [0.8888888888888888, \"#fdca26\"], [1.0, \"#f0f921\"]], \"sequentialminus\": [[0.0, \"#0d0887\"], [0.1111111111111111, \"#46039f\"], [0.2222222222222222, \"#7201a8\"], [0.3333333333333333, \"#9c179e\"], [0.4444444444444444, \"#bd3786\"], [0.5555555555555556, \"#d8576b\"], [0.6666666666666666, \"#ed7953\"], [0.7777777777777778, \"#fb9f3a\"], [0.8888888888888888, \"#fdca26\"], [1.0, \"#f0f921\"]]}, \"colorway\": [\"#636efa\", \"#EF553B\", \"#00cc96\", \"#ab63fa\", \"#FFA15A\", \"#19d3f3\", \"#FF6692\", \"#B6E880\", \"#FF97FF\", \"#FECB52\"], \"font\": {\"color\": \"#2a3f5f\"}, \"geo\": {\"bgcolor\": \"white\", \"lakecolor\": \"white\", \"landcolor\": \"#E5ECF6\", \"showlakes\": true, \"showland\": true, \"subunitcolor\": \"white\"}, \"hoverlabel\": {\"align\": \"left\"}, \"hovermode\": \"closest\", \"mapbox\": {\"style\": \"light\"}, \"paper_bgcolor\": \"white\", \"plot_bgcolor\": \"#E5ECF6\", \"polar\": {\"angularaxis\": {\"gridcolor\": \"white\", \"linecolor\": \"white\", \"ticks\": \"\"}, \"bgcolor\": \"#E5ECF6\", \"radialaxis\": {\"gridcolor\": \"white\", \"linecolor\": \"white\", \"ticks\": \"\"}}, \"scene\": {\"xaxis\": {\"backgroundcolor\": \"#E5ECF6\", \"gridcolor\": \"white\", \"gridwidth\": 2, \"linecolor\": \"white\", \"showbackground\": true, \"ticks\": \"\", \"zerolinecolor\": \"white\"}, \"yaxis\": {\"backgroundcolor\": \"#E5ECF6\", \"gridcolor\": \"white\", \"gridwidth\": 2, \"linecolor\": \"white\", \"showbackground\": true, \"ticks\": \"\", \"zerolinecolor\": \"white\"}, \"zaxis\": {\"backgroundcolor\": \"#E5ECF6\", \"gridcolor\": \"white\", \"gridwidth\": 2, \"linecolor\": \"white\", \"showbackground\": true, \"ticks\": \"\", \"zerolinecolor\": \"white\"}}, \"shapedefaults\": {\"line\": {\"color\": \"#2a3f5f\"}}, \"ternary\": {\"aaxis\": {\"gridcolor\": \"white\", \"linecolor\": \"white\", \"ticks\": \"\"}, \"baxis\": {\"gridcolor\": \"white\", \"linecolor\": \"white\", \"ticks\": \"\"}, \"bgcolor\": \"#E5ECF6\", \"caxis\": {\"gridcolor\": \"white\", \"linecolor\": \"white\", \"ticks\": \"\"}}, \"title\": {\"x\": 0.05}, \"xaxis\": {\"automargin\": true, \"gridcolor\": \"white\", \"linecolor\": \"white\", \"ticks\": \"\", \"title\": {\"standoff\": 15}, \"zerolinecolor\": \"white\", \"zerolinewidth\": 2}, \"yaxis\": {\"automargin\": true, \"gridcolor\": \"white\", \"linecolor\": \"white\", \"ticks\": \"\", \"title\": {\"standoff\": 15}, \"zerolinecolor\": \"white\", \"zerolinewidth\": 2}}}, \"title\": {\"text\": \"Hyperparameter Importances\"}, \"xaxis\": {\"title\": {\"text\": \"Importance for Objective Value\"}}, \"yaxis\": {\"title\": {\"text\": \"Hyperparameter\"}}},                        {\"responsive\": true}                    ).then(function(){\n",
       "                            \n",
       "var gd = document.getElementById('63236125-14b9-4bc8-8cca-55b93ebebb5b');\n",
       "var x = new MutationObserver(function (mutations, observer) {{\n",
       "        var display = window.getComputedStyle(gd).display;\n",
       "        if (!display || display === 'none') {{\n",
       "            console.log([gd, 'removed!']);\n",
       "            Plotly.purge(gd);\n",
       "            observer.disconnect();\n",
       "        }}\n",
       "}});\n",
       "\n",
       "// Listen for the removal of the full notebook cells\n",
       "var notebookContainer = gd.closest('#notebook-container');\n",
       "if (notebookContainer) {{\n",
       "    x.observe(notebookContainer, {childList: true});\n",
       "}}\n",
       "\n",
       "// Listen for the clearing of the current output cell\n",
       "var outputEl = gd.closest('.output');\n",
       "if (outputEl) {{\n",
       "    x.observe(outputEl, {childList: true});\n",
       "}}\n",
       "\n",
       "                        })                };                });            </script>        </div>"
      ]
     },
     "metadata": {},
     "output_type": "display_data"
    }
   ],
   "source": [
    "# Visualize parameter importances. \n",
    "optuna.visualization.plot_param_importances(study)"
   ]
  },
  {
   "cell_type": "raw",
   "metadata": {
    "ExecuteTime": {
     "end_time": "2021-06-07T23:07:30.502285Z",
     "start_time": "2021-06-07T23:07:11.461Z"
    }
   },
   "source": [
    "# save the sutdy after manual stop\n",
    "joblib.dump(study, file_name)\n"
   ]
  },
  {
   "cell_type": "code",
   "execution_count": 20,
   "metadata": {
    "ExecuteTime": {
     "end_time": "2021-06-17T22:51:01.384656Z",
     "start_time": "2021-06-17T22:51:01.143786Z"
    },
    "tags": []
   },
   "outputs": [
    {
     "data": {
      "application/vnd.plotly.v1+json": {
       "config": {
        "plotlyServerURL": "https://plot.ly"
       },
       "data": [
        {
         "dimensions": [
          {
           "label": "Objective Value",
           "range": [
            0.679172059438043,
            0.6840822337521837
           ],
           "values": [
            0.6795171409988608,
            0.6815436772364654,
            0.6812868627466429,
            0.681726085065035,
            0.6802271413311143,
            0.6796899788982174,
            0.6804924581517803,
            0.6831650822683081,
            0.6794612194085334,
            0.6820480260216849,
            0.6809579535096069,
            0.6813586580587879,
            0.6811011427156431,
            0.6814566903535069,
            0.681041080967928,
            0.680939395077547,
            0.6816193662030721,
            0.6817668478391626,
            0.6829740614677722,
            0.679172059438043,
            0.682840210932054,
            0.6823773875159261,
            0.6811697671953343,
            0.680629987702866,
            0.6831573443910159,
            0.6804331344128877,
            0.681954292189617,
            0.6817140750272337,
            0.6812156076727024,
            0.6807765992945413,
            0.6827881120605914,
            0.6827999656510977,
            0.6812895440238043,
            0.6813397620606271,
            0.681790172420382,
            0.6817273486253861,
            0.6810564365544683,
            0.6814440189029929,
            0.6829144064290584,
            0.6812424825752212,
            0.6816462797862528,
            0.6826682340925552,
            0.6804830088655445,
            0.6834478903975973,
            0.6798202057267563,
            0.6817100375093681,
            0.6816171031133575,
            0.6829357263918603,
            0.6814290376119925,
            0.6833184661536423,
            0.6833371196999376,
            0.6835975872673439,
            0.6835543190005078,
            0.6832702583623307,
            0.6832156232940516,
            0.6836346936296296,
            0.6833441923542464,
            0.6833916213814415,
            0.6832084656518499,
            0.6832270241338607,
            0.6830778845123021,
            0.683463248818257,
            0.6835131400821728,
            0.6835948248618917,
            0.6834581819997674,
            0.683383443372762,
            0.6831281831777367,
            0.6833520448481056,
            0.6834610341351509,
            0.6830972241927722,
            0.6830552001922741,
            0.6835093939908103,
            0.6834540863405139,
            0.6838033644587422,
            0.683662623962015,
            0.6835055307821872,
            0.6832041034783943,
            0.6833306899726876,
            0.683501447482895,
            0.6832647343597856,
            0.6830589461169236,
            0.6835051706125604,
            0.6835699543451866,
            0.6833430531786336,
            0.6829624345860401,
            0.6835262834610951,
            0.6834349017000184,
            0.6833674924733526,
            0.6836249733531489,
            0.6834915185006346,
            0.6832135783685283,
            0.6835024007729178,
            0.6834962048300014,
            0.6830698488502103,
            0.6826587654696213,
            0.6831196448831287,
            0.6833189861300278,
            0.6836720902761735,
            0.6836074119172872,
            0.6834351704725847,
            0.683178624947707,
            0.6835907542559866,
            0.6837390234744987,
            0.6835128752098946,
            0.6836802603505235,
            0.683665817539042,
            0.6836371090589807,
            0.6831719406412339,
            0.6831589985086954,
            0.6837013013383402,
            0.6834330360594594,
            0.6836633110460562,
            0.6836033297849855,
            0.6833375049229129,
            0.6837786130346475,
            0.6830546787154725,
            0.6837355868199,
            0.6835719172332385,
            0.6831240668403559,
            0.6834579483569413,
            0.6823883416159962,
            0.6839044562531953,
            0.6833184757298951,
            0.6834704317309311,
            0.6830705144477651,
            0.6835935867135203,
            0.6834911710496003,
            0.683449727759126,
            0.6822980898206367,
            0.6832770297972196,
            0.6835681703083114,
            0.6837741799755458,
            0.6835403802715477,
            0.6836360044218728,
            0.6836482541530365,
            0.6837936582093519,
            0.6837458883317487,
            0.6835665697067436,
            0.6836334872108492,
            0.6832729724604569,
            0.6835257254956447,
            0.6836674283837144,
            0.6835021689387282,
            0.683561893953907,
            0.68305776494341,
            0.6835929915925696,
            0.683339495089718,
            0.6835106378733118,
            0.6837226544303271,
            0.6834849087222864,
            0.6834660584808067,
            0.6836539122832856,
            0.6835559205771478,
            0.6830544717771836,
            0.6831547836816754,
            0.683518792586868,
            0.6835674975595811,
            0.6835459091828443,
            0.6835948159272851,
            0.6840361008232898,
            0.6839004410054298,
            0.6837264472786483,
            0.6835140689100825,
            0.6836890400555742,
            0.6834400145834099,
            0.6835700266808382,
            0.6833897306371227,
            0.6837192544562957,
            0.6837082456572118,
            0.6837544246762128,
            0.6836328607189387,
            0.6835709989566537,
            0.6836582995857061,
            0.6837399604034504,
            0.6835712553944642,
            0.683608048010656,
            0.6836702111086626,
            0.6837653414617954,
            0.6835354347206621,
            0.683527582868449,
            0.6835341934551563,
            0.6839503796679505,
            0.6840822337521837,
            0.6834908350086609,
            0.6835640954182818,
            0.6823342116886529
           ]
          },
          {
           "label": "lgbm_weight",
           "range": [
            0.01507657621646323,
            0.9709655989663392
           ],
           "values": [
            0.821080556509667,
            0.3454905730367114,
            0.509723166053726,
            0.7713850489916915,
            0.6012094452455528,
            0.7193038590661257,
            0.35729948560238545,
            0.27651526693296247,
            0.9290835046233267,
            0.22689353360103182,
            0.7014672124802722,
            0.5796193428735471,
            0.37295351524371423,
            0.4599322759130863,
            0.5519862430065012,
            0.17037466218522246,
            0.9506054180924883,
            0.20644468069754118,
            0.20611768432772604,
            0.48357129484695927,
            0.4552372874482856,
            0.7116920849785019,
            0.7107884052152357,
            0.9196723797347185,
            0.40943179208004576,
            0.03215678570927394,
            0.6604811607995114,
            0.8744161481901698,
            0.6130542958450944,
            0.5484854951039901,
            0.5302007462393082,
            0.11475278270901046,
            0.9709655989663392,
            0.8353152090040233,
            0.5512368025002439,
            0.20017880408039124,
            0.4230929106054767,
            0.8879774514204635,
            0.04858076363354091,
            0.6742443884559798,
            0.3783284671585866,
            0.08224028915270643,
            0.6923796890730859,
            0.21658271007778973,
            0.6883030079334322,
            0.42871336748902344,
            0.053538378664726105,
            0.10619786720535784,
            0.7339725727117505,
            0.2032802745806207,
            0.28023220976510477,
            0.3045472361234749,
            0.28817027963733827,
            0.2915325273375759,
            0.2985218456784482,
            0.2963574199406144,
            0.26396719513278183,
            0.32966635506902503,
            0.25684413869159317,
            0.33097024199972913,
            0.16145087687497844,
            0.25516667726129116,
            0.32485734450048165,
            0.33575820217414054,
            0.23801174747728937,
            0.36787228974521174,
            0.15143832348635008,
            0.23956758883801643,
            0.31514431378144003,
            0.31849780769573627,
            0.40387326382044625,
            0.34892289174340296,
            0.3481617298943173,
            0.30509966766101876,
            0.4875488199263225,
            0.4651472415265354,
            0.39440298472302626,
            0.3422997153668942,
            0.5054401519038132,
            0.44269831631325857,
            0.3686883155149026,
            0.486990442960012,
            0.47015615158439444,
            0.3875529197600147,
            0.6118217027467203,
            0.29984995850555085,
            0.29850281150543106,
            0.18004729460982832,
            0.2843516187898789,
            0.2815774963722309,
            0.2342504935719923,
            0.3149492733299064,
            0.2615760079093188,
            0.5826845199249511,
            0.532089632043932,
            0.41572750240713136,
            0.3048480784570418,
            0.27624242094725193,
            0.18672636339273085,
            0.12948638785688282,
            0.18513757534020375,
            0.2154334777163226,
            0.20542886198838103,
            0.22086036688988359,
            0.20238680532258535,
            0.1899396652771169,
            0.13485085401449787,
            0.13639047629954892,
            0.087827780329711,
            0.18625935666385732,
            0.15229797388078253,
            0.19178275651898588,
            0.18667323677427167,
            0.10714432976291105,
            0.19180945392308504,
            0.1653355413677795,
            0.24158377845839896,
            0.2021902436478298,
            0.13434924460665992,
            0.24240977402439773,
            0.01507657621646323,
            0.2702768861019541,
            0.2646374753662415,
            0.23034905522417548,
            0.08259685109214514,
            0.17125904410151144,
            0.2049099957987789,
            0.1497952848159531,
            0.6426627056588659,
            0.25179427203619714,
            0.21544972253007336,
            0.2773728076565041,
            0.11890215847833314,
            0.2694754518712897,
            0.2700107822295966,
            0.1925650796227721,
            0.2262512432073311,
            0.19393475757588308,
            0.23676401396734803,
            0.16833191805726083,
            0.20993678918453001,
            0.24794988526682543,
            0.22554344731691162,
            0.25547844773455514,
            0.18758799127187034,
            0.24583323733510784,
            0.2227013441294196,
            0.16297057090135186,
            0.19736676151342125,
            0.1914142999693418,
            0.20267564097208968,
            0.27674133743326285,
            0.2367802067792329,
            0.18061784272000103,
            0.14698494652459687,
            0.2232740455906429,
            0.2451157678007592,
            0.2059790538102994,
            0.28145317811067166,
            0.25775104644415076,
            0.25103783404752095,
            0.25172839367176136,
            0.262055224694578,
            0.22407239615059746,
            0.2917243978120151,
            0.24198890827255012,
            0.3141372770583485,
            0.22280030750631383,
            0.22249740563202489,
            0.22076280128710862,
            0.22421733862047577,
            0.21316868184759316,
            0.1696793956562082,
            0.22521142420945586,
            0.259662582024934,
            0.22828395077585217,
            0.2193487742513647,
            0.2570073825413419,
            0.27400827477021106,
            0.2570828457467351,
            0.29706534040357513,
            0.238635195355417,
            0.24218477351422812,
            0.23998259003957378,
            0.28169641948101043,
            0.25334155868846603
           ]
          },
          {
           "label": "lr_weight",
           "range": [
            0.0007466784098714152,
            0.9999401456358037
           ],
           "values": [
            0.03198265005260237,
            0.3650493638373742,
            0.4821691872235325,
            0.8275026398770677,
            0.13042711871865798,
            0.06595284622040731,
            0.18267291061231794,
            0.6920243372629767,
            0.035383526595514136,
            0.6230004590329014,
            0.36708672106848417,
            0.5588522108570644,
            0.428250306841616,
            0.5319884234528243,
            0.4014363896832758,
            0.11471569252279656,
            0.6533200667393062,
            0.4392358293130525,
            0.7342952336902902,
            0.0007466784098714152,
            0.6620812163376806,
            0.8238464254522808,
            0.5751084986209619,
            0.16130011569937408,
            0.8527518563503407,
            0.5714795823400846,
            0.7141324382944423,
            0.9280887436380285,
            0.5272135783334633,
            0.4436236065210689,
            0.9376029180231358,
            0.8481966560079214,
            0.6956778440088848,
            0.7191507234005818,
            0.5759052701468785,
            0.34708164394557073,
            0.3350135703461936,
            0.4897364620369793,
            0.8031732733629426,
            0.5714845021606806,
            0.6748948650288449,
            0.5022062388416784,
            0.2640489853842002,
            0.9683771201533662,
            0.029843314694301126,
            0.5693299720808062,
            0.6162982531918846,
            0.5448412692868801,
            0.5684846242268716,
            0.9586590020325156,
            0.9857916503770081,
            0.9915811579428218,
            0.9770546881625224,
            0.9999401456358037,
            0.9969816228496954,
            0.9974972579869421,
            0.9415852673018967,
            0.8991345227083305,
            0.8920924481472617,
            0.7711570580117959,
            0.8938836047240912,
            0.9655250025270006,
            0.8868472793530341,
            0.8763526721908564,
            0.9711926366450273,
            0.915991607424625,
            0.8675866441168568,
            0.9988561870104323,
            0.8060279955046364,
            0.7770036292451385,
            0.8213551170439378,
            0.9557583727880802,
            0.8670312226740036,
            0.9493497052187186,
            0.9485174158069577,
            0.9227224097399959,
            0.9353872762723034,
            0.8874674394784783,
            0.9996680094383704,
            0.9548660004277052,
            0.8588171022717891,
            0.9152259476541275,
            0.9197247801276383,
            0.9459198223935119,
            0.8405026252893815,
            0.978525297717291,
            0.9778375707855327,
            0.8812454294775345,
            0.9114955779255312,
            0.9172124335431574,
            0.9843684088611797,
            0.9125921188235706,
            0.9996374290038446,
            0.9387598733715438,
            0.7688428586914593,
            0.8779216593979435,
            0.8426082647636818,
            0.9035316703896694,
            0.9681866538058451,
            0.9049703455292828,
            0.9426548948145489,
            0.9679482112095623,
            0.9637485764510659,
            0.9576644930026611,
            0.929751672716425,
            0.9823868978623063,
            0.9352030367788564,
            0.9980485124375855,
            0.9382056232170668,
            0.986509957511063,
            0.9282016143939963,
            0.9870002206846649,
            0.9607711219066546,
            0.9805824257958371,
            0.9018132741508494,
            0.9007243956763206,
            0.899432504467119,
            0.8257058501244638,
            0.853322902598536,
            0.9427298218694696,
            0.9952389503605054,
            0.9023759880514501,
            0.8931908685449488,
            0.95095047240379,
            0.9266036168081114,
            0.9012736404229247,
            0.7936524227682448,
            0.8706396630325608,
            0.9304471102310609,
            0.9970983035565447,
            0.9769082924300634,
            0.9022307349453405,
            0.8591448259932444,
            0.9594511856665504,
            0.9513659434464031,
            0.9071930833071382,
            0.835754953640468,
            0.8302854854687798,
            0.8846386863702331,
            0.907413246821283,
            0.8590426126021811,
            0.8902390386289061,
            0.8813600109671975,
            0.9116056252685532,
            0.840376782397469,
            0.9234275243999422,
            0.8103139628639324,
            0.8925296648905344,
            0.8615374713452545,
            0.8665627745384451,
            0.8448108853729145,
            0.8937069422871793,
            0.923029349644759,
            0.8770456157190489,
            0.9476642508804977,
            0.9037391912376651,
            0.9607046659093699,
            0.9787553372225448,
            0.9271481645781937,
            0.8710807338684691,
            0.749467980648189,
            0.8181773552970605,
            0.7894690380269094,
            0.8170011770859836,
            0.7306420795945744,
            0.7604425850880774,
            0.8155484094511636,
            0.8309583423496774,
            0.827556140278603,
            0.783752047460406,
            0.7671610039903306,
            0.7863941876169694,
            0.7467059273152906,
            0.8060957965526352,
            0.8156244217715773,
            0.8227902412905188,
            0.8334167323327542,
            0.8001449753946068,
            0.8000827065782793,
            0.7555931640009989,
            0.848583690863219,
            0.798008050845772,
            0.7886277759590068,
            0.7133497924423813,
            0.7842501473347293,
            0.8001681429387933
           ]
          },
          {
           "label": "rf_weight",
           "range": [
            0.0032056717493500336,
            0.9821417445201837
           ],
           "values": [
            0.8316165993100444,
            0.5104183981442681,
            0.8848351257344365,
            0.40801096058960185,
            0.6914866109020719,
            0.5248470636274639,
            0.8560048822770606,
            0.35367068980746275,
            0.9414525012571014,
            0.7254338237668064,
            0.42354759251084995,
            0.05776431795992276,
            0.9631937728860965,
            0.7136329967172793,
            0.18901592650503907,
            0.4139014612496207,
            0.6573166350037893,
            0.607015732324477,
            0.5276513179367123,
            0.07668603218684245,
            0.19832370558321966,
            0.6853081781718638,
            0.3233759543585204,
            0.013540068368738667,
            0.2598972939255365,
            0.9485224295551107,
            0.6386082969589504,
            0.8771221442070825,
            0.3687909995185109,
            0.08761160014938707,
            0.8053020517637692,
            0.608575022868414,
            0.6348702079983959,
            0.16746814216056327,
            0.241509177251382,
            0.403280967381465,
            0.18409770930587555,
            0.19136810937230941,
            0.11855181419314154,
            0.5021419418187191,
            0.915574529998453,
            0.21877958513251916,
            0.9821417445201837,
            0.3790087826462727,
            0.25290332371597724,
            0.9740627016460659,
            0.6993850237124007,
            0.3622859892478195,
            0.5357475835683693,
            0.03655478261687761,
            0.456465905791234,
            0.28993707677057434,
            0.2826839801218755,
            0.46273688058393,
            0.4634180808420619,
            0.2842581969494091,
            0.29739858159252486,
            0.3021895094544389,
            0.3092154077540527,
            0.2890410164210345,
            0.3311150172075938,
            0.28388356142770826,
            0.28366240346045174,
            0.2738108120445236,
            0.14268846519561446,
            0.13387745231617149,
            0.23067214741754796,
            0.1440034828334218,
            0.26579519674053775,
            0.3423100211185105,
            0.21475809692454367,
            0.2773980195033,
            0.27212719557795384,
            0.2705920768338495,
            0.3299047243536648,
            0.3974015269276121,
            0.32331769695467116,
            0.23674061830562784,
            0.43309455785441964,
            0.1721571432722144,
            0.35128096709602785,
            0.3909931605002378,
            0.32022419495848875,
            0.20648174647641254,
            0.2630881525941217,
            0.31439846666396903,
            0.3228725985747025,
            0.37081188885289096,
            0.2473975479590647,
            0.23503062341925715,
            0.3448584429465696,
            0.30729903478547527,
            0.2522587754088183,
            0.29825075769212334,
            0.43029008419680825,
            0.19512461554440474,
            0.3173163854404148,
            0.16761146741023084,
            0.08183856737504358,
            0.08780043866655768,
            0.0032056717493500336,
            0.16242021623433694,
            0.10556873149827864,
            0.06062655786609979,
            0.10298372617447368,
            0.10600417846576646,
            0.07525471702897185,
            0.10787597941563536,
            0.039551843386613085,
            0.10506097628671325,
            0.11104256021594057,
            0.07799308428089557,
            0.06916638486554372,
            0.032055666146253846,
            0.10215133778745748,
            0.12832322367009247,
            0.15717952727049164,
            0.09349095769561436,
            0.16265313658281524,
            0.04679935250899995,
            0.10967267898271982,
            0.13375011031617715,
            0.014840787369986619,
            0.1488928071421877,
            0.12715663118213286,
            0.09850150508113087,
            0.17528705355586444,
            0.06680901305714228,
            0.14699070354805402,
            0.020378928498021046,
            0.12172673222296632,
            0.07863472551251534,
            0.0782556156644674,
            0.05464384999128256,
            0.051502395556137406,
            0.09357474952446306,
            0.09897629314771003,
            0.09779900647271043,
            0.14813282878277573,
            0.12331292540839395,
            0.17289484636862507,
            0.04938961648158885,
            0.09957950621964803,
            0.19047586348207485,
            0.030054293173314504,
            0.13302786548787232,
            0.005349533237699669,
            0.08259290849336887,
            0.1578198581457026,
            0.10830224354618143,
            0.15431299238875656,
            0.21248164485016358,
            0.060656808795778006,
            0.556574057553231,
            0.13313487359880197,
            0.08767606909458651,
            0.11785923689968447,
            0.1798024183452123,
            0.04800715567062115,
            0.0919608529665836,
            0.06841991759739262,
            0.07119588744671314,
            0.09825862050961717,
            0.06773845574756235,
            0.06500451462295306,
            0.03737548028514037,
            0.0768092872216597,
            0.1453069012333968,
            0.14823376892117257,
            0.1427725569873444,
            0.1402843703324409,
            0.11485443656003932,
            0.15611849413965181,
            0.12038485170540232,
            0.12947099425827358,
            0.19620668214186776,
            0.15250193244844942,
            0.08991434494885804,
            0.12746534832195094,
            0.0920778897415337,
            0.11631834391889985,
            0.06701582286298446,
            0.0806654784002276,
            0.08764024889479992,
            0.018852227260612447,
            0.7544832462008779
           ]
          }
         ],
         "labelangle": 30,
         "labelside": "bottom",
         "line": {
          "color": [
           0.6795171409988608,
           0.6815436772364654,
           0.6812868627466429,
           0.681726085065035,
           0.6802271413311143,
           0.6796899788982174,
           0.6804924581517803,
           0.6831650822683081,
           0.6794612194085334,
           0.6820480260216849,
           0.6809579535096069,
           0.6813586580587879,
           0.6811011427156431,
           0.6814566903535069,
           0.681041080967928,
           0.680939395077547,
           0.6816193662030721,
           0.6817668478391626,
           0.6829740614677722,
           0.679172059438043,
           0.682840210932054,
           0.6823773875159261,
           0.6811697671953343,
           0.680629987702866,
           0.6831573443910159,
           0.6804331344128877,
           0.681954292189617,
           0.6817140750272337,
           0.6812156076727024,
           0.6807765992945413,
           0.6827881120605914,
           0.6827999656510977,
           0.6812895440238043,
           0.6813397620606271,
           0.681790172420382,
           0.6817273486253861,
           0.6810564365544683,
           0.6814440189029929,
           0.6829144064290584,
           0.6812424825752212,
           0.6816462797862528,
           0.6826682340925552,
           0.6804830088655445,
           0.6834478903975973,
           0.6798202057267563,
           0.6817100375093681,
           0.6816171031133575,
           0.6829357263918603,
           0.6814290376119925,
           0.6833184661536423,
           0.6833371196999376,
           0.6835975872673439,
           0.6835543190005078,
           0.6832702583623307,
           0.6832156232940516,
           0.6836346936296296,
           0.6833441923542464,
           0.6833916213814415,
           0.6832084656518499,
           0.6832270241338607,
           0.6830778845123021,
           0.683463248818257,
           0.6835131400821728,
           0.6835948248618917,
           0.6834581819997674,
           0.683383443372762,
           0.6831281831777367,
           0.6833520448481056,
           0.6834610341351509,
           0.6830972241927722,
           0.6830552001922741,
           0.6835093939908103,
           0.6834540863405139,
           0.6838033644587422,
           0.683662623962015,
           0.6835055307821872,
           0.6832041034783943,
           0.6833306899726876,
           0.683501447482895,
           0.6832647343597856,
           0.6830589461169236,
           0.6835051706125604,
           0.6835699543451866,
           0.6833430531786336,
           0.6829624345860401,
           0.6835262834610951,
           0.6834349017000184,
           0.6833674924733526,
           0.6836249733531489,
           0.6834915185006346,
           0.6832135783685283,
           0.6835024007729178,
           0.6834962048300014,
           0.6830698488502103,
           0.6826587654696213,
           0.6831196448831287,
           0.6833189861300278,
           0.6836720902761735,
           0.6836074119172872,
           0.6834351704725847,
           0.683178624947707,
           0.6835907542559866,
           0.6837390234744987,
           0.6835128752098946,
           0.6836802603505235,
           0.683665817539042,
           0.6836371090589807,
           0.6831719406412339,
           0.6831589985086954,
           0.6837013013383402,
           0.6834330360594594,
           0.6836633110460562,
           0.6836033297849855,
           0.6833375049229129,
           0.6837786130346475,
           0.6830546787154725,
           0.6837355868199,
           0.6835719172332385,
           0.6831240668403559,
           0.6834579483569413,
           0.6823883416159962,
           0.6839044562531953,
           0.6833184757298951,
           0.6834704317309311,
           0.6830705144477651,
           0.6835935867135203,
           0.6834911710496003,
           0.683449727759126,
           0.6822980898206367,
           0.6832770297972196,
           0.6835681703083114,
           0.6837741799755458,
           0.6835403802715477,
           0.6836360044218728,
           0.6836482541530365,
           0.6837936582093519,
           0.6837458883317487,
           0.6835665697067436,
           0.6836334872108492,
           0.6832729724604569,
           0.6835257254956447,
           0.6836674283837144,
           0.6835021689387282,
           0.683561893953907,
           0.68305776494341,
           0.6835929915925696,
           0.683339495089718,
           0.6835106378733118,
           0.6837226544303271,
           0.6834849087222864,
           0.6834660584808067,
           0.6836539122832856,
           0.6835559205771478,
           0.6830544717771836,
           0.6831547836816754,
           0.683518792586868,
           0.6835674975595811,
           0.6835459091828443,
           0.6835948159272851,
           0.6840361008232898,
           0.6839004410054298,
           0.6837264472786483,
           0.6835140689100825,
           0.6836890400555742,
           0.6834400145834099,
           0.6835700266808382,
           0.6833897306371227,
           0.6837192544562957,
           0.6837082456572118,
           0.6837544246762128,
           0.6836328607189387,
           0.6835709989566537,
           0.6836582995857061,
           0.6837399604034504,
           0.6835712553944642,
           0.683608048010656,
           0.6836702111086626,
           0.6837653414617954,
           0.6835354347206621,
           0.683527582868449,
           0.6835341934551563,
           0.6839503796679505,
           0.6840822337521837,
           0.6834908350086609,
           0.6835640954182818,
           0.6823342116886529
          ],
          "colorbar": {
           "title": {
            "text": "Objective Value"
           }
          },
          "colorscale": [
           [
            0,
            "rgb(247,251,255)"
           ],
           [
            0.125,
            "rgb(222,235,247)"
           ],
           [
            0.25,
            "rgb(198,219,239)"
           ],
           [
            0.375,
            "rgb(158,202,225)"
           ],
           [
            0.5,
            "rgb(107,174,214)"
           ],
           [
            0.625,
            "rgb(66,146,198)"
           ],
           [
            0.75,
            "rgb(33,113,181)"
           ],
           [
            0.875,
            "rgb(8,81,156)"
           ],
           [
            1,
            "rgb(8,48,107)"
           ]
          ],
          "reversescale": false,
          "showscale": true
         },
         "type": "parcoords"
        }
       ],
       "layout": {
        "autosize": true,
        "template": {
         "data": {
          "bar": [
           {
            "error_x": {
             "color": "#2a3f5f"
            },
            "error_y": {
             "color": "#2a3f5f"
            },
            "marker": {
             "line": {
              "color": "#E5ECF6",
              "width": 0.5
             }
            },
            "type": "bar"
           }
          ],
          "barpolar": [
           {
            "marker": {
             "line": {
              "color": "#E5ECF6",
              "width": 0.5
             }
            },
            "type": "barpolar"
           }
          ],
          "carpet": [
           {
            "aaxis": {
             "endlinecolor": "#2a3f5f",
             "gridcolor": "white",
             "linecolor": "white",
             "minorgridcolor": "white",
             "startlinecolor": "#2a3f5f"
            },
            "baxis": {
             "endlinecolor": "#2a3f5f",
             "gridcolor": "white",
             "linecolor": "white",
             "minorgridcolor": "white",
             "startlinecolor": "#2a3f5f"
            },
            "type": "carpet"
           }
          ],
          "choropleth": [
           {
            "colorbar": {
             "outlinewidth": 0,
             "ticks": ""
            },
            "type": "choropleth"
           }
          ],
          "contour": [
           {
            "colorbar": {
             "outlinewidth": 0,
             "ticks": ""
            },
            "colorscale": [
             [
              0,
              "#0d0887"
             ],
             [
              0.1111111111111111,
              "#46039f"
             ],
             [
              0.2222222222222222,
              "#7201a8"
             ],
             [
              0.3333333333333333,
              "#9c179e"
             ],
             [
              0.4444444444444444,
              "#bd3786"
             ],
             [
              0.5555555555555556,
              "#d8576b"
             ],
             [
              0.6666666666666666,
              "#ed7953"
             ],
             [
              0.7777777777777778,
              "#fb9f3a"
             ],
             [
              0.8888888888888888,
              "#fdca26"
             ],
             [
              1,
              "#f0f921"
             ]
            ],
            "type": "contour"
           }
          ],
          "contourcarpet": [
           {
            "colorbar": {
             "outlinewidth": 0,
             "ticks": ""
            },
            "type": "contourcarpet"
           }
          ],
          "heatmap": [
           {
            "colorbar": {
             "outlinewidth": 0,
             "ticks": ""
            },
            "colorscale": [
             [
              0,
              "#0d0887"
             ],
             [
              0.1111111111111111,
              "#46039f"
             ],
             [
              0.2222222222222222,
              "#7201a8"
             ],
             [
              0.3333333333333333,
              "#9c179e"
             ],
             [
              0.4444444444444444,
              "#bd3786"
             ],
             [
              0.5555555555555556,
              "#d8576b"
             ],
             [
              0.6666666666666666,
              "#ed7953"
             ],
             [
              0.7777777777777778,
              "#fb9f3a"
             ],
             [
              0.8888888888888888,
              "#fdca26"
             ],
             [
              1,
              "#f0f921"
             ]
            ],
            "type": "heatmap"
           }
          ],
          "heatmapgl": [
           {
            "colorbar": {
             "outlinewidth": 0,
             "ticks": ""
            },
            "colorscale": [
             [
              0,
              "#0d0887"
             ],
             [
              0.1111111111111111,
              "#46039f"
             ],
             [
              0.2222222222222222,
              "#7201a8"
             ],
             [
              0.3333333333333333,
              "#9c179e"
             ],
             [
              0.4444444444444444,
              "#bd3786"
             ],
             [
              0.5555555555555556,
              "#d8576b"
             ],
             [
              0.6666666666666666,
              "#ed7953"
             ],
             [
              0.7777777777777778,
              "#fb9f3a"
             ],
             [
              0.8888888888888888,
              "#fdca26"
             ],
             [
              1,
              "#f0f921"
             ]
            ],
            "type": "heatmapgl"
           }
          ],
          "histogram": [
           {
            "marker": {
             "colorbar": {
              "outlinewidth": 0,
              "ticks": ""
             }
            },
            "type": "histogram"
           }
          ],
          "histogram2d": [
           {
            "colorbar": {
             "outlinewidth": 0,
             "ticks": ""
            },
            "colorscale": [
             [
              0,
              "#0d0887"
             ],
             [
              0.1111111111111111,
              "#46039f"
             ],
             [
              0.2222222222222222,
              "#7201a8"
             ],
             [
              0.3333333333333333,
              "#9c179e"
             ],
             [
              0.4444444444444444,
              "#bd3786"
             ],
             [
              0.5555555555555556,
              "#d8576b"
             ],
             [
              0.6666666666666666,
              "#ed7953"
             ],
             [
              0.7777777777777778,
              "#fb9f3a"
             ],
             [
              0.8888888888888888,
              "#fdca26"
             ],
             [
              1,
              "#f0f921"
             ]
            ],
            "type": "histogram2d"
           }
          ],
          "histogram2dcontour": [
           {
            "colorbar": {
             "outlinewidth": 0,
             "ticks": ""
            },
            "colorscale": [
             [
              0,
              "#0d0887"
             ],
             [
              0.1111111111111111,
              "#46039f"
             ],
             [
              0.2222222222222222,
              "#7201a8"
             ],
             [
              0.3333333333333333,
              "#9c179e"
             ],
             [
              0.4444444444444444,
              "#bd3786"
             ],
             [
              0.5555555555555556,
              "#d8576b"
             ],
             [
              0.6666666666666666,
              "#ed7953"
             ],
             [
              0.7777777777777778,
              "#fb9f3a"
             ],
             [
              0.8888888888888888,
              "#fdca26"
             ],
             [
              1,
              "#f0f921"
             ]
            ],
            "type": "histogram2dcontour"
           }
          ],
          "mesh3d": [
           {
            "colorbar": {
             "outlinewidth": 0,
             "ticks": ""
            },
            "type": "mesh3d"
           }
          ],
          "parcoords": [
           {
            "line": {
             "colorbar": {
              "outlinewidth": 0,
              "ticks": ""
             }
            },
            "type": "parcoords"
           }
          ],
          "pie": [
           {
            "automargin": true,
            "type": "pie"
           }
          ],
          "scatter": [
           {
            "marker": {
             "colorbar": {
              "outlinewidth": 0,
              "ticks": ""
             }
            },
            "type": "scatter"
           }
          ],
          "scatter3d": [
           {
            "line": {
             "colorbar": {
              "outlinewidth": 0,
              "ticks": ""
             }
            },
            "marker": {
             "colorbar": {
              "outlinewidth": 0,
              "ticks": ""
             }
            },
            "type": "scatter3d"
           }
          ],
          "scattercarpet": [
           {
            "marker": {
             "colorbar": {
              "outlinewidth": 0,
              "ticks": ""
             }
            },
            "type": "scattercarpet"
           }
          ],
          "scattergeo": [
           {
            "marker": {
             "colorbar": {
              "outlinewidth": 0,
              "ticks": ""
             }
            },
            "type": "scattergeo"
           }
          ],
          "scattergl": [
           {
            "marker": {
             "colorbar": {
              "outlinewidth": 0,
              "ticks": ""
             }
            },
            "type": "scattergl"
           }
          ],
          "scattermapbox": [
           {
            "marker": {
             "colorbar": {
              "outlinewidth": 0,
              "ticks": ""
             }
            },
            "type": "scattermapbox"
           }
          ],
          "scatterpolar": [
           {
            "marker": {
             "colorbar": {
              "outlinewidth": 0,
              "ticks": ""
             }
            },
            "type": "scatterpolar"
           }
          ],
          "scatterpolargl": [
           {
            "marker": {
             "colorbar": {
              "outlinewidth": 0,
              "ticks": ""
             }
            },
            "type": "scatterpolargl"
           }
          ],
          "scatterternary": [
           {
            "marker": {
             "colorbar": {
              "outlinewidth": 0,
              "ticks": ""
             }
            },
            "type": "scatterternary"
           }
          ],
          "surface": [
           {
            "colorbar": {
             "outlinewidth": 0,
             "ticks": ""
            },
            "colorscale": [
             [
              0,
              "#0d0887"
             ],
             [
              0.1111111111111111,
              "#46039f"
             ],
             [
              0.2222222222222222,
              "#7201a8"
             ],
             [
              0.3333333333333333,
              "#9c179e"
             ],
             [
              0.4444444444444444,
              "#bd3786"
             ],
             [
              0.5555555555555556,
              "#d8576b"
             ],
             [
              0.6666666666666666,
              "#ed7953"
             ],
             [
              0.7777777777777778,
              "#fb9f3a"
             ],
             [
              0.8888888888888888,
              "#fdca26"
             ],
             [
              1,
              "#f0f921"
             ]
            ],
            "type": "surface"
           }
          ],
          "table": [
           {
            "cells": {
             "fill": {
              "color": "#EBF0F8"
             },
             "line": {
              "color": "white"
             }
            },
            "header": {
             "fill": {
              "color": "#C8D4E3"
             },
             "line": {
              "color": "white"
             }
            },
            "type": "table"
           }
          ]
         },
         "layout": {
          "annotationdefaults": {
           "arrowcolor": "#2a3f5f",
           "arrowhead": 0,
           "arrowwidth": 1
          },
          "autotypenumbers": "strict",
          "coloraxis": {
           "colorbar": {
            "outlinewidth": 0,
            "ticks": ""
           }
          },
          "colorscale": {
           "diverging": [
            [
             0,
             "#8e0152"
            ],
            [
             0.1,
             "#c51b7d"
            ],
            [
             0.2,
             "#de77ae"
            ],
            [
             0.3,
             "#f1b6da"
            ],
            [
             0.4,
             "#fde0ef"
            ],
            [
             0.5,
             "#f7f7f7"
            ],
            [
             0.6,
             "#e6f5d0"
            ],
            [
             0.7,
             "#b8e186"
            ],
            [
             0.8,
             "#7fbc41"
            ],
            [
             0.9,
             "#4d9221"
            ],
            [
             1,
             "#276419"
            ]
           ],
           "sequential": [
            [
             0,
             "#0d0887"
            ],
            [
             0.1111111111111111,
             "#46039f"
            ],
            [
             0.2222222222222222,
             "#7201a8"
            ],
            [
             0.3333333333333333,
             "#9c179e"
            ],
            [
             0.4444444444444444,
             "#bd3786"
            ],
            [
             0.5555555555555556,
             "#d8576b"
            ],
            [
             0.6666666666666666,
             "#ed7953"
            ],
            [
             0.7777777777777778,
             "#fb9f3a"
            ],
            [
             0.8888888888888888,
             "#fdca26"
            ],
            [
             1,
             "#f0f921"
            ]
           ],
           "sequentialminus": [
            [
             0,
             "#0d0887"
            ],
            [
             0.1111111111111111,
             "#46039f"
            ],
            [
             0.2222222222222222,
             "#7201a8"
            ],
            [
             0.3333333333333333,
             "#9c179e"
            ],
            [
             0.4444444444444444,
             "#bd3786"
            ],
            [
             0.5555555555555556,
             "#d8576b"
            ],
            [
             0.6666666666666666,
             "#ed7953"
            ],
            [
             0.7777777777777778,
             "#fb9f3a"
            ],
            [
             0.8888888888888888,
             "#fdca26"
            ],
            [
             1,
             "#f0f921"
            ]
           ]
          },
          "colorway": [
           "#636efa",
           "#EF553B",
           "#00cc96",
           "#ab63fa",
           "#FFA15A",
           "#19d3f3",
           "#FF6692",
           "#B6E880",
           "#FF97FF",
           "#FECB52"
          ],
          "font": {
           "color": "#2a3f5f"
          },
          "geo": {
           "bgcolor": "white",
           "lakecolor": "white",
           "landcolor": "#E5ECF6",
           "showlakes": true,
           "showland": true,
           "subunitcolor": "white"
          },
          "hoverlabel": {
           "align": "left"
          },
          "hovermode": "closest",
          "mapbox": {
           "style": "light"
          },
          "paper_bgcolor": "white",
          "plot_bgcolor": "#E5ECF6",
          "polar": {
           "angularaxis": {
            "gridcolor": "white",
            "linecolor": "white",
            "ticks": ""
           },
           "bgcolor": "#E5ECF6",
           "radialaxis": {
            "gridcolor": "white",
            "linecolor": "white",
            "ticks": ""
           }
          },
          "scene": {
           "xaxis": {
            "backgroundcolor": "#E5ECF6",
            "gridcolor": "white",
            "gridwidth": 2,
            "linecolor": "white",
            "showbackground": true,
            "ticks": "",
            "zerolinecolor": "white"
           },
           "yaxis": {
            "backgroundcolor": "#E5ECF6",
            "gridcolor": "white",
            "gridwidth": 2,
            "linecolor": "white",
            "showbackground": true,
            "ticks": "",
            "zerolinecolor": "white"
           },
           "zaxis": {
            "backgroundcolor": "#E5ECF6",
            "gridcolor": "white",
            "gridwidth": 2,
            "linecolor": "white",
            "showbackground": true,
            "ticks": "",
            "zerolinecolor": "white"
           }
          },
          "shapedefaults": {
           "line": {
            "color": "#2a3f5f"
           }
          },
          "ternary": {
           "aaxis": {
            "gridcolor": "white",
            "linecolor": "white",
            "ticks": ""
           },
           "baxis": {
            "gridcolor": "white",
            "linecolor": "white",
            "ticks": ""
           },
           "bgcolor": "#E5ECF6",
           "caxis": {
            "gridcolor": "white",
            "linecolor": "white",
            "ticks": ""
           }
          },
          "title": {
           "x": 0.05
          },
          "xaxis": {
           "automargin": true,
           "gridcolor": "white",
           "linecolor": "white",
           "ticks": "",
           "title": {
            "standoff": 15
           },
           "zerolinecolor": "white",
           "zerolinewidth": 2
          },
          "yaxis": {
           "automargin": true,
           "gridcolor": "white",
           "linecolor": "white",
           "ticks": "",
           "title": {
            "standoff": 15
           },
           "zerolinecolor": "white",
           "zerolinewidth": 2
          }
         }
        },
        "title": {
         "text": "Parallel Coordinate Plot"
        }
       }
      },
      "image/png": "[encoded data removed]",
      "text/html": [
       "<div>                            <div id=\"1e405987-26e7-4954-ad9d-3f9986823e8f\" class=\"plotly-graph-div\" style=\"height:525px; width:100%;\"></div>            <script type=\"text/javascript\">                require([\"plotly\"], function(Plotly) {                    window.PLOTLYENV=window.PLOTLYENV || {};                                    if (document.getElementById(\"1e405987-26e7-4954-ad9d-3f9986823e8f\")) {                    Plotly.newPlot(                        \"1e405987-26e7-4954-ad9d-3f9986823e8f\",                        [{\"dimensions\": [{\"label\": \"Objective Value\", \"range\": [0.679172059438043, 0.6840822337521837], \"values\": [0.6795171409988608, 0.6815436772364654, 0.6812868627466429, 0.681726085065035, 0.6802271413311143, 0.6796899788982174, 0.6804924581517803, 0.6831650822683081, 0.6794612194085334, 0.6820480260216849, 0.6809579535096069, 0.6813586580587879, 0.6811011427156431, 0.6814566903535069, 0.681041080967928, 0.680939395077547, 0.6816193662030721, 0.6817668478391626, 0.6829740614677722, 0.679172059438043, 0.682840210932054, 0.6823773875159261, 0.6811697671953343, 0.680629987702866, 0.6831573443910159, 0.6804331344128877, 0.681954292189617, 0.6817140750272337, 0.6812156076727024, 0.6807765992945413, 0.6827881120605914, 0.6827999656510977, 0.6812895440238043, 0.6813397620606271, 0.681790172420382, 0.6817273486253861, 0.6810564365544683, 0.6814440189029929, 0.6829144064290584, 0.6812424825752212, 0.6816462797862528, 0.6826682340925552, 0.6804830088655445, 0.6834478903975973, 0.6798202057267563, 0.6817100375093681, 0.6816171031133575, 0.6829357263918603, 0.6814290376119925, 0.6833184661536423, 0.6833371196999376, 0.6835975872673439, 0.6835543190005078, 0.6832702583623307, 0.6832156232940516, 0.6836346936296296, 0.6833441923542464, 0.6833916213814415, 0.6832084656518499, 0.6832270241338607, 0.6830778845123021, 0.683463248818257, 0.6835131400821728, 0.6835948248618917, 0.6834581819997674, 0.683383443372762, 0.6831281831777367, 0.6833520448481056, 0.6834610341351509, 0.6830972241927722, 0.6830552001922741, 0.6835093939908103, 0.6834540863405139, 0.6838033644587422, 0.683662623962015, 0.6835055307821872, 0.6832041034783943, 0.6833306899726876, 0.683501447482895, 0.6832647343597856, 0.6830589461169236, 0.6835051706125604, 0.6835699543451866, 0.6833430531786336, 0.6829624345860401, 0.6835262834610951, 0.6834349017000184, 0.6833674924733526, 0.6836249733531489, 0.6834915185006346, 0.6832135783685283, 0.6835024007729178, 0.6834962048300014, 0.6830698488502103, 0.6826587654696213, 0.6831196448831287, 0.6833189861300278, 0.6836720902761735, 0.6836074119172872, 0.6834351704725847, 0.683178624947707, 0.6835907542559866, 0.6837390234744987, 0.6835128752098946, 0.6836802603505235, 0.683665817539042, 0.6836371090589807, 0.6831719406412339, 0.6831589985086954, 0.6837013013383402, 0.6834330360594594, 0.6836633110460562, 0.6836033297849855, 0.6833375049229129, 0.6837786130346475, 0.6830546787154725, 0.6837355868199, 0.6835719172332385, 0.6831240668403559, 0.6834579483569413, 0.6823883416159962, 0.6839044562531953, 0.6833184757298951, 0.6834704317309311, 0.6830705144477651, 0.6835935867135203, 0.6834911710496003, 0.683449727759126, 0.6822980898206367, 0.6832770297972196, 0.6835681703083114, 0.6837741799755458, 0.6835403802715477, 0.6836360044218728, 0.6836482541530365, 0.6837936582093519, 0.6837458883317487, 0.6835665697067436, 0.6836334872108492, 0.6832729724604569, 0.6835257254956447, 0.6836674283837144, 0.6835021689387282, 0.683561893953907, 0.68305776494341, 0.6835929915925696, 0.683339495089718, 0.6835106378733118, 0.6837226544303271, 0.6834849087222864, 0.6834660584808067, 0.6836539122832856, 0.6835559205771478, 0.6830544717771836, 0.6831547836816754, 0.683518792586868, 0.6835674975595811, 0.6835459091828443, 0.6835948159272851, 0.6840361008232898, 0.6839004410054298, 0.6837264472786483, 0.6835140689100825, 0.6836890400555742, 0.6834400145834099, 0.6835700266808382, 0.6833897306371227, 0.6837192544562957, 0.6837082456572118, 0.6837544246762128, 0.6836328607189387, 0.6835709989566537, 0.6836582995857061, 0.6837399604034504, 0.6835712553944642, 0.683608048010656, 0.6836702111086626, 0.6837653414617954, 0.6835354347206621, 0.683527582868449, 0.6835341934551563, 0.6839503796679505, 0.6840822337521837, 0.6834908350086609, 0.6835640954182818, 0.6823342116886529]}, {\"label\": \"lgbm_weight\", \"range\": [0.01507657621646323, 0.9709655989663392], \"values\": [0.821080556509667, 0.3454905730367114, 0.509723166053726, 0.7713850489916915, 0.6012094452455528, 0.7193038590661257, 0.35729948560238545, 0.27651526693296247, 0.9290835046233267, 0.22689353360103182, 0.7014672124802722, 0.5796193428735471, 0.37295351524371423, 0.4599322759130863, 0.5519862430065012, 0.17037466218522246, 0.9506054180924883, 0.20644468069754118, 0.20611768432772604, 0.48357129484695927, 0.4552372874482856, 0.7116920849785019, 0.7107884052152357, 0.9196723797347185, 0.40943179208004576, 0.03215678570927394, 0.6604811607995114, 0.8744161481901698, 0.6130542958450944, 0.5484854951039901, 0.5302007462393082, 0.11475278270901046, 0.9709655989663392, 0.8353152090040233, 0.5512368025002439, 0.20017880408039124, 0.4230929106054767, 0.8879774514204635, 0.04858076363354091, 0.6742443884559798, 0.3783284671585866, 0.08224028915270643, 0.6923796890730859, 0.21658271007778973, 0.6883030079334322, 0.42871336748902344, 0.053538378664726105, 0.10619786720535784, 0.7339725727117505, 0.2032802745806207, 0.28023220976510477, 0.3045472361234749, 0.28817027963733827, 0.2915325273375759, 0.2985218456784482, 0.2963574199406144, 0.26396719513278183, 0.32966635506902503, 0.25684413869159317, 0.33097024199972913, 0.16145087687497844, 0.25516667726129116, 0.32485734450048165, 0.33575820217414054, 0.23801174747728937, 0.36787228974521174, 0.15143832348635008, 0.23956758883801643, 0.31514431378144003, 0.31849780769573627, 0.40387326382044625, 0.34892289174340296, 0.3481617298943173, 0.30509966766101876, 0.4875488199263225, 0.4651472415265354, 0.39440298472302626, 0.3422997153668942, 0.5054401519038132, 0.44269831631325857, 0.3686883155149026, 0.486990442960012, 0.47015615158439444, 0.3875529197600147, 0.6118217027467203, 0.29984995850555085, 0.29850281150543106, 0.18004729460982832, 0.2843516187898789, 0.2815774963722309, 0.2342504935719923, 0.3149492733299064, 0.2615760079093188, 0.5826845199249511, 0.532089632043932, 0.41572750240713136, 0.3048480784570418, 0.27624242094725193, 0.18672636339273085, 0.12948638785688282, 0.18513757534020375, 0.2154334777163226, 0.20542886198838103, 0.22086036688988359, 0.20238680532258535, 0.1899396652771169, 0.13485085401449787, 0.13639047629954892, 0.087827780329711, 0.18625935666385732, 0.15229797388078253, 0.19178275651898588, 0.18667323677427167, 0.10714432976291105, 0.19180945392308504, 0.1653355413677795, 0.24158377845839896, 0.2021902436478298, 0.13434924460665992, 0.24240977402439773, 0.01507657621646323, 0.2702768861019541, 0.2646374753662415, 0.23034905522417548, 0.08259685109214514, 0.17125904410151144, 0.2049099957987789, 0.1497952848159531, 0.6426627056588659, 0.25179427203619714, 0.21544972253007336, 0.2773728076565041, 0.11890215847833314, 0.2694754518712897, 0.2700107822295966, 0.1925650796227721, 0.2262512432073311, 0.19393475757588308, 0.23676401396734803, 0.16833191805726083, 0.20993678918453001, 0.24794988526682543, 0.22554344731691162, 0.25547844773455514, 0.18758799127187034, 0.24583323733510784, 0.2227013441294196, 0.16297057090135186, 0.19736676151342125, 0.1914142999693418, 0.20267564097208968, 0.27674133743326285, 0.2367802067792329, 0.18061784272000103, 0.14698494652459687, 0.2232740455906429, 0.2451157678007592, 0.2059790538102994, 0.28145317811067166, 0.25775104644415076, 0.25103783404752095, 0.25172839367176136, 0.262055224694578, 0.22407239615059746, 0.2917243978120151, 0.24198890827255012, 0.3141372770583485, 0.22280030750631383, 0.22249740563202489, 0.22076280128710862, 0.22421733862047577, 0.21316868184759316, 0.1696793956562082, 0.22521142420945586, 0.259662582024934, 0.22828395077585217, 0.2193487742513647, 0.2570073825413419, 0.27400827477021106, 0.2570828457467351, 0.29706534040357513, 0.238635195355417, 0.24218477351422812, 0.23998259003957378, 0.28169641948101043, 0.25334155868846603]}, {\"label\": \"lr_weight\", \"range\": [0.0007466784098714152, 0.9999401456358037], \"values\": [0.03198265005260237, 0.3650493638373742, 0.4821691872235325, 0.8275026398770677, 0.13042711871865798, 0.06595284622040731, 0.18267291061231794, 0.6920243372629767, 0.035383526595514136, 0.6230004590329014, 0.36708672106848417, 0.5588522108570644, 0.428250306841616, 0.5319884234528243, 0.4014363896832758, 0.11471569252279656, 0.6533200667393062, 0.4392358293130525, 0.7342952336902902, 0.0007466784098714152, 0.6620812163376806, 0.8238464254522808, 0.5751084986209619, 0.16130011569937408, 0.8527518563503407, 0.5714795823400846, 0.7141324382944423, 0.9280887436380285, 0.5272135783334633, 0.4436236065210689, 0.9376029180231358, 0.8481966560079214, 0.6956778440088848, 0.7191507234005818, 0.5759052701468785, 0.34708164394557073, 0.3350135703461936, 0.4897364620369793, 0.8031732733629426, 0.5714845021606806, 0.6748948650288449, 0.5022062388416784, 0.2640489853842002, 0.9683771201533662, 0.029843314694301126, 0.5693299720808062, 0.6162982531918846, 0.5448412692868801, 0.5684846242268716, 0.9586590020325156, 0.9857916503770081, 0.9915811579428218, 0.9770546881625224, 0.9999401456358037, 0.9969816228496954, 0.9974972579869421, 0.9415852673018967, 0.8991345227083305, 0.8920924481472617, 0.7711570580117959, 0.8938836047240912, 0.9655250025270006, 0.8868472793530341, 0.8763526721908564, 0.9711926366450273, 0.915991607424625, 0.8675866441168568, 0.9988561870104323, 0.8060279955046364, 0.7770036292451385, 0.8213551170439378, 0.9557583727880802, 0.8670312226740036, 0.9493497052187186, 0.9485174158069577, 0.9227224097399959, 0.9353872762723034, 0.8874674394784783, 0.9996680094383704, 0.9548660004277052, 0.8588171022717891, 0.9152259476541275, 0.9197247801276383, 0.9459198223935119, 0.8405026252893815, 0.978525297717291, 0.9778375707855327, 0.8812454294775345, 0.9114955779255312, 0.9172124335431574, 0.9843684088611797, 0.9125921188235706, 0.9996374290038446, 0.9387598733715438, 0.7688428586914593, 0.8779216593979435, 0.8426082647636818, 0.9035316703896694, 0.9681866538058451, 0.9049703455292828, 0.9426548948145489, 0.9679482112095623, 0.9637485764510659, 0.9576644930026611, 0.929751672716425, 0.9823868978623063, 0.9352030367788564, 0.9980485124375855, 0.9382056232170668, 0.986509957511063, 0.9282016143939963, 0.9870002206846649, 0.9607711219066546, 0.9805824257958371, 0.9018132741508494, 0.9007243956763206, 0.899432504467119, 0.8257058501244638, 0.853322902598536, 0.9427298218694696, 0.9952389503605054, 0.9023759880514501, 0.8931908685449488, 0.95095047240379, 0.9266036168081114, 0.9012736404229247, 0.7936524227682448, 0.8706396630325608, 0.9304471102310609, 0.9970983035565447, 0.9769082924300634, 0.9022307349453405, 0.8591448259932444, 0.9594511856665504, 0.9513659434464031, 0.9071930833071382, 0.835754953640468, 0.8302854854687798, 0.8846386863702331, 0.907413246821283, 0.8590426126021811, 0.8902390386289061, 0.8813600109671975, 0.9116056252685532, 0.840376782397469, 0.9234275243999422, 0.8103139628639324, 0.8925296648905344, 0.8615374713452545, 0.8665627745384451, 0.8448108853729145, 0.8937069422871793, 0.923029349644759, 0.8770456157190489, 0.9476642508804977, 0.9037391912376651, 0.9607046659093699, 0.9787553372225448, 0.9271481645781937, 0.8710807338684691, 0.749467980648189, 0.8181773552970605, 0.7894690380269094, 0.8170011770859836, 0.7306420795945744, 0.7604425850880774, 0.8155484094511636, 0.8309583423496774, 0.827556140278603, 0.783752047460406, 0.7671610039903306, 0.7863941876169694, 0.7467059273152906, 0.8060957965526352, 0.8156244217715773, 0.8227902412905188, 0.8334167323327542, 0.8001449753946068, 0.8000827065782793, 0.7555931640009989, 0.848583690863219, 0.798008050845772, 0.7886277759590068, 0.7133497924423813, 0.7842501473347293, 0.8001681429387933]}, {\"label\": \"rf_weight\", \"range\": [0.0032056717493500336, 0.9821417445201837], \"values\": [0.8316165993100444, 0.5104183981442681, 0.8848351257344365, 0.40801096058960185, 0.6914866109020719, 0.5248470636274639, 0.8560048822770606, 0.35367068980746275, 0.9414525012571014, 0.7254338237668064, 0.42354759251084995, 0.05776431795992276, 0.9631937728860965, 0.7136329967172793, 0.18901592650503907, 0.4139014612496207, 0.6573166350037893, 0.607015732324477, 0.5276513179367123, 0.07668603218684245, 0.19832370558321966, 0.6853081781718638, 0.3233759543585204, 0.013540068368738667, 0.2598972939255365, 0.9485224295551107, 0.6386082969589504, 0.8771221442070825, 0.3687909995185109, 0.08761160014938707, 0.8053020517637692, 0.608575022868414, 0.6348702079983959, 0.16746814216056327, 0.241509177251382, 0.403280967381465, 0.18409770930587555, 0.19136810937230941, 0.11855181419314154, 0.5021419418187191, 0.915574529998453, 0.21877958513251916, 0.9821417445201837, 0.3790087826462727, 0.25290332371597724, 0.9740627016460659, 0.6993850237124007, 0.3622859892478195, 0.5357475835683693, 0.03655478261687761, 0.456465905791234, 0.28993707677057434, 0.2826839801218755, 0.46273688058393, 0.4634180808420619, 0.2842581969494091, 0.29739858159252486, 0.3021895094544389, 0.3092154077540527, 0.2890410164210345, 0.3311150172075938, 0.28388356142770826, 0.28366240346045174, 0.2738108120445236, 0.14268846519561446, 0.13387745231617149, 0.23067214741754796, 0.1440034828334218, 0.26579519674053775, 0.3423100211185105, 0.21475809692454367, 0.2773980195033, 0.27212719557795384, 0.2705920768338495, 0.3299047243536648, 0.3974015269276121, 0.32331769695467116, 0.23674061830562784, 0.43309455785441964, 0.1721571432722144, 0.35128096709602785, 0.3909931605002378, 0.32022419495848875, 0.20648174647641254, 0.2630881525941217, 0.31439846666396903, 0.3228725985747025, 0.37081188885289096, 0.2473975479590647, 0.23503062341925715, 0.3448584429465696, 0.30729903478547527, 0.2522587754088183, 0.29825075769212334, 0.43029008419680825, 0.19512461554440474, 0.3173163854404148, 0.16761146741023084, 0.08183856737504358, 0.08780043866655768, 0.0032056717493500336, 0.16242021623433694, 0.10556873149827864, 0.06062655786609979, 0.10298372617447368, 0.10600417846576646, 0.07525471702897185, 0.10787597941563536, 0.039551843386613085, 0.10506097628671325, 0.11104256021594057, 0.07799308428089557, 0.06916638486554372, 0.032055666146253846, 0.10215133778745748, 0.12832322367009247, 0.15717952727049164, 0.09349095769561436, 0.16265313658281524, 0.04679935250899995, 0.10967267898271982, 0.13375011031617715, 0.014840787369986619, 0.1488928071421877, 0.12715663118213286, 0.09850150508113087, 0.17528705355586444, 0.06680901305714228, 0.14699070354805402, 0.020378928498021046, 0.12172673222296632, 0.07863472551251534, 0.0782556156644674, 0.05464384999128256, 0.051502395556137406, 0.09357474952446306, 0.09897629314771003, 0.09779900647271043, 0.14813282878277573, 0.12331292540839395, 0.17289484636862507, 0.04938961648158885, 0.09957950621964803, 0.19047586348207485, 0.030054293173314504, 0.13302786548787232, 0.005349533237699669, 0.08259290849336887, 0.1578198581457026, 0.10830224354618143, 0.15431299238875656, 0.21248164485016358, 0.060656808795778006, 0.556574057553231, 0.13313487359880197, 0.08767606909458651, 0.11785923689968447, 0.1798024183452123, 0.04800715567062115, 0.0919608529665836, 0.06841991759739262, 0.07119588744671314, 0.09825862050961717, 0.06773845574756235, 0.06500451462295306, 0.03737548028514037, 0.0768092872216597, 0.1453069012333968, 0.14823376892117257, 0.1427725569873444, 0.1402843703324409, 0.11485443656003932, 0.15611849413965181, 0.12038485170540232, 0.12947099425827358, 0.19620668214186776, 0.15250193244844942, 0.08991434494885804, 0.12746534832195094, 0.0920778897415337, 0.11631834391889985, 0.06701582286298446, 0.0806654784002276, 0.08764024889479992, 0.018852227260612447, 0.7544832462008779]}], \"labelangle\": 30, \"labelside\": \"bottom\", \"line\": {\"color\": [0.6795171409988608, 0.6815436772364654, 0.6812868627466429, 0.681726085065035, 0.6802271413311143, 0.6796899788982174, 0.6804924581517803, 0.6831650822683081, 0.6794612194085334, 0.6820480260216849, 0.6809579535096069, 0.6813586580587879, 0.6811011427156431, 0.6814566903535069, 0.681041080967928, 0.680939395077547, 0.6816193662030721, 0.6817668478391626, 0.6829740614677722, 0.679172059438043, 0.682840210932054, 0.6823773875159261, 0.6811697671953343, 0.680629987702866, 0.6831573443910159, 0.6804331344128877, 0.681954292189617, 0.6817140750272337, 0.6812156076727024, 0.6807765992945413, 0.6827881120605914, 0.6827999656510977, 0.6812895440238043, 0.6813397620606271, 0.681790172420382, 0.6817273486253861, 0.6810564365544683, 0.6814440189029929, 0.6829144064290584, 0.6812424825752212, 0.6816462797862528, 0.6826682340925552, 0.6804830088655445, 0.6834478903975973, 0.6798202057267563, 0.6817100375093681, 0.6816171031133575, 0.6829357263918603, 0.6814290376119925, 0.6833184661536423, 0.6833371196999376, 0.6835975872673439, 0.6835543190005078, 0.6832702583623307, 0.6832156232940516, 0.6836346936296296, 0.6833441923542464, 0.6833916213814415, 0.6832084656518499, 0.6832270241338607, 0.6830778845123021, 0.683463248818257, 0.6835131400821728, 0.6835948248618917, 0.6834581819997674, 0.683383443372762, 0.6831281831777367, 0.6833520448481056, 0.6834610341351509, 0.6830972241927722, 0.6830552001922741, 0.6835093939908103, 0.6834540863405139, 0.6838033644587422, 0.683662623962015, 0.6835055307821872, 0.6832041034783943, 0.6833306899726876, 0.683501447482895, 0.6832647343597856, 0.6830589461169236, 0.6835051706125604, 0.6835699543451866, 0.6833430531786336, 0.6829624345860401, 0.6835262834610951, 0.6834349017000184, 0.6833674924733526, 0.6836249733531489, 0.6834915185006346, 0.6832135783685283, 0.6835024007729178, 0.6834962048300014, 0.6830698488502103, 0.6826587654696213, 0.6831196448831287, 0.6833189861300278, 0.6836720902761735, 0.6836074119172872, 0.6834351704725847, 0.683178624947707, 0.6835907542559866, 0.6837390234744987, 0.6835128752098946, 0.6836802603505235, 0.683665817539042, 0.6836371090589807, 0.6831719406412339, 0.6831589985086954, 0.6837013013383402, 0.6834330360594594, 0.6836633110460562, 0.6836033297849855, 0.6833375049229129, 0.6837786130346475, 0.6830546787154725, 0.6837355868199, 0.6835719172332385, 0.6831240668403559, 0.6834579483569413, 0.6823883416159962, 0.6839044562531953, 0.6833184757298951, 0.6834704317309311, 0.6830705144477651, 0.6835935867135203, 0.6834911710496003, 0.683449727759126, 0.6822980898206367, 0.6832770297972196, 0.6835681703083114, 0.6837741799755458, 0.6835403802715477, 0.6836360044218728, 0.6836482541530365, 0.6837936582093519, 0.6837458883317487, 0.6835665697067436, 0.6836334872108492, 0.6832729724604569, 0.6835257254956447, 0.6836674283837144, 0.6835021689387282, 0.683561893953907, 0.68305776494341, 0.6835929915925696, 0.683339495089718, 0.6835106378733118, 0.6837226544303271, 0.6834849087222864, 0.6834660584808067, 0.6836539122832856, 0.6835559205771478, 0.6830544717771836, 0.6831547836816754, 0.683518792586868, 0.6835674975595811, 0.6835459091828443, 0.6835948159272851, 0.6840361008232898, 0.6839004410054298, 0.6837264472786483, 0.6835140689100825, 0.6836890400555742, 0.6834400145834099, 0.6835700266808382, 0.6833897306371227, 0.6837192544562957, 0.6837082456572118, 0.6837544246762128, 0.6836328607189387, 0.6835709989566537, 0.6836582995857061, 0.6837399604034504, 0.6835712553944642, 0.683608048010656, 0.6836702111086626, 0.6837653414617954, 0.6835354347206621, 0.683527582868449, 0.6835341934551563, 0.6839503796679505, 0.6840822337521837, 0.6834908350086609, 0.6835640954182818, 0.6823342116886529], \"colorbar\": {\"title\": {\"text\": \"Objective Value\"}}, \"colorscale\": [[0.0, \"rgb(247,251,255)\"], [0.125, \"rgb(222,235,247)\"], [0.25, \"rgb(198,219,239)\"], [0.375, \"rgb(158,202,225)\"], [0.5, \"rgb(107,174,214)\"], [0.625, \"rgb(66,146,198)\"], [0.75, \"rgb(33,113,181)\"], [0.875, \"rgb(8,81,156)\"], [1.0, \"rgb(8,48,107)\"]], \"reversescale\": false, \"showscale\": true}, \"type\": \"parcoords\"}],                        {\"template\": {\"data\": {\"bar\": [{\"error_x\": {\"color\": \"#2a3f5f\"}, \"error_y\": {\"color\": \"#2a3f5f\"}, \"marker\": {\"line\": {\"color\": \"#E5ECF6\", \"width\": 0.5}}, \"type\": \"bar\"}], \"barpolar\": [{\"marker\": {\"line\": {\"color\": \"#E5ECF6\", \"width\": 0.5}}, \"type\": \"barpolar\"}], \"carpet\": [{\"aaxis\": {\"endlinecolor\": \"#2a3f5f\", \"gridcolor\": \"white\", \"linecolor\": \"white\", \"minorgridcolor\": \"white\", \"startlinecolor\": \"#2a3f5f\"}, \"baxis\": {\"endlinecolor\": \"#2a3f5f\", \"gridcolor\": \"white\", \"linecolor\": \"white\", \"minorgridcolor\": \"white\", \"startlinecolor\": \"#2a3f5f\"}, \"type\": \"carpet\"}], \"choropleth\": [{\"colorbar\": {\"outlinewidth\": 0, \"ticks\": \"\"}, \"type\": \"choropleth\"}], \"contour\": [{\"colorbar\": {\"outlinewidth\": 0, \"ticks\": \"\"}, \"colorscale\": [[0.0, \"#0d0887\"], [0.1111111111111111, \"#46039f\"], [0.2222222222222222, \"#7201a8\"], [0.3333333333333333, \"#9c179e\"], [0.4444444444444444, \"#bd3786\"], [0.5555555555555556, \"#d8576b\"], [0.6666666666666666, \"#ed7953\"], [0.7777777777777778, \"#fb9f3a\"], [0.8888888888888888, \"#fdca26\"], [1.0, \"#f0f921\"]], \"type\": \"contour\"}], \"contourcarpet\": [{\"colorbar\": {\"outlinewidth\": 0, \"ticks\": \"\"}, \"type\": \"contourcarpet\"}], \"heatmap\": [{\"colorbar\": {\"outlinewidth\": 0, \"ticks\": \"\"}, \"colorscale\": [[0.0, \"#0d0887\"], [0.1111111111111111, \"#46039f\"], [0.2222222222222222, \"#7201a8\"], [0.3333333333333333, \"#9c179e\"], [0.4444444444444444, \"#bd3786\"], [0.5555555555555556, \"#d8576b\"], [0.6666666666666666, \"#ed7953\"], [0.7777777777777778, \"#fb9f3a\"], [0.8888888888888888, \"#fdca26\"], [1.0, \"#f0f921\"]], \"type\": \"heatmap\"}], \"heatmapgl\": [{\"colorbar\": {\"outlinewidth\": 0, \"ticks\": \"\"}, \"colorscale\": [[0.0, \"#0d0887\"], [0.1111111111111111, \"#46039f\"], [0.2222222222222222, \"#7201a8\"], [0.3333333333333333, \"#9c179e\"], [0.4444444444444444, \"#bd3786\"], [0.5555555555555556, \"#d8576b\"], [0.6666666666666666, \"#ed7953\"], [0.7777777777777778, \"#fb9f3a\"], [0.8888888888888888, \"#fdca26\"], [1.0, \"#f0f921\"]], \"type\": \"heatmapgl\"}], \"histogram\": [{\"marker\": {\"colorbar\": {\"outlinewidth\": 0, \"ticks\": \"\"}}, \"type\": \"histogram\"}], \"histogram2d\": [{\"colorbar\": {\"outlinewidth\": 0, \"ticks\": \"\"}, \"colorscale\": [[0.0, \"#0d0887\"], [0.1111111111111111, \"#46039f\"], [0.2222222222222222, \"#7201a8\"], [0.3333333333333333, \"#9c179e\"], [0.4444444444444444, \"#bd3786\"], [0.5555555555555556, \"#d8576b\"], [0.6666666666666666, \"#ed7953\"], [0.7777777777777778, \"#fb9f3a\"], [0.8888888888888888, \"#fdca26\"], [1.0, \"#f0f921\"]], \"type\": \"histogram2d\"}], \"histogram2dcontour\": [{\"colorbar\": {\"outlinewidth\": 0, \"ticks\": \"\"}, \"colorscale\": [[0.0, \"#0d0887\"], [0.1111111111111111, \"#46039f\"], [0.2222222222222222, \"#7201a8\"], [0.3333333333333333, \"#9c179e\"], [0.4444444444444444, \"#bd3786\"], [0.5555555555555556, \"#d8576b\"], [0.6666666666666666, \"#ed7953\"], [0.7777777777777778, \"#fb9f3a\"], [0.8888888888888888, \"#fdca26\"], [1.0, \"#f0f921\"]], \"type\": \"histogram2dcontour\"}], \"mesh3d\": [{\"colorbar\": {\"outlinewidth\": 0, \"ticks\": \"\"}, \"type\": \"mesh3d\"}], \"parcoords\": [{\"line\": {\"colorbar\": {\"outlinewidth\": 0, \"ticks\": \"\"}}, \"type\": \"parcoords\"}], \"pie\": [{\"automargin\": true, \"type\": \"pie\"}], \"scatter\": [{\"marker\": {\"colorbar\": {\"outlinewidth\": 0, \"ticks\": \"\"}}, \"type\": \"scatter\"}], \"scatter3d\": [{\"line\": {\"colorbar\": {\"outlinewidth\": 0, \"ticks\": \"\"}}, \"marker\": {\"colorbar\": {\"outlinewidth\": 0, \"ticks\": \"\"}}, \"type\": \"scatter3d\"}], \"scattercarpet\": [{\"marker\": {\"colorbar\": {\"outlinewidth\": 0, \"ticks\": \"\"}}, \"type\": \"scattercarpet\"}], \"scattergeo\": [{\"marker\": {\"colorbar\": {\"outlinewidth\": 0, \"ticks\": \"\"}}, \"type\": \"scattergeo\"}], \"scattergl\": [{\"marker\": {\"colorbar\": {\"outlinewidth\": 0, \"ticks\": \"\"}}, \"type\": \"scattergl\"}], \"scattermapbox\": [{\"marker\": {\"colorbar\": {\"outlinewidth\": 0, \"ticks\": \"\"}}, \"type\": \"scattermapbox\"}], \"scatterpolar\": [{\"marker\": {\"colorbar\": {\"outlinewidth\": 0, \"ticks\": \"\"}}, \"type\": \"scatterpolar\"}], \"scatterpolargl\": [{\"marker\": {\"colorbar\": {\"outlinewidth\": 0, \"ticks\": \"\"}}, \"type\": \"scatterpolargl\"}], \"scatterternary\": [{\"marker\": {\"colorbar\": {\"outlinewidth\": 0, \"ticks\": \"\"}}, \"type\": \"scatterternary\"}], \"surface\": [{\"colorbar\": {\"outlinewidth\": 0, \"ticks\": \"\"}, \"colorscale\": [[0.0, \"#0d0887\"], [0.1111111111111111, \"#46039f\"], [0.2222222222222222, \"#7201a8\"], [0.3333333333333333, \"#9c179e\"], [0.4444444444444444, \"#bd3786\"], [0.5555555555555556, \"#d8576b\"], [0.6666666666666666, \"#ed7953\"], [0.7777777777777778, \"#fb9f3a\"], [0.8888888888888888, \"#fdca26\"], [1.0, \"#f0f921\"]], \"type\": \"surface\"}], \"table\": [{\"cells\": {\"fill\": {\"color\": \"#EBF0F8\"}, \"line\": {\"color\": \"white\"}}, \"header\": {\"fill\": {\"color\": \"#C8D4E3\"}, \"line\": {\"color\": \"white\"}}, \"type\": \"table\"}]}, \"layout\": {\"annotationdefaults\": {\"arrowcolor\": \"#2a3f5f\", \"arrowhead\": 0, \"arrowwidth\": 1}, \"autotypenumbers\": \"strict\", \"coloraxis\": {\"colorbar\": {\"outlinewidth\": 0, \"ticks\": \"\"}}, \"colorscale\": {\"diverging\": [[0, \"#8e0152\"], [0.1, \"#c51b7d\"], [0.2, \"#de77ae\"], [0.3, \"#f1b6da\"], [0.4, \"#fde0ef\"], [0.5, \"#f7f7f7\"], [0.6, \"#e6f5d0\"], [0.7, \"#b8e186\"], [0.8, \"#7fbc41\"], [0.9, \"#4d9221\"], [1, \"#276419\"]], \"sequential\": [[0.0, \"#0d0887\"], [0.1111111111111111, \"#46039f\"], [0.2222222222222222, \"#7201a8\"], [0.3333333333333333, \"#9c179e\"], [0.4444444444444444, \"#bd3786\"], [0.5555555555555556, \"#d8576b\"], [0.6666666666666666, \"#ed7953\"], [0.7777777777777778, \"#fb9f3a\"], [0.8888888888888888, \"#fdca26\"], [1.0, \"#f0f921\"]], \"sequentialminus\": [[0.0, \"#0d0887\"], [0.1111111111111111, \"#46039f\"], [0.2222222222222222, \"#7201a8\"], [0.3333333333333333, \"#9c179e\"], [0.4444444444444444, \"#bd3786\"], [0.5555555555555556, \"#d8576b\"], [0.6666666666666666, \"#ed7953\"], [0.7777777777777778, \"#fb9f3a\"], [0.8888888888888888, \"#fdca26\"], [1.0, \"#f0f921\"]]}, \"colorway\": [\"#636efa\", \"#EF553B\", \"#00cc96\", \"#ab63fa\", \"#FFA15A\", \"#19d3f3\", \"#FF6692\", \"#B6E880\", \"#FF97FF\", \"#FECB52\"], \"font\": {\"color\": \"#2a3f5f\"}, \"geo\": {\"bgcolor\": \"white\", \"lakecolor\": \"white\", \"landcolor\": \"#E5ECF6\", \"showlakes\": true, \"showland\": true, \"subunitcolor\": \"white\"}, \"hoverlabel\": {\"align\": \"left\"}, \"hovermode\": \"closest\", \"mapbox\": {\"style\": \"light\"}, \"paper_bgcolor\": \"white\", \"plot_bgcolor\": \"#E5ECF6\", \"polar\": {\"angularaxis\": {\"gridcolor\": \"white\", \"linecolor\": \"white\", \"ticks\": \"\"}, \"bgcolor\": \"#E5ECF6\", \"radialaxis\": {\"gridcolor\": \"white\", \"linecolor\": \"white\", \"ticks\": \"\"}}, \"scene\": {\"xaxis\": {\"backgroundcolor\": \"#E5ECF6\", \"gridcolor\": \"white\", \"gridwidth\": 2, \"linecolor\": \"white\", \"showbackground\": true, \"ticks\": \"\", \"zerolinecolor\": \"white\"}, \"yaxis\": {\"backgroundcolor\": \"#E5ECF6\", \"gridcolor\": \"white\", \"gridwidth\": 2, \"linecolor\": \"white\", \"showbackground\": true, \"ticks\": \"\", \"zerolinecolor\": \"white\"}, \"zaxis\": {\"backgroundcolor\": \"#E5ECF6\", \"gridcolor\": \"white\", \"gridwidth\": 2, \"linecolor\": \"white\", \"showbackground\": true, \"ticks\": \"\", \"zerolinecolor\": \"white\"}}, \"shapedefaults\": {\"line\": {\"color\": \"#2a3f5f\"}}, \"ternary\": {\"aaxis\": {\"gridcolor\": \"white\", \"linecolor\": \"white\", \"ticks\": \"\"}, \"baxis\": {\"gridcolor\": \"white\", \"linecolor\": \"white\", \"ticks\": \"\"}, \"bgcolor\": \"#E5ECF6\", \"caxis\": {\"gridcolor\": \"white\", \"linecolor\": \"white\", \"ticks\": \"\"}}, \"title\": {\"x\": 0.05}, \"xaxis\": {\"automargin\": true, \"gridcolor\": \"white\", \"linecolor\": \"white\", \"ticks\": \"\", \"title\": {\"standoff\": 15}, \"zerolinecolor\": \"white\", \"zerolinewidth\": 2}, \"yaxis\": {\"automargin\": true, \"gridcolor\": \"white\", \"linecolor\": \"white\", \"ticks\": \"\", \"title\": {\"standoff\": 15}, \"zerolinecolor\": \"white\", \"zerolinewidth\": 2}}}, \"title\": {\"text\": \"Parallel Coordinate Plot\"}},                        {\"responsive\": true}                    ).then(function(){\n",
       "                            \n",
       "var gd = document.getElementById('1e405987-26e7-4954-ad9d-3f9986823e8f');\n",
       "var x = new MutationObserver(function (mutations, observer) {{\n",
       "        var display = window.getComputedStyle(gd).display;\n",
       "        if (!display || display === 'none') {{\n",
       "            console.log([gd, 'removed!']);\n",
       "            Plotly.purge(gd);\n",
       "            observer.disconnect();\n",
       "        }}\n",
       "}});\n",
       "\n",
       "// Listen for the removal of the full notebook cells\n",
       "var notebookContainer = gd.closest('#notebook-container');\n",
       "if (notebookContainer) {{\n",
       "    x.observe(notebookContainer, {childList: true});\n",
       "}}\n",
       "\n",
       "// Listen for the clearing of the current output cell\n",
       "var outputEl = gd.closest('.output');\n",
       "if (outputEl) {{\n",
       "    x.observe(outputEl, {childList: true});\n",
       "}}\n",
       "\n",
       "                        })                };                });            </script>        </div>"
      ]
     },
     "metadata": {},
     "output_type": "display_data"
    }
   ],
   "source": [
    "# Space search visualisation\n",
    "optuna.visualization.plot_parallel_coordinate(study)"
   ]
  },
  {
   "cell_type": "markdown",
   "metadata": {},
   "source": [
    "## Meilleure solution"
   ]
  },
  {
   "cell_type": "code",
   "execution_count": 21,
   "metadata": {
    "ExecuteTime": {
     "end_time": "2021-06-15T18:46:47.469964Z",
     "start_time": "2021-06-15T18:46:47.437945Z"
    },
    "tags": []
   },
   "outputs": [
    {
     "name": "stdout",
     "output_type": "stream",
     "text": [
      "Best trial:\n",
      "  Value: 0.6840822337521837\n",
      "  Params: \n",
      "    lr_weight: 0.7886277759590068\n",
      "    rf_weight: 0.0806654784002276\n",
      "    lgbm_weight: 0.24218477351422812\n"
     ]
    }
   ],
   "source": [
    "# Load best params from last search from file\n",
    "# study=joblib.load(file_name)\n",
    "best = study.best_params\n",
    "\n",
    "print(\"Best trial:\")\n",
    "trial = study.best_trial\n",
    "\n",
    "print(\"  Value: {}\".format(trial.value))\n",
    "\n",
    "print(\"  Params: \")\n",
    "for key, value in trial.params.items():\n",
    "    print(\"    {}: {}\".format(key, value))"
   ]
  },
  {
   "cell_type": "code",
   "execution_count": 22,
   "metadata": {
    "ExecuteTime": {
     "end_time": "2021-06-15T18:50:33.481225Z",
     "start_time": "2021-06-15T18:49:41.189343Z"
    },
    "tags": []
   },
   "outputs": [
    {
     "name": "stdout",
     "output_type": "stream",
     "text": [
      "TRAIN\n",
      "               precision    recall  f1-score   support\n",
      "\n",
      "           0       0.96      0.70      0.81    122457\n",
      "           1       0.17      0.69      0.27     10473\n",
      "\n",
      "    accuracy                           0.70    132930\n",
      "   macro avg       0.56      0.70      0.54    132930\n",
      "weighted avg       0.90      0.70      0.77    132930\n",
      "\n",
      " Scores  on train : {'COST': 0.6840822337521837, 'AUC': 0.7460052198900853}\n",
      "TEST\n",
      "               precision    recall  f1-score   support\n",
      "\n",
      "           0       0.96      0.70      0.81     30615\n",
      "           1       0.16      0.65      0.25      2618\n",
      "\n",
      "    accuracy                           0.70     33233\n",
      "   macro avg       0.56      0.68      0.53     33233\n",
      "weighted avg       0.90      0.70      0.77     33233\n",
      "\n",
      " Scores  on test : {'COST': 0.6779602251127167}\n"
     ]
    },
    {
     "data": {
      "image/png": "[encoded data removed]",
      "text/plain": [
       "<Figure size 936x360 with 2 Axes>"
      ]
     },
     "metadata": {
      "needs_background": "light"
     },
     "output_type": "display_data"
    }
   ],
   "source": [
    "# print best results\n",
    "# print('Best custom_score = {} for {}'.format(study.best_value,best))\n",
    "\n",
    "# Initialize params\n",
    "params = {}\n",
    "\n",
    "# Logistic regression weight\n",
    "lr_weight = best['lr_weight']\n",
    "\n",
    "# Random Forest weight\n",
    "rf_weight = best['rf_weight']\n",
    "\n",
    "# LGBM weight\n",
    "lgbm_weight = best['lgbm_weight']\n",
    "\n",
    "params['weights'] = [lr_weight, rf_weight, lgbm_weight]\n",
    "    \n",
    "# set and fit with best params\n",
    "voting.set_params(**params)\n",
    "voting.fit(train, train_true)\n",
    "\n",
    "# print evaluation summary\n",
    "evaluate_estimator(voting,\n",
    "                   train,\n",
    "                   train_true,\n",
    "                   test,\n",
    "                   test_true,\n",
    "                   SCORER,\n",
    "                   cost,\n",
    "                   cv)#,\n",
    "#                    log=(LOG,run,'Modele/[Optimisation]/'))"
   ]
  },
  {
   "cell_type": "code",
   "execution_count": 23,
   "metadata": {
    "tags": []
   },
   "outputs": [
    {
     "data": {
      "image/png": "[encoded data removed]",
      "text/plain": [
       "<Figure size 432x288 with 1 Axes>"
      ]
     },
     "metadata": {
      "needs_background": "light"
     },
     "output_type": "display_data"
    }
   ],
   "source": [
    "# Distribution of prediction probabilities versus classes\n",
    "train_predicted_probas = voting.predict_proba(train)\n",
    "proba_distributions(train_true,train_predicted_probas,(LOG,run,'Modele/[Optimisation]/Train'))"
   ]
  },
  {
   "cell_type": "code",
   "execution_count": 24,
   "metadata": {
    "tags": []
   },
   "outputs": [
    {
     "data": {
      "image/png": "[encoded data removed]",
      "text/plain": [
       "<Figure size 432x288 with 1 Axes>"
      ]
     },
     "metadata": {
      "needs_background": "light"
     },
     "output_type": "display_data"
    }
   ],
   "source": [
    "# Distribution of prediction probabilities versus classes\n",
    "test_predicted_probas = voting.predict_proba(test)\n",
    "proba_distributions(test_true,test_predicted_probas,(LOG,run,'Modele/[Optimisation]/Test'))"
   ]
  },
  {
   "cell_type": "code",
   "execution_count": 25,
   "metadata": {},
   "outputs": [
    {
     "name": "stderr",
     "output_type": "stream",
     "text": [
      "[Parallel(n_jobs=-1)]: Using backend LokyBackend with 8 concurrent workers.\n",
      "[Parallel(n_jobs=-1)]: Done   7 out of  10 | elapsed:  1.4min remaining:   34.9s\n",
      "[Parallel(n_jobs=-1)]: Done  10 out of  10 | elapsed:  1.8min finished\n"
     ]
    },
    {
     "name": "stdout",
     "output_type": "stream",
     "text": [
      ">voting opt cv cost score mean: 0.6834 (± 0.0050) fitted in 64.914 s (± 20.088 s)\n"
     ]
    }
   ],
   "source": [
    "# evaluate a given model using cross-validation\n",
    "def evaluate_model(model, X, y):\n",
    "    cv_box = StratifiedKFold(n_splits=10, random_state=42, shuffle=True)\n",
    "    scores = cross_validate(model,\n",
    "                            X,\n",
    "                            y,\n",
    "                            scoring=SCORER,\n",
    "                            cv=cv_box,\n",
    "                            n_jobs=-1,\n",
    "                            error_score='raise',\n",
    "                            verbose=2)\n",
    "    return scores\n",
    "\n",
    "# # evaluate the models and store results\n",
    "model = clone(voting)\n",
    "name = 'voting opt'\n",
    "scores = evaluate_model(model, train, train_true)\n",
    "cost_scores = scores['test_COST']\n",
    "fitting_times = scores['fit_time']\n",
    "test_score = cost(test_true, voting.predict(test))\n",
    "print('>%s cv cost score mean: %.4f (\\u00B1 %.4f) fitted in %.3f s (\\u00B1 %.3f s)' % (name,\n",
    "                                                                                    cost_scores.mean(),\n",
    "                                                                                    cost_scores.std(),\n",
    "                                                                                    fitting_times.mean(),\n",
    "                                                                                    fitting_times.std()\n",
    "                                                                                   )\n",
    "     )\n",
    "train_cv = (cost_scores)\n",
    "fit_time_cv = (fitting_times)\n",
    "cost_test = (test_score)"
   ]
  },
  {
   "cell_type": "code",
   "execution_count": 26,
   "metadata": {},
   "outputs": [
    {
     "data": {
      "text/html": [
       "<style  type=\"text/css\" >\n",
       "#T_32db7_row0_col3,#T_32db7_row3_col6,#T_32db7_row4_col1,#T_32db7_row4_col2,#T_32db7_row4_col4,#T_32db7_row4_col5,#T_32db7_row4_col7{\n",
       "            background-color:  yellow;\n",
       "        }</style><table id=\"T_32db7_\" ><thead>    <tr>        <th class=\"blank level0\" ></th>        <th class=\"col_heading level0 col0\" >Model name</th>        <th class=\"col_heading level0 col1\" >Cost max</th>        <th class=\"col_heading level0 col2\" >Cost avr</th>        <th class=\"col_heading level0 col3\" >Cost min</th>        <th class=\"col_heading level0 col4\" >Fit time max</th>        <th class=\"col_heading level0 col5\" >Fit time avr</th>        <th class=\"col_heading level0 col6\" >Fit time min</th>        <th class=\"col_heading level0 col7\" >Cost on test</th>    </tr></thead><tbody>\n",
       "                <tr>\n",
       "                        <th id=\"T_32db7_level0_row0\" class=\"row_heading level0 row0\" >0</th>\n",
       "                        <td id=\"T_32db7_row0_col0\" class=\"data row0 col0\" >lr</td>\n",
       "                        <td id=\"T_32db7_row0_col1\" class=\"data row0 col1\" >0.690014</td>\n",
       "                        <td id=\"T_32db7_row0_col2\" class=\"data row0 col2\" >0.682146</td>\n",
       "                        <td id=\"T_32db7_row0_col3\" class=\"data row0 col3\" >0.677287</td>\n",
       "                        <td id=\"T_32db7_row0_col4\" class=\"data row0 col4\" >7.029810</td>\n",
       "                        <td id=\"T_32db7_row0_col5\" class=\"data row0 col5\" >6.485652</td>\n",
       "                        <td id=\"T_32db7_row0_col6\" class=\"data row0 col6\" >5.851279</td>\n",
       "                        <td id=\"T_32db7_row0_col7\" class=\"data row0 col7\" >0.676767</td>\n",
       "            </tr>\n",
       "            <tr>\n",
       "                        <th id=\"T_32db7_level0_row1\" class=\"row_heading level0 row1\" >1</th>\n",
       "                        <td id=\"T_32db7_row1_col0\" class=\"data row1 col0\" >rf</td>\n",
       "                        <td id=\"T_32db7_row1_col1\" class=\"data row1 col1\" >0.680991</td>\n",
       "                        <td id=\"T_32db7_row1_col2\" class=\"data row1 col2\" >0.677305</td>\n",
       "                        <td id=\"T_32db7_row1_col3\" class=\"data row1 col3\" >0.673058</td>\n",
       "                        <td id=\"T_32db7_row1_col4\" class=\"data row1 col4\" >23.517204</td>\n",
       "                        <td id=\"T_32db7_row1_col5\" class=\"data row1 col5\" >23.416173</td>\n",
       "                        <td id=\"T_32db7_row1_col6\" class=\"data row1 col6\" >23.286650</td>\n",
       "                        <td id=\"T_32db7_row1_col7\" class=\"data row1 col7\" >0.669508</td>\n",
       "            </tr>\n",
       "            <tr>\n",
       "                        <th id=\"T_32db7_level0_row2\" class=\"row_heading level0 row2\" >2</th>\n",
       "                        <td id=\"T_32db7_row2_col0\" class=\"data row2 col0\" >lgbm</td>\n",
       "                        <td id=\"T_32db7_row2_col1\" class=\"data row2 col1\" >0.685748</td>\n",
       "                        <td id=\"T_32db7_row2_col2\" class=\"data row2 col2\" >0.679020</td>\n",
       "                        <td id=\"T_32db7_row2_col3\" class=\"data row2 col3\" >0.672259</td>\n",
       "                        <td id=\"T_32db7_row2_col4\" class=\"data row2 col4\" >21.239125</td>\n",
       "                        <td id=\"T_32db7_row2_col5\" class=\"data row2 col5\" >20.026438</td>\n",
       "                        <td id=\"T_32db7_row2_col6\" class=\"data row2 col6\" >17.662413</td>\n",
       "                        <td id=\"T_32db7_row2_col7\" class=\"data row2 col7\" >0.672634</td>\n",
       "            </tr>\n",
       "            <tr>\n",
       "                        <th id=\"T_32db7_level0_row3\" class=\"row_heading level0 row3\" >3</th>\n",
       "                        <td id=\"T_32db7_row3_col0\" class=\"data row3 col0\" >voting</td>\n",
       "                        <td id=\"T_32db7_row3_col1\" class=\"data row3 col1\" >0.690058</td>\n",
       "                        <td id=\"T_32db7_row3_col2\" class=\"data row3 col2\" >0.681468</td>\n",
       "                        <td id=\"T_32db7_row3_col3\" class=\"data row3 col3\" >0.675021</td>\n",
       "                        <td id=\"T_32db7_row3_col4\" class=\"data row3 col4\" >49.934530</td>\n",
       "                        <td id=\"T_32db7_row3_col5\" class=\"data row3 col5\" >49.383652</td>\n",
       "                        <td id=\"T_32db7_row3_col6\" class=\"data row3 col6\" >48.693325</td>\n",
       "                        <td id=\"T_32db7_row3_col7\" class=\"data row3 col7\" >0.675663</td>\n",
       "            </tr>\n",
       "            <tr>\n",
       "                        <th id=\"T_32db7_level0_row4\" class=\"row_heading level0 row4\" >4</th>\n",
       "                        <td id=\"T_32db7_row4_col0\" class=\"data row4 col0\" >voting opt</td>\n",
       "                        <td id=\"T_32db7_row4_col1\" class=\"data row4 col1\" >0.691717</td>\n",
       "                        <td id=\"T_32db7_row4_col2\" class=\"data row4 col2\" >0.683358</td>\n",
       "                        <td id=\"T_32db7_row4_col3\" class=\"data row4 col3\" >0.675835</td>\n",
       "                        <td id=\"T_32db7_row4_col4\" class=\"data row4 col4\" >75.703902</td>\n",
       "                        <td id=\"T_32db7_row4_col5\" class=\"data row4 col5\" >64.913773</td>\n",
       "                        <td id=\"T_32db7_row4_col6\" class=\"data row4 col6\" >24.334318</td>\n",
       "                        <td id=\"T_32db7_row4_col7\" class=\"data row4 col7\" >0.677960</td>\n",
       "            </tr>\n",
       "    </tbody></table>"
      ],
      "text/plain": [
       "<pandas.io.formats.style.Styler at 0x7f88d28ba520>"
      ]
     },
     "execution_count": 26,
     "metadata": {},
     "output_type": "execute_result"
    }
   ],
   "source": [
    "Table_ensemble_stats = joblib.load('Results/all_stats.df')\n",
    "Table_ensemble_stats = Table_ensemble_stats.append({'Model name'   : name,\n",
    "                                                    'Cost max'     : train_cv.max(),\n",
    "                                                    'Cost avr'     : train_cv.mean(),\n",
    "                                                    'Cost min'     : train_cv.min(),\n",
    "                                                    'Fit time max' : fit_time_cv.max(),\n",
    "                                                    'Fit time avr' : fit_time_cv.mean(),\n",
    "                                                    'Fit time min' : fit_time_cv.min(),\n",
    "                                                    'Cost on test' : cost_test,\n",
    "                                                   }, ignore_index=True)\n",
    "\n",
    "Table_ensemble_stats.style.highlight_max()"
   ]
  },
  {
   "cell_type": "code",
   "execution_count": 27,
   "metadata": {},
   "outputs": [
    {
     "data": {
      "image/png": "[encoded data removed]",
      "text/plain": [
       "<Figure size 432x288 with 1 Axes>"
      ]
     },
     "metadata": {
      "needs_background": "light"
     },
     "output_type": "display_data"
    }
   ],
   "source": [
    "# load results from evaluation in Ensemble Voting out of bag notebook\n",
    "results_cv = joblib.load('Results/results.array')\n",
    "# append stats of voting optimized\n",
    "results_cv.append(train_cv)\n",
    "# plot model performance for comparison\n",
    "plt.boxplot(results_cv, labels=Table_ensemble_stats['Model name'], showmeans=True)\n",
    "plt.show()"
   ]
  },
  {
   "cell_type": "code",
   "execution_count": 28,
   "metadata": {},
   "outputs": [],
   "source": [
    "joblib.dump(Table_ensemble_stats, 'Results/all_stats_final.df')\n",
    "joblib.dump(results_cv, 'Results/results_final.array')\n",
    "if LOG:\n",
    "    run['Table_ensemble_stats'] = Table_ensemble_stats\n",
    "    run['Table_ensemble_stats_file'].upload('Results/all_stats_final.df')\n",
    "    \n",
    "    "
   ]
  },
  {
   "cell_type": "markdown",
   "metadata": {},
   "source": [
    "## Sauvegarde du modèle pour dasboard\n",
    "\n",
    "modèle fitté sur toutes les données disponibles"
   ]
  },
  {
   "cell_type": "code",
   "execution_count": 29,
   "metadata": {
    "tags": []
   },
   "outputs": [],
   "source": [
    "# Set the filename\n",
    "save_path = 'Models/'\n",
    "name= 'voting_optimized_fitted'\n",
    "file_name = name+'.mod'\n",
    "\n",
    "# Fit on whole datas\n",
    "voting.fit(features.drop('TARGET', axis=1), features.TARGET)\n",
    "\n",
    "# Write on disk\n",
    "joblib.dump(voting, save_path+file_name, compress=3) #('lzma',3))\n",
    "if LOG:\n",
    "    run['Best fitted model on all features jobilb'].upload(File(save_path+file_name))\n",
    "#     run['Best model fitted on all features pickle'].upload(File.as_pickle(file_named))"
   ]
  },
  {
   "cell_type": "code",
   "execution_count": 30,
   "metadata": {},
   "outputs": [
    {
     "name": "stdout",
     "output_type": "stream",
     "text": [
      "Shutting down background jobs, please wait a moment...\n",
      "Done!\n"
     ]
    },
    {
     "name": "stderr",
     "output_type": "stream",
     "text": [
      "Waiting for the remaining 4 operations to synchronize with Neptune. Do not kill this process.\n"
     ]
    },
    {
     "name": "stdout",
     "output_type": "stream",
     "text": [
      "All 4 operations synced, thanks for waiting!\n"
     ]
    }
   ],
   "source": [
    "run.stop()"
   ]
  },
  {
   "cell_type": "code",
   "execution_count": null,
   "metadata": {},
   "outputs": [],
   "source": []
  }
 ],
 "metadata": {
  "kernelspec": {
   "display_name": "Python 3",
   "language": "python",
   "name": "python3"
  },
  "language_info": {
   "codemirror_mode": {
    "name": "ipython",
    "version": 3
   },
   "file_extension": ".py",
   "mimetype": "text/x-python",
   "name": "python",
   "nbconvert_exporter": "python",
   "pygments_lexer": "ipython3",
   "version": "3.8.8"
  },
  "toc": {
   "base_numbering": 1,
   "nav_menu": {},
   "number_sections": true,
   "sideBar": true,
   "skip_h1_title": false,
   "title_cell": "Optimisation Voting Classifier",
   "title_sidebar": "Contents",
   "toc_cell": false,
   "toc_position": {},
   "toc_section_display": true,
   "toc_window_display": true
  }
 },
 "nbformat": 4,
 "nbformat_minor": 4
}
